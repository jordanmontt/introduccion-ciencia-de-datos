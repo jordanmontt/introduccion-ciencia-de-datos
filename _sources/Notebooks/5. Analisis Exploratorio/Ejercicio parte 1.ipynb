{
 "cells": [
  {
   "cell_type": "markdown",
   "metadata": {},
   "source": [
    "## Ejercicio\n",
    "\n",
    "Utilizando los datos sobre automoviles extraídos en un archivo csv via webscraping (están almacenados en un archivo csv en la misma ruta que este notebook), responda a las siguientes preguntas:\n",
    "\n",
    "1. [La asimetría de la variable `caballos_potencia` es negativa?](#1)\n",
    "2. [Entre las variables: `caballos_potencia`, `desplazamiento`, `mpg` y  `aceleracion`, ¿cuáles tienen valores atípicos en ambos extremos?](#2)\n",
    "3. [Entre las variables: `caballos_potencia`, `desplazamiento`, `mpg` y  `aceleracion`, ¿cuáles no tienen valores atípicos?](#3)\n",
    "4. [Entre las variables: `caballos_potencia`, `desplazamiento`, `mpg` y  `aceleracion`,, ¿cuáles son las variables con mayor y menor asimetría?](#4)\n",
    "5. [Entre las variables: `caballos_potencia`, `desplazamiento`, `mpg` y  `aceleracion`, muestre los valores atípicos de aquellas variables que los tengan en ambos extremos.](#5)"
   ]
  },
  {
   "cell_type": "code",
   "execution_count": 2,
   "metadata": {},
   "outputs": [
    {
     "data": {
      "text/plain": [
       "{'Europe': Int64Index([ 10,  25,  26,  27,  28,  29,  39,  57,  58,  59,  62,  66,  83,\n",
       "              84,  85,  86, 109, 121, 124, 125, 126, 127, 129, 148, 149, 150,\n",
       "             154, 155, 158, 179, 182, 184, 185, 186, 187, 189, 190, 193, 204,\n",
       "             210, 214, 216, 218, 225, 240, 247, 249, 251, 281, 282, 283, 284,\n",
       "             285, 300, 304, 306, 311, 316, 324, 332, 333, 334, 335, 337, 339,\n",
       "             342, 360, 361, 366, 367, 368, 383, 402],\n",
       "            dtype='int64'),\n",
       " 'Japan': Int64Index([ 20,  24,  35,  37,  60,  61,  64,  78,  88,  89,  91, 115, 117,\n",
       "             118, 130, 136, 138, 151, 152, 156, 157, 174, 178, 180, 188, 205,\n",
       "             211, 212, 217, 223, 227, 242, 246, 248, 250, 253, 254, 255, 274,\n",
       "             275, 277, 280, 286, 301, 310, 317, 319, 325, 326, 327, 328, 329,\n",
       "             331, 336, 338, 340, 341, 344, 350, 352, 353, 354, 355, 356, 362,\n",
       "             363, 364, 365, 369, 370, 384, 385, 388, 389, 390, 391, 392, 393,\n",
       "             398],\n",
       "            dtype='int64'),\n",
       " 'USA': Int64Index([  0,   1,   2,   3,   4,   5,   6,   7,   8,   9,\n",
       "             ...\n",
       "             394, 395, 396, 397, 399, 400, 401, 403, 404, 405],\n",
       "            dtype='int64', length=254)}"
      ]
     },
     "execution_count": 2,
     "metadata": {},
     "output_type": "execute_result"
    }
   ],
   "source": [
    "import os\n",
    "import pandas as pd\n",
    "import numpy as np\n",
    "import matplotlib.pyplot as plt\n",
    "import seaborn as sns\n",
    "\n",
    "automoviles = pd.read_csv('datos_automoviles.csv')\n",
    "automoviles.head()"
   ]
  },
  {
   "cell_type": "markdown",
   "metadata": {},
   "source": [
    "### 1. La asimetría de la variable `caballos_potencia` es negativa?\n",
    "<a id=\"1\"></a>"
   ]
  },
  {
   "cell_type": "code",
   "execution_count": 5,
   "metadata": {},
   "outputs": [
    {
     "name": "stdout",
     "output_type": "stream",
     "text": [
      "Asimetría de caballos_potencia\n"
     ]
    },
    {
     "data": {
      "text/plain": [
       "1.034079427703104"
      ]
     },
     "execution_count": 5,
     "metadata": {},
     "output_type": "execute_result"
    }
   ],
   "source": [
    "print('Asimetría de caballos_potencia')\n",
    "automoviles['caballos_potencia'].skew()"
   ]
  },
  {
   "cell_type": "markdown",
   "metadata": {},
   "source": [
    "### 2. Entre las variables: `caballos_potencia`, `desplazamiento`, `mpg` y  `aceleracion`, ¿cuáles tienen valores atípicos en ambos extremos?\n",
    "<a id=\"2\"></a>\n",
    "\n",
    "Para saber cúales variables tiene valores atípicos, se puede utilizar gráficos o métido el analítico. En este caso, se utilizarán gráficas de dos tipos:\n",
    "\n",
    "- Una será una gráfica de distribución donde se dibujarán líneas verticales a la altura de ambos valores atípicos.\n",
    "- La otra, un *gráfico de caja* el cual nos señala mediante un círculo si existen o no valores atípicos\n",
    "\n",
    "Cabe resaltar que la primera manera no indica de manera precisa la existencia de valores atípicos, pero se lo muestra por propósitos ilustrativos. En cambio, el *gráfico de caja* si indica con exactidud si existen o no valores atípicos."
   ]
  },
  {
   "cell_type": "code",
   "execution_count": 21,
   "metadata": {},
   "outputs": [],
   "source": [
    "def graficar_distribucion_con_valores_atipicos(columna):\n",
    "    q1 = automoviles.describe()[columna]['25%']\n",
    "    q3 = automoviles.describe()[columna]['75%']\n",
    "    iqr = q3 - q1\n",
    "    limite_derecho = q3 + 1.5 * iqr\n",
    "    limite_izquierdo = q1 - 1.5 * iqr\n",
    "\n",
    "    sns.kdeplot(automoviles[columna], shade=True)\n",
    "    plt.axvline( limite_derecho, color='b')\n",
    "    plt.axvline( limite_izquierdo, color='b')"
   ]
  },
  {
   "cell_type": "markdown",
   "metadata": {},
   "source": [
    "#### 2.1 Valores atípicos `caballos_potencia`"
   ]
  },
  {
   "cell_type": "code",
   "execution_count": 22,
   "metadata": {},
   "outputs": [
    {
     "data": {
      "image/png": "[encoded data removed]",
      "text/plain": [
       "<Figure size 432x288 with 1 Axes>"
      ]
     },
     "metadata": {
      "needs_background": "light"
     },
     "output_type": "display_data"
    }
   ],
   "source": [
    "graficar_distribucion_con_valores_atipicos('caballos_potencia')"
   ]
  },
  {
   "cell_type": "code",
   "execution_count": 23,
   "metadata": {},
   "outputs": [
    {
     "data": {
      "text/plain": [
       "<matplotlib.axes._subplots.AxesSubplot at 0x7f6bd685fc50>"
      ]
     },
     "execution_count": 23,
     "metadata": {},
     "output_type": "execute_result"
    },
    {
     "data": {
      "image/png": "[encoded data removed]",
      "text/plain": [
       "<Figure size 432x288 with 1 Axes>"
      ]
     },
     "metadata": {
      "needs_background": "light"
     },
     "output_type": "display_data"
    }
   ],
   "source": [
    "automoviles['caballos_potencia'].plot.box()"
   ]
  },
  {
   "cell_type": "markdown",
   "metadata": {},
   "source": [
    "#### 2.2 Valores atípicos `desplazamiento`"
   ]
  },
  {
   "cell_type": "code",
   "execution_count": 12,
   "metadata": {},
   "outputs": [
    {
     "data": {
      "image/png": "[encoded data removed]",
      "text/plain": [
       "<Figure size 432x288 with 1 Axes>"
      ]
     },
     "metadata": {
      "needs_background": "light"
     },
     "output_type": "display_data"
    }
   ],
   "source": [
    "graficar_distribucion_con_valores_atipicos('desplazamiento')"
   ]
  },
  {
   "cell_type": "code",
   "execution_count": 13,
   "metadata": {},
   "outputs": [
    {
     "data": {
      "text/plain": [
       "<matplotlib.axes._subplots.AxesSubplot at 0x7f6bd614bd90>"
      ]
     },
     "execution_count": 13,
     "metadata": {},
     "output_type": "execute_result"
    },
    {
     "data": {
      "image/png": "[encoded data removed]",
      "text/plain": [
       "<Figure size 432x288 with 1 Axes>"
      ]
     },
     "metadata": {
      "needs_background": "light"
     },
     "output_type": "display_data"
    }
   ],
   "source": [
    "automoviles['desplazamiento'].plot.box()"
   ]
  },
  {
   "cell_type": "markdown",
   "metadata": {},
   "source": [
    "#### 2.3 Valores atípicos `mpg`"
   ]
  },
  {
   "cell_type": "code",
   "execution_count": 16,
   "metadata": {},
   "outputs": [
    {
     "data": {
      "image/png": "[encoded data removed]",
      "text/plain": [
       "<Figure size 432x288 with 1 Axes>"
      ]
     },
     "metadata": {
      "needs_background": "light"
     },
     "output_type": "display_data"
    }
   ],
   "source": [
    "graficar_distribucion_con_valores_atipicos('mpg')"
   ]
  },
  {
   "cell_type": "code",
   "execution_count": 17,
   "metadata": {},
   "outputs": [
    {
     "data": {
      "text/plain": [
       "<matplotlib.axes._subplots.AxesSubplot at 0x7f6bd64e5290>"
      ]
     },
     "execution_count": 17,
     "metadata": {},
     "output_type": "execute_result"
    },
    {
     "data": {
      "image/png": "[encoded data removed]",
      "text/plain": [
       "<Figure size 432x288 with 1 Axes>"
      ]
     },
     "metadata": {
      "needs_background": "light"
     },
     "output_type": "display_data"
    }
   ],
   "source": [
    "automoviles['mpg'].plot.box()"
   ]
  },
  {
   "cell_type": "markdown",
   "metadata": {},
   "source": [
    "#### 2.4 Valores atípicos `aceleracion`"
   ]
  },
  {
   "cell_type": "code",
   "execution_count": 18,
   "metadata": {},
   "outputs": [
    {
     "data": {
      "image/png": "[encoded data removed]",
      "text/plain": [
       "<Figure size 432x288 with 1 Axes>"
      ]
     },
     "metadata": {
      "needs_background": "light"
     },
     "output_type": "display_data"
    }
   ],
   "source": [
    "graficar_distribucion_con_valores_atipicos('aceleracion')"
   ]
  },
  {
   "cell_type": "code",
   "execution_count": 19,
   "metadata": {},
   "outputs": [
    {
     "data": {
      "text/plain": [
       "<matplotlib.axes._subplots.AxesSubplot at 0x7f6bd6225410>"
      ]
     },
     "execution_count": 19,
     "metadata": {},
     "output_type": "execute_result"
    },
    {
     "data": {
      "image/png": "[encoded data removed]",
      "text/plain": [
       "<Figure size 432x288 with 1 Axes>"
      ]
     },
     "metadata": {
      "needs_background": "light"
     },
     "output_type": "display_data"
    }
   ],
   "source": [
    "automoviles['aceleracion'].plot.box()"
   ]
  },
  {
   "cell_type": "markdown",
   "metadata": {},
   "source": [
    "#### Respuesta pregunta 2: la `aceleración` es la única variable que tiene valores atípicos en ambos extremos"
   ]
  },
  {
   "cell_type": "markdown",
   "metadata": {},
   "source": [
    "### 3. Entre las variables:  `caballos_potencia`, `desplazamiento`, `mpg` y  `aceleracion`, ¿cuáles no tienen valores atípicos?\n",
    "<a id=\"3\"></a>\n",
    "\n",
    "Sobre la base de los gráficos hechos en el anterior inciso, `desplazamiento` es la variable que no tiene valores atípicos"
   ]
  },
  {
   "cell_type": "markdown",
   "metadata": {},
   "source": [
    "### 4. Entre las variables:  `caballos_potencia`, `desplazamiento`, `mpg` y  `aceleracion`, ¿cuáles son las variables con mayor y menor asimetría?\n",
    "<a id=\"4\"></a>"
   ]
  },
  {
   "cell_type": "code",
   "execution_count": 27,
   "metadata": {},
   "outputs": [
    {
     "name": "stdout",
     "output_type": "stream",
     "text": [
      "caballos_potencia:  1.034079427703104\n",
      "desplazamiento:  0.6941299865999901\n",
      "mpg:  0.45706634399491936\n",
      "aceleracion: 0.23022375946556034\n"
     ]
    }
   ],
   "source": [
    "print('caballos_potencia: ', automoviles['caballos_potencia'].skew())\n",
    "print('desplazamiento: ', automoviles['desplazamiento'].skew())\n",
    "print('mpg: ', automoviles['mpg'].skew())\n",
    "print('aceleracion:', automoviles['aceleracion'].skew())"
   ]
  },
  {
   "cell_type": "markdown",
   "metadata": {},
   "source": [
    "### 5. Entre las variables:  `caballos_potencia`, `desplazamiento`, `mpg` y  `aceleracion`, muestre los valores atípicos de aquellas variables que los tengan en ambos extremos.\n",
    "<a id=\"5\"></a>\n",
    "\n",
    "Como se pudo observar en el __[inciso 2](#2)__ la variable `aceleracion` es la única que tiene valores atípicos en ambos extremos."
   ]
  },
  {
   "cell_type": "code",
   "execution_count": 31,
   "metadata": {},
   "outputs": [],
   "source": [
    "q1 = automoviles.describe()['aceleracion']['25%']\n",
    "q3 = automoviles.describe()['aceleracion']['75%']\n",
    "iqr = q3 - q1\n",
    "limite_derecho = q3 + 1.5 * iqr\n",
    "limite_izquierdo = q1 - 1.5 * iqr"
   ]
  },
  {
   "cell_type": "markdown",
   "metadata": {},
   "source": [
    "Valores atípicos menores o iguales al límite inferior:"
   ]
  },
  {
   "cell_type": "code",
   "execution_count": 32,
   "metadata": {},
   "outputs": [
    {
     "data": {
      "text/html": [
       "<div>\n",
       "<style scoped>\n",
       "    .dataframe tbody tr th:only-of-type {\n",
       "        vertical-align: middle;\n",
       "    }\n",
       "\n",
       "    .dataframe tbody tr th {\n",
       "        vertical-align: top;\n",
       "    }\n",
       "\n",
       "    .dataframe thead th {\n",
       "        text-align: right;\n",
       "    }\n",
       "</style>\n",
       "<table border=\"1\" class=\"dataframe\">\n",
       "  <thead>\n",
       "    <tr style=\"text-align: right;\">\n",
       "      <th></th>\n",
       "      <th>nombre</th>\n",
       "      <th>cilindros</th>\n",
       "      <th>peso</th>\n",
       "      <th>anio</th>\n",
       "      <th>territorio</th>\n",
       "      <th>aceleracion</th>\n",
       "      <th>mpg</th>\n",
       "      <th>caballos_potencia</th>\n",
       "      <th>desplazamiento</th>\n",
       "    </tr>\n",
       "  </thead>\n",
       "  <tbody>\n",
       "    <tr>\n",
       "      <th>16</th>\n",
       "      <td>Plymouth 'Cuda 340</td>\n",
       "      <td>8</td>\n",
       "      <td>3609</td>\n",
       "      <td>1970</td>\n",
       "      <td>USA</td>\n",
       "      <td>8.0</td>\n",
       "      <td>14.0</td>\n",
       "      <td>160.0</td>\n",
       "      <td>340.0</td>\n",
       "    </tr>\n",
       "    <tr>\n",
       "      <th>17</th>\n",
       "      <td>Ford Mustang Boss 302</td>\n",
       "      <td>8</td>\n",
       "      <td>3353</td>\n",
       "      <td>1970</td>\n",
       "      <td>USA</td>\n",
       "      <td>8.0</td>\n",
       "      <td>NaN</td>\n",
       "      <td>140.0</td>\n",
       "      <td>302.0</td>\n",
       "    </tr>\n",
       "  </tbody>\n",
       "</table>\n",
       "</div>"
      ],
      "text/plain": [
       "                   nombre  cilindros  peso  anio territorio  aceleracion  \\\n",
       "16     Plymouth 'Cuda 340          8  3609  1970        USA          8.0   \n",
       "17  Ford Mustang Boss 302          8  3353  1970        USA          8.0   \n",
       "\n",
       "     mpg  caballos_potencia  desplazamiento  \n",
       "16  14.0              160.0           340.0  \n",
       "17   NaN              140.0           302.0  "
      ]
     },
     "execution_count": 32,
     "metadata": {},
     "output_type": "execute_result"
    }
   ],
   "source": [
    "automoviles.loc[automoviles['aceleracion'] <= limite_izquierdo]"
   ]
  },
  {
   "cell_type": "markdown",
   "metadata": {},
   "source": [
    "Valores atípicos mayores o iguales al límite superior:"
   ]
  },
  {
   "cell_type": "code",
   "execution_count": 33,
   "metadata": {},
   "outputs": [
    {
     "data": {
      "text/html": [
       "<div>\n",
       "<style scoped>\n",
       "    .dataframe tbody tr th:only-of-type {\n",
       "        vertical-align: middle;\n",
       "    }\n",
       "\n",
       "    .dataframe tbody tr th {\n",
       "        vertical-align: top;\n",
       "    }\n",
       "\n",
       "    .dataframe thead th {\n",
       "        text-align: right;\n",
       "    }\n",
       "</style>\n",
       "<table border=\"1\" class=\"dataframe\">\n",
       "  <thead>\n",
       "    <tr style=\"text-align: right;\">\n",
       "      <th></th>\n",
       "      <th>nombre</th>\n",
       "      <th>cilindros</th>\n",
       "      <th>peso</th>\n",
       "      <th>anio</th>\n",
       "      <th>territorio</th>\n",
       "      <th>aceleracion</th>\n",
       "      <th>mpg</th>\n",
       "      <th>caballos_potencia</th>\n",
       "      <th>desplazamiento</th>\n",
       "    </tr>\n",
       "  </thead>\n",
       "  <tbody>\n",
       "    <tr>\n",
       "      <th>66</th>\n",
       "      <td>Volkswagen Type 3</td>\n",
       "      <td>4</td>\n",
       "      <td>2254</td>\n",
       "      <td>1972</td>\n",
       "      <td>Europe</td>\n",
       "      <td>23.5</td>\n",
       "      <td>23.0</td>\n",
       "      <td>54.0</td>\n",
       "      <td>97.0</td>\n",
       "    </tr>\n",
       "    <tr>\n",
       "      <th>306</th>\n",
       "      <td>Peugeot 504</td>\n",
       "      <td>4</td>\n",
       "      <td>3190</td>\n",
       "      <td>1979</td>\n",
       "      <td>Europe</td>\n",
       "      <td>24.8</td>\n",
       "      <td>27.2</td>\n",
       "      <td>71.0</td>\n",
       "      <td>141.0</td>\n",
       "    </tr>\n",
       "    <tr>\n",
       "      <th>333</th>\n",
       "      <td>Vw Dasher (Diesel)</td>\n",
       "      <td>4</td>\n",
       "      <td>2335</td>\n",
       "      <td>1980</td>\n",
       "      <td>Europe</td>\n",
       "      <td>23.7</td>\n",
       "      <td>43.4</td>\n",
       "      <td>48.0</td>\n",
       "      <td>90.0</td>\n",
       "    </tr>\n",
       "    <tr>\n",
       "      <th>402</th>\n",
       "      <td>Vw Pickup</td>\n",
       "      <td>4</td>\n",
       "      <td>2130</td>\n",
       "      <td>1982</td>\n",
       "      <td>Europe</td>\n",
       "      <td>24.6</td>\n",
       "      <td>44.0</td>\n",
       "      <td>52.0</td>\n",
       "      <td>97.0</td>\n",
       "    </tr>\n",
       "  </tbody>\n",
       "</table>\n",
       "</div>"
      ],
      "text/plain": [
       "                 nombre  cilindros  peso  anio territorio  aceleracion   mpg  \\\n",
       "66    Volkswagen Type 3          4  2254  1972     Europe         23.5  23.0   \n",
       "306         Peugeot 504          4  3190  1979     Europe         24.8  27.2   \n",
       "333  Vw Dasher (Diesel)          4  2335  1980     Europe         23.7  43.4   \n",
       "402           Vw Pickup          4  2130  1982     Europe         24.6  44.0   \n",
       "\n",
       "     caballos_potencia  desplazamiento  \n",
       "66                54.0            97.0  \n",
       "306               71.0           141.0  \n",
       "333               48.0            90.0  \n",
       "402               52.0            97.0  "
      ]
     },
     "execution_count": 33,
     "metadata": {},
     "output_type": "execute_result"
    }
   ],
   "source": [
    "automoviles.loc[automoviles['aceleracion'] >= limite_derecho]"
   ]
  },
  {
   "cell_type": "markdown",
   "metadata": {},
   "source": [
    "- Hay alguna relacion entre el territorio y los caballos de potencia?\n",
    "- Hay correlación entre los caballos de potencia y las millas por galón? \n",
    "- Si existe es un relación, ambas variables se mueven en la misma dirección?\n",
    "- Compruebe la dirección de la relación con una visualización."
   ]
  },
  {
   "cell_type": "code",
   "execution_count": 44,
   "metadata": {},
   "outputs": [
    {
     "ename": "ValueError",
     "evalue": "The truth value of a Series is ambiguous. Use a.empty, a.bool(), a.item(), a.any() or a.all().",
     "output_type": "error",
     "traceback": [
      "\u001b[0;31m---------------------------------------------------------------------------\u001b[0m",
      "\u001b[0;31mValueError\u001b[0m                                Traceback (most recent call last)",
      "\u001b[0;32m<ipython-input-44-be6ed0b1feb8>\u001b[0m in \u001b[0;36m<module>\u001b[0;34m\u001b[0m\n\u001b[1;32m     13\u001b[0m \u001b[0;34m\u001b[0m\u001b[0m\n\u001b[1;32m     14\u001b[0m \u001b[0;34m\u001b[0m\u001b[0m\n\u001b[0;32m---> 15\u001b[0;31m \u001b[0mdata\u001b[0m\u001b[0;34m[\u001b[0m\u001b[0;34m'territorio_num'\u001b[0m\u001b[0;34m]\u001b[0m \u001b[0;34m=\u001b[0m \u001b[0mterritorio_escrito_a_num\u001b[0m\u001b[0;34m(\u001b[0m\u001b[0mdata\u001b[0m\u001b[0;34m[\u001b[0m\u001b[0;34m'territorio'\u001b[0m\u001b[0;34m]\u001b[0m\u001b[0;34m)\u001b[0m\u001b[0;34m\u001b[0m\u001b[0;34m\u001b[0m\u001b[0m\n\u001b[0m\u001b[1;32m     16\u001b[0m \u001b[0mdata\u001b[0m\u001b[0;34m\u001b[0m\u001b[0;34m\u001b[0m\u001b[0m\n",
      "\u001b[0;32m<ipython-input-44-be6ed0b1feb8>\u001b[0m in \u001b[0;36mterritorio_escrito_a_num\u001b[0;34m(territorio)\u001b[0m\n\u001b[1;32m      3\u001b[0m \u001b[0;34m\u001b[0m\u001b[0m\n\u001b[1;32m      4\u001b[0m \u001b[0;32mdef\u001b[0m \u001b[0mterritorio_escrito_a_num\u001b[0m\u001b[0;34m(\u001b[0m\u001b[0mterritorio\u001b[0m\u001b[0;34m)\u001b[0m\u001b[0;34m:\u001b[0m\u001b[0;34m\u001b[0m\u001b[0;34m\u001b[0m\u001b[0m\n\u001b[0;32m----> 5\u001b[0;31m     \u001b[0;32mif\u001b[0m \u001b[0mterritorio\u001b[0m \u001b[0;34m==\u001b[0m \u001b[0mserie_paises\u001b[0m\u001b[0;34m[\u001b[0m\u001b[0;36m1\u001b[0m\u001b[0;34m]\u001b[0m\u001b[0;34m:\u001b[0m\u001b[0;34m\u001b[0m\u001b[0;34m\u001b[0m\u001b[0m\n\u001b[0m\u001b[1;32m      6\u001b[0m         \u001b[0;32mreturn\u001b[0m \u001b[0;36m1\u001b[0m\u001b[0;34m\u001b[0m\u001b[0;34m\u001b[0m\u001b[0m\n\u001b[1;32m      7\u001b[0m     \u001b[0;32melif\u001b[0m \u001b[0mterritorio\u001b[0m \u001b[0;34m==\u001b[0m \u001b[0mserie_paises\u001b[0m\u001b[0;34m[\u001b[0m\u001b[0;36m2\u001b[0m\u001b[0;34m]\u001b[0m\u001b[0;34m:\u001b[0m\u001b[0;34m\u001b[0m\u001b[0;34m\u001b[0m\u001b[0m\n",
      "\u001b[0;32m/opt/anaconda3/lib/python3.7/site-packages/pandas/core/generic.py\u001b[0m in \u001b[0;36m__nonzero__\u001b[0;34m(self)\u001b[0m\n\u001b[1;32m   1553\u001b[0m             \u001b[0;34m\"The truth value of a {0} is ambiguous. \"\u001b[0m\u001b[0;34m\u001b[0m\u001b[0;34m\u001b[0m\u001b[0m\n\u001b[1;32m   1554\u001b[0m             \"Use a.empty, a.bool(), a.item(), a.any() or a.all().\".format(\n\u001b[0;32m-> 1555\u001b[0;31m                 \u001b[0mself\u001b[0m\u001b[0;34m.\u001b[0m\u001b[0m__class__\u001b[0m\u001b[0;34m.\u001b[0m\u001b[0m__name__\u001b[0m\u001b[0;34m\u001b[0m\u001b[0;34m\u001b[0m\u001b[0m\n\u001b[0m\u001b[1;32m   1556\u001b[0m             )\n\u001b[1;32m   1557\u001b[0m         )\n",
      "\u001b[0;31mValueError\u001b[0m: The truth value of a Series is ambiguous. Use a.empty, a.bool(), a.item(), a.any() or a.all()."
     ]
    }
   ],
   "source": [
    "\n",
    "\n",
    "def territorio_escrito_a_num(territorio):\n",
    "    if territorio == serie_paises[1]:\n",
    "        return 1\n",
    "    elif territorio == serie_paises[2]:\n",
    "        return 2\n",
    "    elif territorio == serie_paises[3]:\n",
    "        return 3\n",
    "        \n",
    "  \n",
    "\n",
    "\n",
    "data['territorio_num'] = territorio_escrito_a_num(data['territorio'])\n",
    "data"
   ]
  },
  {
   "cell_type": "code",
   "execution_count": 42,
   "metadata": {},
   "outputs": [
    {
     "data": {
      "text/plain": [
       "1       USA\n",
       "2    Europe\n",
       "3     Japan\n",
       "dtype: object"
      ]
     },
     "execution_count": 42,
     "metadata": {},
     "output_type": "execute_result"
    }
   ],
   "source": [
    "\n"
   ]
  },
  {
   "cell_type": "code",
   "execution_count": 10,
   "metadata": {},
   "outputs": [
    {
     "data": {
      "text/html": [
       "<div>\n",
       "<style scoped>\n",
       "    .dataframe tbody tr th:only-of-type {\n",
       "        vertical-align: middle;\n",
       "    }\n",
       "\n",
       "    .dataframe tbody tr th {\n",
       "        vertical-align: top;\n",
       "    }\n",
       "\n",
       "    .dataframe thead th {\n",
       "        text-align: right;\n",
       "    }\n",
       "</style>\n",
       "<table border=\"1\" class=\"dataframe\">\n",
       "  <thead>\n",
       "    <tr style=\"text-align: right;\">\n",
       "      <th></th>\n",
       "      <th>cilindros</th>\n",
       "      <th>peso</th>\n",
       "      <th>anio</th>\n",
       "      <th>aceleracion</th>\n",
       "      <th>mpg</th>\n",
       "      <th>caballos_potencia</th>\n",
       "      <th>desplazamiento</th>\n",
       "    </tr>\n",
       "  </thead>\n",
       "  <tbody>\n",
       "    <tr>\n",
       "      <td>cilindros</td>\n",
       "      <td>1.000000</td>\n",
       "      <td>0.895220</td>\n",
       "      <td>-0.360762</td>\n",
       "      <td>-0.522452</td>\n",
       "      <td>-0.775396</td>\n",
       "      <td>0.844158</td>\n",
       "      <td>0.951787</td>\n",
       "    </tr>\n",
       "    <tr>\n",
       "      <td>peso</td>\n",
       "      <td>0.895220</td>\n",
       "      <td>1.000000</td>\n",
       "      <td>-0.315389</td>\n",
       "      <td>-0.430086</td>\n",
       "      <td>-0.831741</td>\n",
       "      <td>0.866586</td>\n",
       "      <td>0.932475</td>\n",
       "    </tr>\n",
       "    <tr>\n",
       "      <td>anio</td>\n",
       "      <td>-0.360762</td>\n",
       "      <td>-0.315389</td>\n",
       "      <td>1.000000</td>\n",
       "      <td>0.301992</td>\n",
       "      <td>0.579267</td>\n",
       "      <td>-0.424419</td>\n",
       "      <td>-0.381714</td>\n",
       "    </tr>\n",
       "    <tr>\n",
       "      <td>aceleracion</td>\n",
       "      <td>-0.522452</td>\n",
       "      <td>-0.430086</td>\n",
       "      <td>0.301992</td>\n",
       "      <td>1.000000</td>\n",
       "      <td>0.420289</td>\n",
       "      <td>-0.697124</td>\n",
       "      <td>-0.557984</td>\n",
       "    </tr>\n",
       "    <tr>\n",
       "      <td>mpg</td>\n",
       "      <td>-0.775396</td>\n",
       "      <td>-0.831741</td>\n",
       "      <td>0.579267</td>\n",
       "      <td>0.420289</td>\n",
       "      <td>1.000000</td>\n",
       "      <td>-0.778427</td>\n",
       "      <td>-0.804203</td>\n",
       "    </tr>\n",
       "    <tr>\n",
       "      <td>caballos_potencia</td>\n",
       "      <td>0.844158</td>\n",
       "      <td>0.866586</td>\n",
       "      <td>-0.424419</td>\n",
       "      <td>-0.697124</td>\n",
       "      <td>-0.778427</td>\n",
       "      <td>1.000000</td>\n",
       "      <td>0.898326</td>\n",
       "    </tr>\n",
       "    <tr>\n",
       "      <td>desplazamiento</td>\n",
       "      <td>0.951787</td>\n",
       "      <td>0.932475</td>\n",
       "      <td>-0.381714</td>\n",
       "      <td>-0.557984</td>\n",
       "      <td>-0.804203</td>\n",
       "      <td>0.898326</td>\n",
       "      <td>1.000000</td>\n",
       "    </tr>\n",
       "  </tbody>\n",
       "</table>\n",
       "</div>"
      ],
      "text/plain": [
       "                   cilindros      peso      anio  aceleracion       mpg  \\\n",
       "cilindros           1.000000  0.895220 -0.360762    -0.522452 -0.775396   \n",
       "peso                0.895220  1.000000 -0.315389    -0.430086 -0.831741   \n",
       "anio               -0.360762 -0.315389  1.000000     0.301992  0.579267   \n",
       "aceleracion        -0.522452 -0.430086  0.301992     1.000000  0.420289   \n",
       "mpg                -0.775396 -0.831741  0.579267     0.420289  1.000000   \n",
       "caballos_potencia   0.844158  0.866586 -0.424419    -0.697124 -0.778427   \n",
       "desplazamiento      0.951787  0.932475 -0.381714    -0.557984 -0.804203   \n",
       "\n",
       "                   caballos_potencia  desplazamiento  \n",
       "cilindros                   0.844158        0.951787  \n",
       "peso                        0.866586        0.932475  \n",
       "anio                       -0.424419       -0.381714  \n",
       "aceleracion                -0.697124       -0.557984  \n",
       "mpg                        -0.778427       -0.804203  \n",
       "caballos_potencia           1.000000        0.898326  \n",
       "desplazamiento              0.898326        1.000000  "
      ]
     },
     "execution_count": 10,
     "metadata": {},
     "output_type": "execute_result"
    }
   ],
   "source": [
    "data.corr()"
   ]
  },
  {
   "cell_type": "markdown",
   "metadata": {},
   "source": [
    "Los caballos de potención tienen una relación con las millas por galón, debido el valor de correlación es 0.77 y es próximo a -1. Lo cual indica una relación inversa."
   ]
  },
  {
   "cell_type": "code",
   "execution_count": 13,
   "metadata": {},
   "outputs": [
    {
     "data": {
      "text/plain": [
       "<matplotlib.axes._subplots.AxesSubplot at 0x109897c90>"
      ]
     },
     "execution_count": 13,
     "metadata": {},
     "output_type": "execute_result"
    },
    {
     "data": {
      "image/png": "[encoded data removed]",
      "text/plain": [
       "<Figure size 432x288 with 1 Axes>"
      ]
     },
     "metadata": {
      "needs_background": "light"
     },
     "output_type": "display_data"
    }
   ],
   "source": [
    "\n",
    "data.plot.scatter(x='caballos_potencia', y='mpg', color='c', title='scatter plot : Tip by Total bill', alpha=0.1)\n"
   ]
  },
  {
   "cell_type": "markdown",
   "metadata": {},
   "source": [
    "No se mueven en la misma dirección"
   ]
  },
  {
   "cell_type": "code",
   "execution_count": 11,
   "metadata": {},
   "outputs": [
    {
     "data": {
      "text/html": [
       "<div>\n",
       "<style scoped>\n",
       "    .dataframe tbody tr th:only-of-type {\n",
       "        vertical-align: middle;\n",
       "    }\n",
       "\n",
       "    .dataframe tbody tr th {\n",
       "        vertical-align: top;\n",
       "    }\n",
       "\n",
       "    .dataframe thead th {\n",
       "        text-align: right;\n",
       "    }\n",
       "</style>\n",
       "<table border=\"1\" class=\"dataframe\">\n",
       "  <thead>\n",
       "    <tr style=\"text-align: right;\">\n",
       "      <th></th>\n",
       "      <th>cilindros</th>\n",
       "      <th>peso</th>\n",
       "      <th>anio</th>\n",
       "      <th>aceleracion</th>\n",
       "      <th>mpg</th>\n",
       "      <th>caballos_potencia</th>\n",
       "      <th>desplazamiento</th>\n",
       "    </tr>\n",
       "  </thead>\n",
       "  <tbody>\n",
       "    <tr>\n",
       "      <td>cilindros</td>\n",
       "      <td>2.931491</td>\n",
       "      <td>1298.254662</td>\n",
       "      <td>-2.315526</td>\n",
       "      <td>-2.507662</td>\n",
       "      <td>-10.308911</td>\n",
       "      <td>56.184831</td>\n",
       "      <td>170.982829</td>\n",
       "    </tr>\n",
       "    <tr>\n",
       "      <td>peso</td>\n",
       "      <td>1298.254662</td>\n",
       "      <td>717416.332056</td>\n",
       "      <td>-1001.421626</td>\n",
       "      <td>-1021.220272</td>\n",
       "      <td>-5505.211745</td>\n",
       "      <td>28538.206404</td>\n",
       "      <td>82868.813665</td>\n",
       "    </tr>\n",
       "    <tr>\n",
       "      <td>anio</td>\n",
       "      <td>-2.315526</td>\n",
       "      <td>-1001.421626</td>\n",
       "      <td>14.053032</td>\n",
       "      <td>3.173656</td>\n",
       "      <td>16.741163</td>\n",
       "      <td>-61.462080</td>\n",
       "      <td>-150.138405</td>\n",
       "    </tr>\n",
       "    <tr>\n",
       "      <td>aceleracion</td>\n",
       "      <td>-2.507662</td>\n",
       "      <td>-1021.220272</td>\n",
       "      <td>3.173656</td>\n",
       "      <td>7.858821</td>\n",
       "      <td>9.058930</td>\n",
       "      <td>-75.801907</td>\n",
       "      <td>-164.122683</td>\n",
       "    </tr>\n",
       "    <tr>\n",
       "      <td>mpg</td>\n",
       "      <td>-10.308911</td>\n",
       "      <td>-5505.211745</td>\n",
       "      <td>16.741163</td>\n",
       "      <td>9.058930</td>\n",
       "      <td>61.089611</td>\n",
       "      <td>-233.857926</td>\n",
       "      <td>-655.402318</td>\n",
       "    </tr>\n",
       "    <tr>\n",
       "      <td>caballos_potencia</td>\n",
       "      <td>56.184831</td>\n",
       "      <td>28538.206404</td>\n",
       "      <td>-61.462080</td>\n",
       "      <td>-75.801907</td>\n",
       "      <td>-233.857926</td>\n",
       "      <td>1503.018239</td>\n",
       "      <td>3666.724846</td>\n",
       "    </tr>\n",
       "    <tr>\n",
       "      <td>desplazamiento</td>\n",
       "      <td>170.982829</td>\n",
       "      <td>82868.813665</td>\n",
       "      <td>-150.138405</td>\n",
       "      <td>-164.122683</td>\n",
       "      <td>-655.402318</td>\n",
       "      <td>3666.724846</td>\n",
       "      <td>11008.722272</td>\n",
       "    </tr>\n",
       "  </tbody>\n",
       "</table>\n",
       "</div>"
      ],
      "text/plain": [
       "                     cilindros           peso         anio  aceleracion  \\\n",
       "cilindros             2.931491    1298.254662    -2.315526    -2.507662   \n",
       "peso               1298.254662  717416.332056 -1001.421626 -1021.220272   \n",
       "anio                 -2.315526   -1001.421626    14.053032     3.173656   \n",
       "aceleracion          -2.507662   -1021.220272     3.173656     7.858821   \n",
       "mpg                 -10.308911   -5505.211745    16.741163     9.058930   \n",
       "caballos_potencia    56.184831   28538.206404   -61.462080   -75.801907   \n",
       "desplazamiento      170.982829   82868.813665  -150.138405  -164.122683   \n",
       "\n",
       "                           mpg  caballos_potencia  desplazamiento  \n",
       "cilindros           -10.308911          56.184831      170.982829  \n",
       "peso              -5505.211745       28538.206404    82868.813665  \n",
       "anio                 16.741163         -61.462080     -150.138405  \n",
       "aceleracion           9.058930         -75.801907     -164.122683  \n",
       "mpg                  61.089611        -233.857926     -655.402318  \n",
       "caballos_potencia  -233.857926        1503.018239     3666.724846  \n",
       "desplazamiento     -655.402318        3666.724846    11008.722272  "
      ]
     },
     "execution_count": 11,
     "metadata": {},
     "output_type": "execute_result"
    }
   ],
   "source": [
    "data.cov()"
   ]
  },
  {
   "cell_type": "code",
   "execution_count": null,
   "metadata": {},
   "outputs": [],
   "source": []
  }
 ],
 "metadata": {
  "kernelspec": {
   "display_name": "Python 3",
   "language": "python",
   "name": "python3"
  },
  "language_info": {
   "codemirror_mode": {
    "name": "ipython",
    "version": 3
   },
   "file_extension": ".py",
   "mimetype": "text/x-python",
   "name": "python",
   "nbconvert_exporter": "python",
   "pygments_lexer": "ipython3",
   "version": "3.7.6"
  }
 },
 "nbformat": 4,
 "nbformat_minor": 2
}

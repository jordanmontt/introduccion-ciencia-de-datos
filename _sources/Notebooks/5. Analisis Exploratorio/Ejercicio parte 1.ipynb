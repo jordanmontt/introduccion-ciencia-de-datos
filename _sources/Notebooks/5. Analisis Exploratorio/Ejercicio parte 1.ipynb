{
 "cells": [
  {
   "cell_type": "markdown",
   "metadata": {},
   "source": [
    "# Ejercicio análisi exploratorio parte 1\n",
    "\n",
    "Utilizando los datos sobre automoviles extraídos en un archivo csv via webscraping (están almacenados en un archivo csv en la misma ruta que este notebook), responda a las siguientes preguntas:\n",
    "\n",
    "1. [La asimetría de la variable `caballos_potencia` es negativa?](#1)\n",
    "2. [Entre las variables: `caballos_potencia`, `desplazamiento`, `mpg` y  `aceleracion`, ¿cuáles tienen valores atípicos en ambos extremos?](#2)\n",
    "3. [Entre las variables: `caballos_potencia`, `desplazamiento`, `mpg` y  `aceleracion`, ¿cuáles no tienen valores atípicos?](#3)\n",
    "4. [Entre las variables: `caballos_potencia`, `desplazamiento`, `mpg` y  `aceleracion`,, ¿cuáles son las variables con mayor y menor asimetría?](#4)\n",
    "5. [Entre las variables: `caballos_potencia`, `desplazamiento`, `mpg` y  `aceleracion`, muestre los valores atípicos de aquellas variables que los tengan en ambos extremos.](#5)"
   ]
  },
  {
   "cell_type": "code",
   "execution_count": 2,
   "metadata": {},
   "outputs": [
    {
     "data": {
      "text/html": [
       "<div>\n",
       "<style scoped>\n",
       "    .dataframe tbody tr th:only-of-type {\n",
       "        vertical-align: middle;\n",
       "    }\n",
       "\n",
       "    .dataframe tbody tr th {\n",
       "        vertical-align: top;\n",
       "    }\n",
       "\n",
       "    .dataframe thead th {\n",
       "        text-align: right;\n",
       "    }\n",
       "</style>\n",
       "<table border=\"1\" class=\"dataframe\">\n",
       "  <thead>\n",
       "    <tr style=\"text-align: right;\">\n",
       "      <th></th>\n",
       "      <th>nombre</th>\n",
       "      <th>cilindros</th>\n",
       "      <th>peso</th>\n",
       "      <th>anio</th>\n",
       "      <th>territorio</th>\n",
       "      <th>aceleracion</th>\n",
       "      <th>mpg</th>\n",
       "      <th>caballos_potencia</th>\n",
       "      <th>desplazamiento</th>\n",
       "    </tr>\n",
       "  </thead>\n",
       "  <tbody>\n",
       "    <tr>\n",
       "      <th>0</th>\n",
       "      <td>Chevrolet Chevelle Malibu</td>\n",
       "      <td>8</td>\n",
       "      <td>3504</td>\n",
       "      <td>1970</td>\n",
       "      <td>USA</td>\n",
       "      <td>12.0</td>\n",
       "      <td>18.0</td>\n",
       "      <td>130.0</td>\n",
       "      <td>307.0</td>\n",
       "    </tr>\n",
       "    <tr>\n",
       "      <th>1</th>\n",
       "      <td>Buick Skylark 320</td>\n",
       "      <td>8</td>\n",
       "      <td>3693</td>\n",
       "      <td>1970</td>\n",
       "      <td>USA</td>\n",
       "      <td>11.5</td>\n",
       "      <td>15.0</td>\n",
       "      <td>165.0</td>\n",
       "      <td>350.0</td>\n",
       "    </tr>\n",
       "    <tr>\n",
       "      <th>2</th>\n",
       "      <td>Plymouth Satellite</td>\n",
       "      <td>8</td>\n",
       "      <td>3436</td>\n",
       "      <td>1970</td>\n",
       "      <td>USA</td>\n",
       "      <td>11.0</td>\n",
       "      <td>18.0</td>\n",
       "      <td>150.0</td>\n",
       "      <td>318.0</td>\n",
       "    </tr>\n",
       "    <tr>\n",
       "      <th>3</th>\n",
       "      <td>Amc Rebel Sst</td>\n",
       "      <td>8</td>\n",
       "      <td>3433</td>\n",
       "      <td>1970</td>\n",
       "      <td>USA</td>\n",
       "      <td>12.0</td>\n",
       "      <td>16.0</td>\n",
       "      <td>150.0</td>\n",
       "      <td>304.0</td>\n",
       "    </tr>\n",
       "    <tr>\n",
       "      <th>4</th>\n",
       "      <td>Ford Torino</td>\n",
       "      <td>8</td>\n",
       "      <td>3449</td>\n",
       "      <td>1970</td>\n",
       "      <td>USA</td>\n",
       "      <td>10.5</td>\n",
       "      <td>17.0</td>\n",
       "      <td>140.0</td>\n",
       "      <td>302.0</td>\n",
       "    </tr>\n",
       "  </tbody>\n",
       "</table>\n",
       "</div>"
      ],
      "text/plain": [
       "                      nombre  cilindros  peso  anio territorio  aceleracion  \\\n",
       "0  Chevrolet Chevelle Malibu          8  3504  1970        USA         12.0   \n",
       "1          Buick Skylark 320          8  3693  1970        USA         11.5   \n",
       "2         Plymouth Satellite          8  3436  1970        USA         11.0   \n",
       "3              Amc Rebel Sst          8  3433  1970        USA         12.0   \n",
       "4                Ford Torino          8  3449  1970        USA         10.5   \n",
       "\n",
       "    mpg  caballos_potencia  desplazamiento  \n",
       "0  18.0              130.0           307.0  \n",
       "1  15.0              165.0           350.0  \n",
       "2  18.0              150.0           318.0  \n",
       "3  16.0              150.0           304.0  \n",
       "4  17.0              140.0           302.0  "
      ]
     },
     "execution_count": 2,
     "metadata": {},
     "output_type": "execute_result"
    }
   ],
   "source": [
    "import os\n",
    "import pandas as pd\n",
    "import numpy as np\n",
    "import matplotlib.pyplot as plt\n",
    "import seaborn as sns\n",
    "\n",
    "automoviles = pd.read_csv('./csv/datos_automoviles.csv')\n",
    "automoviles.head()"
   ]
  },
  {
   "cell_type": "markdown",
   "metadata": {},
   "source": [
    "### 1. La asimetría de la variable `caballos_potencia` es negativa?\n",
    "\n",
    "<a id=\"1\"></a>"
   ]
  },
  {
   "cell_type": "code",
   "execution_count": 3,
   "metadata": {},
   "outputs": [
    {
     "name": "stdout",
     "output_type": "stream",
     "text": [
      "Asimetría de caballos_potencia\n"
     ]
    },
    {
     "data": {
      "text/plain": [
       "1.034079427703104"
      ]
     },
     "execution_count": 3,
     "metadata": {},
     "output_type": "execute_result"
    }
   ],
   "source": [
    "print('Asimetría de caballos_potencia')\n",
    "automoviles['caballos_potencia'].skew()"
   ]
  },
  {
   "cell_type": "markdown",
   "metadata": {},
   "source": [
    "### 2. Entre las variables: `caballos_potencia`, `desplazamiento`, `mpg` y  `aceleracion`, ¿cuáles tienen valores atípicos en ambos extremos?\n",
    "\n",
    "<a id=\"2\"></a>\n",
    "\n",
    "Para saber cúales variables tiene valores atípicos, se puede utilizar gráficos o métido el analítico. En este caso, se utilizarán gráficas de dos tipos:\n",
    "\n",
    "- Una será una gráfica de distribución donde se dibujarán líneas verticales a la altura de ambos valores atípicos.\n",
    "- La otra, un *gráfico de caja* el cual nos señala mediante un círculo si existen o no valores atípicos\n",
    "\n",
    "Cabe resaltar que la primera manera no indica de manera precisa la existencia de valores atípicos, pero se lo muestra por propósitos ilustrativos. En cambio, el *gráfico de caja* si indica con exactidud si existen o no valores atípicos."
   ]
  },
  {
   "cell_type": "code",
   "execution_count": 18,
   "metadata": {},
   "outputs": [],
   "source": [
    "def graficar_distribucion_con_valores_atipicos(columna):\n",
    "    q1 = automoviles.describe()[columna]['25%']\n",
    "    q3 = automoviles.describe()[columna]['75%']\n",
    "    iqr = q3 - q1\n",
    "    limite_derecho = q3 + 1.5 * iqr\n",
    "    limite_izquierdo = q1 - 1.5 * iqr\n",
    "\n",
    "    sns.kdeplot(automoviles[columna], shade=True)\n",
    "    plt.axvline( limite_derecho, color='b')\n",
    "    plt.axvline( limite_izquierdo, color='b')"
   ]
  },
  {
   "cell_type": "markdown",
   "metadata": {},
   "source": [
    "#### 2.1 Valores atípicos `caballos_potencia`"
   ]
  },
  {
   "cell_type": "code",
   "execution_count": 5,
   "metadata": {},
   "outputs": [
    {
     "data": {
      "image/png": "[encoded data removed]",
      "text/plain": [
       "<Figure size 432x288 with 1 Axes>"
      ]
     },
     "metadata": {
      "needs_background": "light"
     },
     "output_type": "display_data"
    }
   ],
   "source": [
    "graficar_distribucion_con_valores_atipicos('caballos_potencia')"
   ]
  },
  {
   "cell_type": "code",
   "execution_count": 6,
   "metadata": {},
   "outputs": [
    {
     "data": {
      "text/plain": [
       "<AxesSubplot:>"
      ]
     },
     "execution_count": 6,
     "metadata": {},
     "output_type": "execute_result"
    },
    {
     "data": {
      "image/png": "[encoded data removed]",
      "text/plain": [
       "<Figure size 432x288 with 1 Axes>"
      ]
     },
     "metadata": {
      "needs_background": "light"
     },
     "output_type": "display_data"
    }
   ],
   "source": [
    "automoviles['caballos_potencia'].plot.box()"
   ]
  },
  {
   "cell_type": "markdown",
   "metadata": {},
   "source": [
    "#### 2.2 Valores atípicos `desplazamiento`"
   ]
  },
  {
   "cell_type": "code",
   "execution_count": 7,
   "metadata": {},
   "outputs": [
    {
     "data": {
      "image/png": "[encoded data removed]",
      "text/plain": [
       "<Figure size 432x288 with 1 Axes>"
      ]
     },
     "metadata": {
      "needs_background": "light"
     },
     "output_type": "display_data"
    }
   ],
   "source": [
    "graficar_distribucion_con_valores_atipicos('desplazamiento')"
   ]
  },
  {
   "cell_type": "code",
   "execution_count": 8,
   "metadata": {},
   "outputs": [
    {
     "data": {
      "text/plain": [
       "<AxesSubplot:>"
      ]
     },
     "execution_count": 8,
     "metadata": {},
     "output_type": "execute_result"
    },
    {
     "data": {
      "image/png": "[encoded data removed]",
      "text/plain": [
       "<Figure size 432x288 with 1 Axes>"
      ]
     },
     "metadata": {
      "needs_background": "light"
     },
     "output_type": "display_data"
    }
   ],
   "source": [
    "automoviles['desplazamiento'].plot.box()"
   ]
  },
  {
   "cell_type": "markdown",
   "metadata": {},
   "source": [
    "#### 2.3 Valores atípicos `mpg`"
   ]
  },
  {
   "cell_type": "code",
   "execution_count": 9,
   "metadata": {},
   "outputs": [
    {
     "data": {
      "image/png": "[encoded data removed]",
      "text/plain": [
       "<Figure size 432x288 with 1 Axes>"
      ]
     },
     "metadata": {
      "needs_background": "light"
     },
     "output_type": "display_data"
    }
   ],
   "source": [
    "graficar_distribucion_con_valores_atipicos('mpg')"
   ]
  },
  {
   "cell_type": "code",
   "execution_count": 10,
   "metadata": {},
   "outputs": [
    {
     "data": {
      "text/plain": [
       "<AxesSubplot:>"
      ]
     },
     "execution_count": 10,
     "metadata": {},
     "output_type": "execute_result"
    },
    {
     "data": {
      "image/png": "[encoded data removed]",
      "text/plain": [
       "<Figure size 432x288 with 1 Axes>"
      ]
     },
     "metadata": {
      "needs_background": "light"
     },
     "output_type": "display_data"
    }
   ],
   "source": [
    "automoviles['mpg'].plot.box()"
   ]
  },
  {
   "cell_type": "markdown",
   "metadata": {},
   "source": [
    "#### 2.4 Valores atípicos `aceleracion`"
   ]
  },
  {
   "cell_type": "code",
   "execution_count": 11,
   "metadata": {},
   "outputs": [
    {
     "data": {
      "image/png": "[encoded data removed]",
      "text/plain": [
       "<Figure size 432x288 with 1 Axes>"
      ]
     },
     "metadata": {
      "needs_background": "light"
     },
     "output_type": "display_data"
    }
   ],
   "source": [
    "graficar_distribucion_con_valores_atipicos('aceleracion')"
   ]
  },
  {
   "cell_type": "code",
   "execution_count": 12,
   "metadata": {},
   "outputs": [
    {
     "data": {
      "text/plain": [
       "<AxesSubplot:>"
      ]
     },
     "execution_count": 12,
     "metadata": {},
     "output_type": "execute_result"
    },
    {
     "data": {
      "image/png": "[encoded data removed]",
      "text/plain": [
       "<Figure size 432x288 with 1 Axes>"
      ]
     },
     "metadata": {
      "needs_background": "light"
     },
     "output_type": "display_data"
    }
   ],
   "source": [
    "automoviles['aceleracion'].plot.box()"
   ]
  },
  {
   "cell_type": "markdown",
   "metadata": {},
   "source": [
    "#### Respuesta pregunta 2: la `aceleración` es la única variable que tiene valores atípicos en ambos extremos"
   ]
  },
  {
   "cell_type": "markdown",
   "metadata": {},
   "source": [
    "### 3. Entre las variables:  `caballos_potencia`, `desplazamiento`, `mpg` y  `aceleracion`, ¿cuáles no tienen valores atípicos?\n",
    "\n",
    "<a id=\"3\"></a>\n",
    "\n",
    "Sobre la base de los gráficos hechos en el anterior inciso, `desplazamiento` es la variable que no tiene valores atípicos"
   ]
  },
  {
   "cell_type": "markdown",
   "metadata": {},
   "source": [
    "### 4. Entre las variables:  `caballos_potencia`, `desplazamiento`, `mpg` y  `aceleracion`, ¿cuáles son las variables con mayor y menor asimetría?\n",
    "\n",
    "<a id=\"4\"></a>"
   ]
  },
  {
   "cell_type": "code",
   "execution_count": 13,
   "metadata": {},
   "outputs": [
    {
     "name": "stdout",
     "output_type": "stream",
     "text": [
      "caballos_potencia:  1.034079427703104\n",
      "desplazamiento:  0.6941299865999901\n",
      "mpg:  0.45706634399491936\n",
      "aceleracion: 0.23022375946556034\n"
     ]
    }
   ],
   "source": [
    "print('caballos_potencia: ', automoviles['caballos_potencia'].skew())\n",
    "print('desplazamiento: ', automoviles['desplazamiento'].skew())\n",
    "print('mpg: ', automoviles['mpg'].skew())\n",
    "print('aceleracion:', automoviles['aceleracion'].skew())"
   ]
  },
  {
   "cell_type": "markdown",
   "metadata": {},
   "source": [
    "### 5. Entre las variables:  `caballos_potencia`, `desplazamiento`, `mpg` y  `aceleracion`, muestre los valores atípicos de aquellas variables que los tengan en ambos extremos\n",
    "\n",
    "<a id=\"5\"></a>\n",
    "\n",
    "Como se pudo observar en el __[inciso 2](#2)__ la variable `aceleracion` es la única que tiene valores atípicos en ambos extremos."
   ]
  },
  {
   "cell_type": "code",
   "execution_count": 14,
   "metadata": {},
   "outputs": [],
   "source": [
    "q1 = automoviles.describe()['aceleracion']['25%']\n",
    "q3 = automoviles.describe()['aceleracion']['75%']\n",
    "iqr = q3 - q1\n",
    "limite_derecho = q3 + 1.5 * iqr\n",
    "limite_izquierdo = q1 - 1.5 * iqr"
   ]
  },
  {
   "cell_type": "markdown",
   "metadata": {},
   "source": [
    "Valores atípicos menores o iguales al límite inferior:"
   ]
  },
  {
   "cell_type": "code",
   "execution_count": 15,
   "metadata": {},
   "outputs": [
    {
     "data": {
      "text/html": [
       "<div>\n",
       "<style scoped>\n",
       "    .dataframe tbody tr th:only-of-type {\n",
       "        vertical-align: middle;\n",
       "    }\n",
       "\n",
       "    .dataframe tbody tr th {\n",
       "        vertical-align: top;\n",
       "    }\n",
       "\n",
       "    .dataframe thead th {\n",
       "        text-align: right;\n",
       "    }\n",
       "</style>\n",
       "<table border=\"1\" class=\"dataframe\">\n",
       "  <thead>\n",
       "    <tr style=\"text-align: right;\">\n",
       "      <th></th>\n",
       "      <th>nombre</th>\n",
       "      <th>cilindros</th>\n",
       "      <th>peso</th>\n",
       "      <th>anio</th>\n",
       "      <th>territorio</th>\n",
       "      <th>aceleracion</th>\n",
       "      <th>mpg</th>\n",
       "      <th>caballos_potencia</th>\n",
       "      <th>desplazamiento</th>\n",
       "    </tr>\n",
       "  </thead>\n",
       "  <tbody>\n",
       "    <tr>\n",
       "      <th>16</th>\n",
       "      <td>Plymouth 'Cuda 340</td>\n",
       "      <td>8</td>\n",
       "      <td>3609</td>\n",
       "      <td>1970</td>\n",
       "      <td>USA</td>\n",
       "      <td>8.0</td>\n",
       "      <td>14.0</td>\n",
       "      <td>160.0</td>\n",
       "      <td>340.0</td>\n",
       "    </tr>\n",
       "    <tr>\n",
       "      <th>17</th>\n",
       "      <td>Ford Mustang Boss 302</td>\n",
       "      <td>8</td>\n",
       "      <td>3353</td>\n",
       "      <td>1970</td>\n",
       "      <td>USA</td>\n",
       "      <td>8.0</td>\n",
       "      <td>NaN</td>\n",
       "      <td>140.0</td>\n",
       "      <td>302.0</td>\n",
       "    </tr>\n",
       "  </tbody>\n",
       "</table>\n",
       "</div>"
      ],
      "text/plain": [
       "                   nombre  cilindros  peso  anio territorio  aceleracion  \\\n",
       "16     Plymouth 'Cuda 340          8  3609  1970        USA          8.0   \n",
       "17  Ford Mustang Boss 302          8  3353  1970        USA          8.0   \n",
       "\n",
       "     mpg  caballos_potencia  desplazamiento  \n",
       "16  14.0              160.0           340.0  \n",
       "17   NaN              140.0           302.0  "
      ]
     },
     "execution_count": 15,
     "metadata": {},
     "output_type": "execute_result"
    }
   ],
   "source": [
    "automoviles.loc[automoviles['aceleracion'] <= limite_izquierdo]"
   ]
  },
  {
   "cell_type": "markdown",
   "metadata": {},
   "source": [
    "Valores atípicos mayores o iguales al límite superior:"
   ]
  },
  {
   "cell_type": "code",
   "execution_count": 16,
   "metadata": {},
   "outputs": [
    {
     "data": {
      "text/html": [
       "<div>\n",
       "<style scoped>\n",
       "    .dataframe tbody tr th:only-of-type {\n",
       "        vertical-align: middle;\n",
       "    }\n",
       "\n",
       "    .dataframe tbody tr th {\n",
       "        vertical-align: top;\n",
       "    }\n",
       "\n",
       "    .dataframe thead th {\n",
       "        text-align: right;\n",
       "    }\n",
       "</style>\n",
       "<table border=\"1\" class=\"dataframe\">\n",
       "  <thead>\n",
       "    <tr style=\"text-align: right;\">\n",
       "      <th></th>\n",
       "      <th>nombre</th>\n",
       "      <th>cilindros</th>\n",
       "      <th>peso</th>\n",
       "      <th>anio</th>\n",
       "      <th>territorio</th>\n",
       "      <th>aceleracion</th>\n",
       "      <th>mpg</th>\n",
       "      <th>caballos_potencia</th>\n",
       "      <th>desplazamiento</th>\n",
       "    </tr>\n",
       "  </thead>\n",
       "  <tbody>\n",
       "    <tr>\n",
       "      <th>66</th>\n",
       "      <td>Volkswagen Type 3</td>\n",
       "      <td>4</td>\n",
       "      <td>2254</td>\n",
       "      <td>1972</td>\n",
       "      <td>Europe</td>\n",
       "      <td>23.5</td>\n",
       "      <td>23.0</td>\n",
       "      <td>54.0</td>\n",
       "      <td>97.0</td>\n",
       "    </tr>\n",
       "    <tr>\n",
       "      <th>306</th>\n",
       "      <td>Peugeot 504</td>\n",
       "      <td>4</td>\n",
       "      <td>3190</td>\n",
       "      <td>1979</td>\n",
       "      <td>Europe</td>\n",
       "      <td>24.8</td>\n",
       "      <td>27.2</td>\n",
       "      <td>71.0</td>\n",
       "      <td>141.0</td>\n",
       "    </tr>\n",
       "    <tr>\n",
       "      <th>333</th>\n",
       "      <td>Vw Dasher (Diesel)</td>\n",
       "      <td>4</td>\n",
       "      <td>2335</td>\n",
       "      <td>1980</td>\n",
       "      <td>Europe</td>\n",
       "      <td>23.7</td>\n",
       "      <td>43.4</td>\n",
       "      <td>48.0</td>\n",
       "      <td>90.0</td>\n",
       "    </tr>\n",
       "    <tr>\n",
       "      <th>402</th>\n",
       "      <td>Vw Pickup</td>\n",
       "      <td>4</td>\n",
       "      <td>2130</td>\n",
       "      <td>1982</td>\n",
       "      <td>Europe</td>\n",
       "      <td>24.6</td>\n",
       "      <td>44.0</td>\n",
       "      <td>52.0</td>\n",
       "      <td>97.0</td>\n",
       "    </tr>\n",
       "  </tbody>\n",
       "</table>\n",
       "</div>"
      ],
      "text/plain": [
       "                 nombre  cilindros  peso  anio territorio  aceleracion   mpg  \\\n",
       "66    Volkswagen Type 3          4  2254  1972     Europe         23.5  23.0   \n",
       "306         Peugeot 504          4  3190  1979     Europe         24.8  27.2   \n",
       "333  Vw Dasher (Diesel)          4  2335  1980     Europe         23.7  43.4   \n",
       "402           Vw Pickup          4  2130  1982     Europe         24.6  44.0   \n",
       "\n",
       "     caballos_potencia  desplazamiento  \n",
       "66                54.0            97.0  \n",
       "306               71.0           141.0  \n",
       "333               48.0            90.0  \n",
       "402               52.0            97.0  "
      ]
     },
     "execution_count": 16,
     "metadata": {},
     "output_type": "execute_result"
    }
   ],
   "source": [
    "automoviles.loc[automoviles['aceleracion'] >= limite_derecho]"
   ]
  },
  {
   "cell_type": "markdown",
   "metadata": {},
   "source": [
    "- Hay alguna relacion entre el territorio y los caballos de potencia?\n",
    "- Hay correlación entre los caballos de potencia y las millas por galón? \n",
    "- Si existe es un relación, ambas variables se mueven en la misma dirección?\n",
    "- Compruebe la dirección de la relación con una visualización."
   ]
  },
  {
   "cell_type": "code",
   "execution_count": 31,
   "metadata": {},
   "outputs": [
    {
     "data": {
      "text/html": [
       "<div>\n",
       "<style scoped>\n",
       "    .dataframe tbody tr th:only-of-type {\n",
       "        vertical-align: middle;\n",
       "    }\n",
       "\n",
       "    .dataframe tbody tr th {\n",
       "        vertical-align: top;\n",
       "    }\n",
       "\n",
       "    .dataframe thead th {\n",
       "        text-align: right;\n",
       "    }\n",
       "</style>\n",
       "<table border=\"1\" class=\"dataframe\">\n",
       "  <thead>\n",
       "    <tr style=\"text-align: right;\">\n",
       "      <th></th>\n",
       "      <th>nombre</th>\n",
       "      <th>cilindros</th>\n",
       "      <th>peso</th>\n",
       "      <th>anio</th>\n",
       "      <th>territorio</th>\n",
       "      <th>aceleracion</th>\n",
       "      <th>mpg</th>\n",
       "      <th>caballos_potencia</th>\n",
       "      <th>desplazamiento</th>\n",
       "      <th>territorio_num</th>\n",
       "    </tr>\n",
       "  </thead>\n",
       "  <tbody>\n",
       "    <tr>\n",
       "      <th>0</th>\n",
       "      <td>Chevrolet Chevelle Malibu</td>\n",
       "      <td>8</td>\n",
       "      <td>3504</td>\n",
       "      <td>1970</td>\n",
       "      <td>USA</td>\n",
       "      <td>12.0</td>\n",
       "      <td>18.0</td>\n",
       "      <td>130.0</td>\n",
       "      <td>307.0</td>\n",
       "      <td>2</td>\n",
       "    </tr>\n",
       "    <tr>\n",
       "      <th>1</th>\n",
       "      <td>Buick Skylark 320</td>\n",
       "      <td>8</td>\n",
       "      <td>3693</td>\n",
       "      <td>1970</td>\n",
       "      <td>USA</td>\n",
       "      <td>11.5</td>\n",
       "      <td>15.0</td>\n",
       "      <td>165.0</td>\n",
       "      <td>350.0</td>\n",
       "      <td>2</td>\n",
       "    </tr>\n",
       "    <tr>\n",
       "      <th>2</th>\n",
       "      <td>Plymouth Satellite</td>\n",
       "      <td>8</td>\n",
       "      <td>3436</td>\n",
       "      <td>1970</td>\n",
       "      <td>USA</td>\n",
       "      <td>11.0</td>\n",
       "      <td>18.0</td>\n",
       "      <td>150.0</td>\n",
       "      <td>318.0</td>\n",
       "      <td>2</td>\n",
       "    </tr>\n",
       "    <tr>\n",
       "      <th>3</th>\n",
       "      <td>Amc Rebel Sst</td>\n",
       "      <td>8</td>\n",
       "      <td>3433</td>\n",
       "      <td>1970</td>\n",
       "      <td>USA</td>\n",
       "      <td>12.0</td>\n",
       "      <td>16.0</td>\n",
       "      <td>150.0</td>\n",
       "      <td>304.0</td>\n",
       "      <td>2</td>\n",
       "    </tr>\n",
       "    <tr>\n",
       "      <th>4</th>\n",
       "      <td>Ford Torino</td>\n",
       "      <td>8</td>\n",
       "      <td>3449</td>\n",
       "      <td>1970</td>\n",
       "      <td>USA</td>\n",
       "      <td>10.5</td>\n",
       "      <td>17.0</td>\n",
       "      <td>140.0</td>\n",
       "      <td>302.0</td>\n",
       "      <td>2</td>\n",
       "    </tr>\n",
       "    <tr>\n",
       "      <th>...</th>\n",
       "      <td>...</td>\n",
       "      <td>...</td>\n",
       "      <td>...</td>\n",
       "      <td>...</td>\n",
       "      <td>...</td>\n",
       "      <td>...</td>\n",
       "      <td>...</td>\n",
       "      <td>...</td>\n",
       "      <td>...</td>\n",
       "      <td>...</td>\n",
       "    </tr>\n",
       "    <tr>\n",
       "      <th>401</th>\n",
       "      <td>Ford Mustang Gl</td>\n",
       "      <td>4</td>\n",
       "      <td>2790</td>\n",
       "      <td>1982</td>\n",
       "      <td>USA</td>\n",
       "      <td>15.6</td>\n",
       "      <td>27.0</td>\n",
       "      <td>86.0</td>\n",
       "      <td>140.0</td>\n",
       "      <td>2</td>\n",
       "    </tr>\n",
       "    <tr>\n",
       "      <th>402</th>\n",
       "      <td>Vw Pickup</td>\n",
       "      <td>4</td>\n",
       "      <td>2130</td>\n",
       "      <td>1982</td>\n",
       "      <td>Europe</td>\n",
       "      <td>24.6</td>\n",
       "      <td>44.0</td>\n",
       "      <td>52.0</td>\n",
       "      <td>97.0</td>\n",
       "      <td>1</td>\n",
       "    </tr>\n",
       "    <tr>\n",
       "      <th>403</th>\n",
       "      <td>Dodge Rampage</td>\n",
       "      <td>4</td>\n",
       "      <td>2295</td>\n",
       "      <td>1982</td>\n",
       "      <td>USA</td>\n",
       "      <td>11.6</td>\n",
       "      <td>32.0</td>\n",
       "      <td>84.0</td>\n",
       "      <td>135.0</td>\n",
       "      <td>2</td>\n",
       "    </tr>\n",
       "    <tr>\n",
       "      <th>404</th>\n",
       "      <td>Ford Ranger</td>\n",
       "      <td>4</td>\n",
       "      <td>2625</td>\n",
       "      <td>1982</td>\n",
       "      <td>USA</td>\n",
       "      <td>18.6</td>\n",
       "      <td>28.0</td>\n",
       "      <td>79.0</td>\n",
       "      <td>120.0</td>\n",
       "      <td>2</td>\n",
       "    </tr>\n",
       "    <tr>\n",
       "      <th>405</th>\n",
       "      <td>Chevy S-10</td>\n",
       "      <td>4</td>\n",
       "      <td>2720</td>\n",
       "      <td>1982</td>\n",
       "      <td>USA</td>\n",
       "      <td>19.4</td>\n",
       "      <td>31.0</td>\n",
       "      <td>82.0</td>\n",
       "      <td>119.0</td>\n",
       "      <td>2</td>\n",
       "    </tr>\n",
       "  </tbody>\n",
       "</table>\n",
       "<p>406 rows × 10 columns</p>\n",
       "</div>"
      ],
      "text/plain": [
       "                        nombre  cilindros  peso  anio territorio  aceleracion  \\\n",
       "0    Chevrolet Chevelle Malibu          8  3504  1970        USA         12.0   \n",
       "1            Buick Skylark 320          8  3693  1970        USA         11.5   \n",
       "2           Plymouth Satellite          8  3436  1970        USA         11.0   \n",
       "3                Amc Rebel Sst          8  3433  1970        USA         12.0   \n",
       "4                  Ford Torino          8  3449  1970        USA         10.5   \n",
       "..                         ...        ...   ...   ...        ...          ...   \n",
       "401            Ford Mustang Gl          4  2790  1982        USA         15.6   \n",
       "402                  Vw Pickup          4  2130  1982     Europe         24.6   \n",
       "403              Dodge Rampage          4  2295  1982        USA         11.6   \n",
       "404                Ford Ranger          4  2625  1982        USA         18.6   \n",
       "405                 Chevy S-10          4  2720  1982        USA         19.4   \n",
       "\n",
       "      mpg  caballos_potencia  desplazamiento  territorio_num  \n",
       "0    18.0              130.0           307.0               2  \n",
       "1    15.0              165.0           350.0               2  \n",
       "2    18.0              150.0           318.0               2  \n",
       "3    16.0              150.0           304.0               2  \n",
       "4    17.0              140.0           302.0               2  \n",
       "..    ...                ...             ...             ...  \n",
       "401  27.0               86.0           140.0               2  \n",
       "402  44.0               52.0            97.0               1  \n",
       "403  32.0               84.0           135.0               2  \n",
       "404  28.0               79.0           120.0               2  \n",
       "405  31.0               82.0           119.0               2  \n",
       "\n",
       "[406 rows x 10 columns]"
      ]
     },
     "execution_count": 31,
     "metadata": {},
     "output_type": "execute_result"
    }
   ],
   "source": [
    "def territorio_escrito_a_num(territorio):\n",
    "   return territorio.map({ 'Europe': 1, 'USA': 2, 'Japan': 3 })\n",
    "\n",
    "automoviles['territorio_num'] = territorio_escrito_a_num(automoviles['territorio'])\n",
    "automoviles"
   ]
  },
  {
   "cell_type": "code",
   "execution_count": 33,
   "metadata": {},
   "outputs": [
    {
     "data": {
      "text/html": [
       "<div>\n",
       "<style scoped>\n",
       "    .dataframe tbody tr th:only-of-type {\n",
       "        vertical-align: middle;\n",
       "    }\n",
       "\n",
       "    .dataframe tbody tr th {\n",
       "        vertical-align: top;\n",
       "    }\n",
       "\n",
       "    .dataframe thead th {\n",
       "        text-align: right;\n",
       "    }\n",
       "</style>\n",
       "<table border=\"1\" class=\"dataframe\">\n",
       "  <thead>\n",
       "    <tr style=\"text-align: right;\">\n",
       "      <th></th>\n",
       "      <th>cilindros</th>\n",
       "      <th>peso</th>\n",
       "      <th>anio</th>\n",
       "      <th>aceleracion</th>\n",
       "      <th>mpg</th>\n",
       "      <th>caballos_potencia</th>\n",
       "      <th>desplazamiento</th>\n",
       "      <th>territorio_num</th>\n",
       "    </tr>\n",
       "  </thead>\n",
       "  <tbody>\n",
       "    <tr>\n",
       "      <th>cilindros</th>\n",
       "      <td>1.000000</td>\n",
       "      <td>0.895220</td>\n",
       "      <td>-0.360762</td>\n",
       "      <td>-0.522452</td>\n",
       "      <td>-0.775396</td>\n",
       "      <td>0.844158</td>\n",
       "      <td>0.951787</td>\n",
       "      <td>-0.027908</td>\n",
       "    </tr>\n",
       "    <tr>\n",
       "      <th>peso</th>\n",
       "      <td>0.895220</td>\n",
       "      <td>1.000000</td>\n",
       "      <td>-0.315389</td>\n",
       "      <td>-0.430086</td>\n",
       "      <td>-0.831741</td>\n",
       "      <td>0.866586</td>\n",
       "      <td>0.932475</td>\n",
       "      <td>-0.094713</td>\n",
       "    </tr>\n",
       "    <tr>\n",
       "      <th>anio</th>\n",
       "      <td>-0.360762</td>\n",
       "      <td>-0.315389</td>\n",
       "      <td>1.000000</td>\n",
       "      <td>0.301992</td>\n",
       "      <td>0.579267</td>\n",
       "      <td>-0.424419</td>\n",
       "      <td>-0.381714</td>\n",
       "      <td>0.143544</td>\n",
       "    </tr>\n",
       "    <tr>\n",
       "      <th>aceleracion</th>\n",
       "      <td>-0.522452</td>\n",
       "      <td>-0.430086</td>\n",
       "      <td>0.301992</td>\n",
       "      <td>1.000000</td>\n",
       "      <td>0.420289</td>\n",
       "      <td>-0.697124</td>\n",
       "      <td>-0.557984</td>\n",
       "      <td>-0.062585</td>\n",
       "    </tr>\n",
       "    <tr>\n",
       "      <th>mpg</th>\n",
       "      <td>-0.775396</td>\n",
       "      <td>-0.831741</td>\n",
       "      <td>0.579267</td>\n",
       "      <td>0.420289</td>\n",
       "      <td>1.000000</td>\n",
       "      <td>-0.778427</td>\n",
       "      <td>-0.804203</td>\n",
       "      <td>0.127164</td>\n",
       "    </tr>\n",
       "    <tr>\n",
       "      <th>caballos_potencia</th>\n",
       "      <td>0.844158</td>\n",
       "      <td>0.866586</td>\n",
       "      <td>-0.424419</td>\n",
       "      <td>-0.697124</td>\n",
       "      <td>-0.778427</td>\n",
       "      <td>1.000000</td>\n",
       "      <td>0.898326</td>\n",
       "      <td>-0.030029</td>\n",
       "    </tr>\n",
       "    <tr>\n",
       "      <th>desplazamiento</th>\n",
       "      <td>0.951787</td>\n",
       "      <td>0.932475</td>\n",
       "      <td>-0.381714</td>\n",
       "      <td>-0.557984</td>\n",
       "      <td>-0.804203</td>\n",
       "      <td>0.898326</td>\n",
       "      <td>1.000000</td>\n",
       "      <td>-0.040180</td>\n",
       "    </tr>\n",
       "    <tr>\n",
       "      <th>territorio_num</th>\n",
       "      <td>-0.027908</td>\n",
       "      <td>-0.094713</td>\n",
       "      <td>0.143544</td>\n",
       "      <td>-0.062585</td>\n",
       "      <td>0.127164</td>\n",
       "      <td>-0.030029</td>\n",
       "      <td>-0.040180</td>\n",
       "      <td>1.000000</td>\n",
       "    </tr>\n",
       "  </tbody>\n",
       "</table>\n",
       "</div>"
      ],
      "text/plain": [
       "                   cilindros      peso      anio  aceleracion       mpg  \\\n",
       "cilindros           1.000000  0.895220 -0.360762    -0.522452 -0.775396   \n",
       "peso                0.895220  1.000000 -0.315389    -0.430086 -0.831741   \n",
       "anio               -0.360762 -0.315389  1.000000     0.301992  0.579267   \n",
       "aceleracion        -0.522452 -0.430086  0.301992     1.000000  0.420289   \n",
       "mpg                -0.775396 -0.831741  0.579267     0.420289  1.000000   \n",
       "caballos_potencia   0.844158  0.866586 -0.424419    -0.697124 -0.778427   \n",
       "desplazamiento      0.951787  0.932475 -0.381714    -0.557984 -0.804203   \n",
       "territorio_num     -0.027908 -0.094713  0.143544    -0.062585  0.127164   \n",
       "\n",
       "                   caballos_potencia  desplazamiento  territorio_num  \n",
       "cilindros                   0.844158        0.951787       -0.027908  \n",
       "peso                        0.866586        0.932475       -0.094713  \n",
       "anio                       -0.424419       -0.381714        0.143544  \n",
       "aceleracion                -0.697124       -0.557984       -0.062585  \n",
       "mpg                        -0.778427       -0.804203        0.127164  \n",
       "caballos_potencia           1.000000        0.898326       -0.030029  \n",
       "desplazamiento              0.898326        1.000000       -0.040180  \n",
       "territorio_num             -0.030029       -0.040180        1.000000  "
      ]
     },
     "execution_count": 33,
     "metadata": {},
     "output_type": "execute_result"
    }
   ],
   "source": [
    "automoviles.corr()"
   ]
  },
  {
   "cell_type": "markdown",
   "metadata": {},
   "source": [
    "Los caballos de potención tienen una relación con las millas por galón, debido el valor de correlación es 0.77 y es próximo a -1. Lo cual indica una relación inversa."
   ]
  },
  {
   "cell_type": "code",
   "execution_count": 34,
   "metadata": {},
   "outputs": [
    {
     "data": {
      "text/plain": [
       "<AxesSubplot:title={'center':'scatter plot : Tip by Total bill'}, xlabel='caballos_potencia', ylabel='mpg'>"
      ]
     },
     "execution_count": 34,
     "metadata": {},
     "output_type": "execute_result"
    },
    {
     "data": {
      "image/png": "[encoded data removed]",
      "text/plain": [
       "<Figure size 432x288 with 1 Axes>"
      ]
     },
     "metadata": {
      "needs_background": "light"
     },
     "output_type": "display_data"
    }
   ],
   "source": [
    "\n",
    "automoviles.plot.scatter(x='caballos_potencia', y='mpg', color='c', title='scatter plot : Tip by Total bill', alpha=0.1)\n"
   ]
  },
  {
   "cell_type": "markdown",
   "metadata": {},
   "source": [
    "No se mueven en la misma dirección"
   ]
  },
  {
   "cell_type": "code",
   "execution_count": 35,
   "metadata": {},
   "outputs": [
    {
     "data": {
      "text/html": [
       "<div>\n",
       "<style scoped>\n",
       "    .dataframe tbody tr th:only-of-type {\n",
       "        vertical-align: middle;\n",
       "    }\n",
       "\n",
       "    .dataframe tbody tr th {\n",
       "        vertical-align: top;\n",
       "    }\n",
       "\n",
       "    .dataframe thead th {\n",
       "        text-align: right;\n",
       "    }\n",
       "</style>\n",
       "<table border=\"1\" class=\"dataframe\">\n",
       "  <thead>\n",
       "    <tr style=\"text-align: right;\">\n",
       "      <th></th>\n",
       "      <th>cilindros</th>\n",
       "      <th>peso</th>\n",
       "      <th>anio</th>\n",
       "      <th>aceleracion</th>\n",
       "      <th>mpg</th>\n",
       "      <th>caballos_potencia</th>\n",
       "      <th>desplazamiento</th>\n",
       "      <th>territorio_num</th>\n",
       "    </tr>\n",
       "  </thead>\n",
       "  <tbody>\n",
       "    <tr>\n",
       "      <th>cilindros</th>\n",
       "      <td>2.931491</td>\n",
       "      <td>1298.254662</td>\n",
       "      <td>-2.315526</td>\n",
       "      <td>-2.507662</td>\n",
       "      <td>-10.308911</td>\n",
       "      <td>56.184831</td>\n",
       "      <td>170.982829</td>\n",
       "      <td>-0.029265</td>\n",
       "    </tr>\n",
       "    <tr>\n",
       "      <th>peso</th>\n",
       "      <td>1298.254662</td>\n",
       "      <td>717416.332056</td>\n",
       "      <td>-1001.421626</td>\n",
       "      <td>-1021.220272</td>\n",
       "      <td>-5505.211745</td>\n",
       "      <td>28538.206404</td>\n",
       "      <td>82868.813665</td>\n",
       "      <td>-49.132056</td>\n",
       "    </tr>\n",
       "    <tr>\n",
       "      <th>anio</th>\n",
       "      <td>-2.315526</td>\n",
       "      <td>-1001.421626</td>\n",
       "      <td>14.053032</td>\n",
       "      <td>3.173656</td>\n",
       "      <td>16.741163</td>\n",
       "      <td>-61.462080</td>\n",
       "      <td>-150.138405</td>\n",
       "      <td>0.329563</td>\n",
       "    </tr>\n",
       "    <tr>\n",
       "      <th>aceleracion</th>\n",
       "      <td>-2.507662</td>\n",
       "      <td>-1021.220272</td>\n",
       "      <td>3.173656</td>\n",
       "      <td>7.858821</td>\n",
       "      <td>9.058930</td>\n",
       "      <td>-75.801907</td>\n",
       "      <td>-164.122683</td>\n",
       "      <td>-0.107452</td>\n",
       "    </tr>\n",
       "    <tr>\n",
       "      <th>mpg</th>\n",
       "      <td>-10.308911</td>\n",
       "      <td>-5505.211745</td>\n",
       "      <td>16.741163</td>\n",
       "      <td>9.058930</td>\n",
       "      <td>61.089611</td>\n",
       "      <td>-233.857926</td>\n",
       "      <td>-655.402318</td>\n",
       "      <td>0.608486</td>\n",
       "    </tr>\n",
       "    <tr>\n",
       "      <th>caballos_potencia</th>\n",
       "      <td>56.184831</td>\n",
       "      <td>28538.206404</td>\n",
       "      <td>-61.462080</td>\n",
       "      <td>-75.801907</td>\n",
       "      <td>-233.857926</td>\n",
       "      <td>1503.018239</td>\n",
       "      <td>3666.724846</td>\n",
       "      <td>-0.713434</td>\n",
       "    </tr>\n",
       "    <tr>\n",
       "      <th>desplazamiento</th>\n",
       "      <td>170.982829</td>\n",
       "      <td>82868.813665</td>\n",
       "      <td>-150.138405</td>\n",
       "      <td>-164.122683</td>\n",
       "      <td>-655.402318</td>\n",
       "      <td>3666.724846</td>\n",
       "      <td>11008.722272</td>\n",
       "      <td>-2.581919</td>\n",
       "    </tr>\n",
       "    <tr>\n",
       "      <th>territorio_num</th>\n",
       "      <td>-0.029265</td>\n",
       "      <td>-49.132056</td>\n",
       "      <td>0.329563</td>\n",
       "      <td>-0.107452</td>\n",
       "      <td>0.608486</td>\n",
       "      <td>-0.713434</td>\n",
       "      <td>-2.581919</td>\n",
       "      <td>0.375090</td>\n",
       "    </tr>\n",
       "  </tbody>\n",
       "</table>\n",
       "</div>"
      ],
      "text/plain": [
       "                     cilindros           peso         anio  aceleracion  \\\n",
       "cilindros             2.931491    1298.254662    -2.315526    -2.507662   \n",
       "peso               1298.254662  717416.332056 -1001.421626 -1021.220272   \n",
       "anio                 -2.315526   -1001.421626    14.053032     3.173656   \n",
       "aceleracion          -2.507662   -1021.220272     3.173656     7.858821   \n",
       "mpg                 -10.308911   -5505.211745    16.741163     9.058930   \n",
       "caballos_potencia    56.184831   28538.206404   -61.462080   -75.801907   \n",
       "desplazamiento      170.982829   82868.813665  -150.138405  -164.122683   \n",
       "territorio_num       -0.029265     -49.132056     0.329563    -0.107452   \n",
       "\n",
       "                           mpg  caballos_potencia  desplazamiento  \\\n",
       "cilindros           -10.308911          56.184831      170.982829   \n",
       "peso              -5505.211745       28538.206404    82868.813665   \n",
       "anio                 16.741163         -61.462080     -150.138405   \n",
       "aceleracion           9.058930         -75.801907     -164.122683   \n",
       "mpg                  61.089611        -233.857926     -655.402318   \n",
       "caballos_potencia  -233.857926        1503.018239     3666.724846   \n",
       "desplazamiento     -655.402318        3666.724846    11008.722272   \n",
       "territorio_num        0.608486          -0.713434       -2.581919   \n",
       "\n",
       "                   territorio_num  \n",
       "cilindros               -0.029265  \n",
       "peso                   -49.132056  \n",
       "anio                     0.329563  \n",
       "aceleracion             -0.107452  \n",
       "mpg                      0.608486  \n",
       "caballos_potencia       -0.713434  \n",
       "desplazamiento          -2.581919  \n",
       "territorio_num           0.375090  "
      ]
     },
     "execution_count": 35,
     "metadata": {},
     "output_type": "execute_result"
    }
   ],
   "source": [
    "automoviles.cov()"
   ]
  }
 ],
 "metadata": {
  "kernelspec": {
   "display_name": "Python 3",
   "language": "python",
   "name": "python3"
  },
  "language_info": {
   "codemirror_mode": {
    "name": "ipython",
    "version": 3
   },
   "file_extension": ".py",
   "mimetype": "text/x-python",
   "name": "python",
   "nbconvert_exporter": "python",
   "pygments_lexer": "ipython3",
   "version": "3.9.7"
  }
 },
 "nbformat": 4,
 "nbformat_minor": 2
}

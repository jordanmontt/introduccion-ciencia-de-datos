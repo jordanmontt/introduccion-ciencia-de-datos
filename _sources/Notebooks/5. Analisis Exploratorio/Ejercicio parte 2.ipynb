{
 "cells": [
  {
   "cell_type": "markdown",
   "metadata": {},
   "source": [
    "# Ejercicio análisi exploratorio parte 2\n",
    "\n",
    "Utilizando los mimos datos sobre automoviles, responda a las siguientes preguntas \n",
    "\n",
    "1. [¿Existe alguna relacion entre el territorio y los caballos de potencia?](#1)\n",
    "2. [¿Cuál es la correlación entre los caballos de potencia y las millas por galón?](#2)\n",
    "3. [¿Si existiese una relación, ambas variables se mueven en la misma dirección?](#3)\n",
    "4. [Compruebe la dirección de la relación con una visualización.](#4)"
   ]
  },
  {
   "cell_type": "code",
   "execution_count": 1,
   "metadata": {},
   "outputs": [
    {
     "data": {
      "text/html": [
       "<div>\n",
       "<style scoped>\n",
       "    .dataframe tbody tr th:only-of-type {\n",
       "        vertical-align: middle;\n",
       "    }\n",
       "\n",
       "    .dataframe tbody tr th {\n",
       "        vertical-align: top;\n",
       "    }\n",
       "\n",
       "    .dataframe thead th {\n",
       "        text-align: right;\n",
       "    }\n",
       "</style>\n",
       "<table border=\"1\" class=\"dataframe\">\n",
       "  <thead>\n",
       "    <tr style=\"text-align: right;\">\n",
       "      <th></th>\n",
       "      <th>nombre</th>\n",
       "      <th>cilindros</th>\n",
       "      <th>peso</th>\n",
       "      <th>anio</th>\n",
       "      <th>territorio</th>\n",
       "      <th>aceleracion</th>\n",
       "      <th>mpg</th>\n",
       "      <th>caballos_potencia</th>\n",
       "      <th>desplazamiento</th>\n",
       "    </tr>\n",
       "  </thead>\n",
       "  <tbody>\n",
       "    <tr>\n",
       "      <th>0</th>\n",
       "      <td>Chevrolet Chevelle Malibu</td>\n",
       "      <td>8</td>\n",
       "      <td>3504</td>\n",
       "      <td>1970</td>\n",
       "      <td>USA</td>\n",
       "      <td>12.0</td>\n",
       "      <td>18.0</td>\n",
       "      <td>130.0</td>\n",
       "      <td>307.0</td>\n",
       "    </tr>\n",
       "    <tr>\n",
       "      <th>1</th>\n",
       "      <td>Buick Skylark 320</td>\n",
       "      <td>8</td>\n",
       "      <td>3693</td>\n",
       "      <td>1970</td>\n",
       "      <td>USA</td>\n",
       "      <td>11.5</td>\n",
       "      <td>15.0</td>\n",
       "      <td>165.0</td>\n",
       "      <td>350.0</td>\n",
       "    </tr>\n",
       "    <tr>\n",
       "      <th>2</th>\n",
       "      <td>Plymouth Satellite</td>\n",
       "      <td>8</td>\n",
       "      <td>3436</td>\n",
       "      <td>1970</td>\n",
       "      <td>USA</td>\n",
       "      <td>11.0</td>\n",
       "      <td>18.0</td>\n",
       "      <td>150.0</td>\n",
       "      <td>318.0</td>\n",
       "    </tr>\n",
       "    <tr>\n",
       "      <th>3</th>\n",
       "      <td>Amc Rebel Sst</td>\n",
       "      <td>8</td>\n",
       "      <td>3433</td>\n",
       "      <td>1970</td>\n",
       "      <td>USA</td>\n",
       "      <td>12.0</td>\n",
       "      <td>16.0</td>\n",
       "      <td>150.0</td>\n",
       "      <td>304.0</td>\n",
       "    </tr>\n",
       "    <tr>\n",
       "      <th>4</th>\n",
       "      <td>Ford Torino</td>\n",
       "      <td>8</td>\n",
       "      <td>3449</td>\n",
       "      <td>1970</td>\n",
       "      <td>USA</td>\n",
       "      <td>10.5</td>\n",
       "      <td>17.0</td>\n",
       "      <td>140.0</td>\n",
       "      <td>302.0</td>\n",
       "    </tr>\n",
       "  </tbody>\n",
       "</table>\n",
       "</div>"
      ],
      "text/plain": [
       "                      nombre  cilindros  peso  anio territorio  aceleracion  \\\n",
       "0  Chevrolet Chevelle Malibu          8  3504  1970        USA         12.0   \n",
       "1          Buick Skylark 320          8  3693  1970        USA         11.5   \n",
       "2         Plymouth Satellite          8  3436  1970        USA         11.0   \n",
       "3              Amc Rebel Sst          8  3433  1970        USA         12.0   \n",
       "4                Ford Torino          8  3449  1970        USA         10.5   \n",
       "\n",
       "    mpg  caballos_potencia  desplazamiento  \n",
       "0  18.0              130.0           307.0  \n",
       "1  15.0              165.0           350.0  \n",
       "2  18.0              150.0           318.0  \n",
       "3  16.0              150.0           304.0  \n",
       "4  17.0              140.0           302.0  "
      ]
     },
     "execution_count": 1,
     "metadata": {},
     "output_type": "execute_result"
    }
   ],
   "source": [
    "import os\n",
    "import pandas as pd\n",
    "import numpy as np\n",
    "import matplotlib.pyplot as plt\n",
    "import seaborn as sns\n",
    "\n",
    "autos = pd.read_csv(os.path.join(\"./csv/\", \"datos_automoviles.csv\"))\n",
    "autos.head()"
   ]
  },
  {
   "cell_type": "markdown",
   "metadata": {},
   "source": [
    "## 1. ¿Existe alguna relacion entre el territorio y los caballos de potencia?\n",
    "\n",
    "<a id=\"1\"></a>\n",
    "\n",
    "`territorio` es una variable categórica, por tanto, no es posible calcular la correlación con `caballos_potencia`. Pero, como `territorio` solo puede tomar 3 valores (Europe, Japan, USA), convertir cada valor en un número y crear una nueva columna que tenga el `territorio` almacenado como un número. Así, sí es posible calcular la correlación."
   ]
  },
  {
   "cell_type": "code",
   "execution_count": 2,
   "metadata": {},
   "outputs": [
    {
     "data": {
      "text/plain": [
       "-0.030029215705601877"
      ]
     },
     "execution_count": 2,
     "metadata": {},
     "output_type": "execute_result"
    }
   ],
   "source": [
    "# Se crea la nueva columna\n",
    "def territorio_a_num(territorio):\n",
    "    serie_paises = ['Europe', 'USA', 'Japan']\n",
    "    if territorio == serie_paises[0]:\n",
    "        return 1\n",
    "    elif territorio == serie_paises[1]:\n",
    "        return 2\n",
    "    elif territorio == serie_paises[2]:\n",
    "        return 3\n",
    "    \n",
    "autos['territorio_num'] = autos['territorio'].map(territorio_a_num)\n",
    "\n",
    "# La correlación entre las variables\n",
    "autos.corr()['territorio_num']['caballos_potencia']"
   ]
  },
  {
   "cell_type": "markdown",
   "metadata": {},
   "source": [
    "## 2. ¿Cuál es la correlación entre los caballos de potencia y las millas por galón?\n",
    "\n",
    "<a id=\"2\"></a>"
   ]
  },
  {
   "cell_type": "code",
   "execution_count": 3,
   "metadata": {},
   "outputs": [
    {
     "data": {
      "text/html": [
       "<div>\n",
       "<style scoped>\n",
       "    .dataframe tbody tr th:only-of-type {\n",
       "        vertical-align: middle;\n",
       "    }\n",
       "\n",
       "    .dataframe tbody tr th {\n",
       "        vertical-align: top;\n",
       "    }\n",
       "\n",
       "    .dataframe thead th {\n",
       "        text-align: right;\n",
       "    }\n",
       "</style>\n",
       "<table border=\"1\" class=\"dataframe\">\n",
       "  <thead>\n",
       "    <tr style=\"text-align: right;\">\n",
       "      <th></th>\n",
       "      <th>cilindros</th>\n",
       "      <th>peso</th>\n",
       "      <th>anio</th>\n",
       "      <th>aceleracion</th>\n",
       "      <th>mpg</th>\n",
       "      <th>caballos_potencia</th>\n",
       "      <th>desplazamiento</th>\n",
       "      <th>territorio_num</th>\n",
       "    </tr>\n",
       "  </thead>\n",
       "  <tbody>\n",
       "    <tr>\n",
       "      <th>cilindros</th>\n",
       "      <td>1.000000</td>\n",
       "      <td>0.895220</td>\n",
       "      <td>-0.360762</td>\n",
       "      <td>-0.522452</td>\n",
       "      <td>-0.775396</td>\n",
       "      <td>0.844158</td>\n",
       "      <td>0.951787</td>\n",
       "      <td>-0.027908</td>\n",
       "    </tr>\n",
       "    <tr>\n",
       "      <th>peso</th>\n",
       "      <td>0.895220</td>\n",
       "      <td>1.000000</td>\n",
       "      <td>-0.315389</td>\n",
       "      <td>-0.430086</td>\n",
       "      <td>-0.831741</td>\n",
       "      <td>0.866586</td>\n",
       "      <td>0.932475</td>\n",
       "      <td>-0.094713</td>\n",
       "    </tr>\n",
       "    <tr>\n",
       "      <th>anio</th>\n",
       "      <td>-0.360762</td>\n",
       "      <td>-0.315389</td>\n",
       "      <td>1.000000</td>\n",
       "      <td>0.301992</td>\n",
       "      <td>0.579267</td>\n",
       "      <td>-0.424419</td>\n",
       "      <td>-0.381714</td>\n",
       "      <td>0.143544</td>\n",
       "    </tr>\n",
       "    <tr>\n",
       "      <th>aceleracion</th>\n",
       "      <td>-0.522452</td>\n",
       "      <td>-0.430086</td>\n",
       "      <td>0.301992</td>\n",
       "      <td>1.000000</td>\n",
       "      <td>0.420289</td>\n",
       "      <td>-0.697124</td>\n",
       "      <td>-0.557984</td>\n",
       "      <td>-0.062585</td>\n",
       "    </tr>\n",
       "    <tr>\n",
       "      <th>mpg</th>\n",
       "      <td>-0.775396</td>\n",
       "      <td>-0.831741</td>\n",
       "      <td>0.579267</td>\n",
       "      <td>0.420289</td>\n",
       "      <td>1.000000</td>\n",
       "      <td>-0.778427</td>\n",
       "      <td>-0.804203</td>\n",
       "      <td>0.127164</td>\n",
       "    </tr>\n",
       "    <tr>\n",
       "      <th>caballos_potencia</th>\n",
       "      <td>0.844158</td>\n",
       "      <td>0.866586</td>\n",
       "      <td>-0.424419</td>\n",
       "      <td>-0.697124</td>\n",
       "      <td>-0.778427</td>\n",
       "      <td>1.000000</td>\n",
       "      <td>0.898326</td>\n",
       "      <td>-0.030029</td>\n",
       "    </tr>\n",
       "    <tr>\n",
       "      <th>desplazamiento</th>\n",
       "      <td>0.951787</td>\n",
       "      <td>0.932475</td>\n",
       "      <td>-0.381714</td>\n",
       "      <td>-0.557984</td>\n",
       "      <td>-0.804203</td>\n",
       "      <td>0.898326</td>\n",
       "      <td>1.000000</td>\n",
       "      <td>-0.040180</td>\n",
       "    </tr>\n",
       "    <tr>\n",
       "      <th>territorio_num</th>\n",
       "      <td>-0.027908</td>\n",
       "      <td>-0.094713</td>\n",
       "      <td>0.143544</td>\n",
       "      <td>-0.062585</td>\n",
       "      <td>0.127164</td>\n",
       "      <td>-0.030029</td>\n",
       "      <td>-0.040180</td>\n",
       "      <td>1.000000</td>\n",
       "    </tr>\n",
       "  </tbody>\n",
       "</table>\n",
       "</div>"
      ],
      "text/plain": [
       "                   cilindros      peso      anio  aceleracion       mpg  \\\n",
       "cilindros           1.000000  0.895220 -0.360762    -0.522452 -0.775396   \n",
       "peso                0.895220  1.000000 -0.315389    -0.430086 -0.831741   \n",
       "anio               -0.360762 -0.315389  1.000000     0.301992  0.579267   \n",
       "aceleracion        -0.522452 -0.430086  0.301992     1.000000  0.420289   \n",
       "mpg                -0.775396 -0.831741  0.579267     0.420289  1.000000   \n",
       "caballos_potencia   0.844158  0.866586 -0.424419    -0.697124 -0.778427   \n",
       "desplazamiento      0.951787  0.932475 -0.381714    -0.557984 -0.804203   \n",
       "territorio_num     -0.027908 -0.094713  0.143544    -0.062585  0.127164   \n",
       "\n",
       "                   caballos_potencia  desplazamiento  territorio_num  \n",
       "cilindros                   0.844158        0.951787       -0.027908  \n",
       "peso                        0.866586        0.932475       -0.094713  \n",
       "anio                       -0.424419       -0.381714        0.143544  \n",
       "aceleracion                -0.697124       -0.557984       -0.062585  \n",
       "mpg                        -0.778427       -0.804203        0.127164  \n",
       "caballos_potencia           1.000000        0.898326       -0.030029  \n",
       "desplazamiento              0.898326        1.000000       -0.040180  \n",
       "territorio_num             -0.030029       -0.040180        1.000000  "
      ]
     },
     "execution_count": 3,
     "metadata": {},
     "output_type": "execute_result"
    }
   ],
   "source": [
    "autos_corr = autos.corr()\n",
    "autos_corr"
   ]
  },
  {
   "cell_type": "code",
   "execution_count": 4,
   "metadata": {},
   "outputs": [
    {
     "data": {
      "text/plain": [
       "-0.7784267838977761"
      ]
     },
     "execution_count": 4,
     "metadata": {},
     "output_type": "execute_result"
    }
   ],
   "source": [
    "autos_corr['caballos_potencia']['mpg']"
   ]
  },
  {
   "cell_type": "markdown",
   "metadata": {},
   "source": [
    "## 3. ¿Si existiese una relación, ambas variables se mueven en la misma dirección?\n",
    "\n",
    "<a id=\"3\"></a>\n",
    "\n",
    "Como se puede apreciar, la covarianza es negativa, lo cual indica que las variables se mueven en direcciones contrarias."
   ]
  },
  {
   "cell_type": "code",
   "execution_count": 5,
   "metadata": {},
   "outputs": [
    {
     "data": {
      "text/plain": [
       "-233.85792577900716"
      ]
     },
     "execution_count": 5,
     "metadata": {},
     "output_type": "execute_result"
    }
   ],
   "source": [
    "autos.cov()['mpg']['caballos_potencia']"
   ]
  },
  {
   "cell_type": "markdown",
   "metadata": {},
   "source": [
    "## 4. Compruebe la dirección de la relación con una visualización\n",
    "\n",
    "<a id=\"4\"></a>\n",
    "\n",
    "Las gráficas de regresión, se observa que la pendiente de la curva es negativa, lo cual indica que las variables son inversamente proporcionales, lo cual significa que las variables se mueven en direcciones contrarias."
   ]
  },
  {
   "cell_type": "code",
   "execution_count": 6,
   "metadata": {},
   "outputs": [
    {
     "data": {
      "text/plain": [
       "<AxesSubplot:title={'center':'scatter plot : mpg por caballos_potencia'}, xlabel='caballos_potencia', ylabel='mpg'>"
      ]
     },
     "execution_count": 6,
     "metadata": {},
     "output_type": "execute_result"
    },
    {
     "data": {
      "image/png": "[encoded data removed]",
      "text/plain": [
       "<Figure size 432x432 with 3 Axes>"
      ]
     },
     "metadata": {
      "needs_background": "light"
     },
     "output_type": "display_data"
    },
    {
     "data": {
      "image/png": "[encoded data removed]",
      "text/plain": [
       "<Figure size 432x288 with 1 Axes>"
      ]
     },
     "metadata": {
      "needs_background": "light"
     },
     "output_type": "display_data"
    }
   ],
   "source": [
    "# Graficar utilizando seaborn\n",
    "sns.jointplot(x='caballos_potencia', y='mpg', data=autos, color='#000000')\n",
    "\n",
    "# Graficar utilizando pandas\n",
    "autos.plot.scatter(x='caballos_potencia', y='mpg', color='#000000', title='scatter plot : mpg por caballos_potencia')"
   ]
  }
 ],
 "metadata": {
  "kernelspec": {
   "display_name": "Python 3",
   "language": "python",
   "name": "python3"
  },
  "language_info": {
   "codemirror_mode": {
    "name": "ipython",
    "version": 3
   },
   "file_extension": ".py",
   "mimetype": "text/x-python",
   "name": "python",
   "nbconvert_exporter": "python",
   "pygments_lexer": "ipython3",
   "version": "3.9.7"
  }
 },
 "nbformat": 4,
 "nbformat_minor": 2
}

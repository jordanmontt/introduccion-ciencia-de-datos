{
 "cells": [
  {
   "cell_type": "markdown",
   "metadata": {},
   "source": [
    "# Análisis exploratorio de datos\n",
    "\n",
    "## Definición\n",
    "__[Wikipedia](https://en.wikipedia.org/wiki/Exploratory_data_analysis)__\n",
    "\n",
    "El análisis exploratorio tiene como propósito el resumir las principales características de los datos, frecuentemente, se utilizan gráficas para ello. Este proceso aumenta la comprensión del dominio del problema, ya que nos ayuda a identificar la naturaleza de los datos (cuantitativa - contínua, discreta, cronológica; cualitativa nominal, categórica), ver su calidad e identificar si existen correlaciones entre ellos. Con esta información se pueden realizar hipótesis sobre relaciones causa y efecto, o como reemplazar variables faltantes, si es que existiesen.\n",
    "\n",
    "## Maneras de analizar los datos\n",
    "\n",
    "Se pueden analizar los datos de maneras diversas, como las que se ven a continuación. En este curso sólo se verán las primeras dos formas.\n",
    "\n",
    "- ### Análisis unidimensional\n",
    "\n",
    "Es la manera de analizar a los variables individualmente, ver sus características y naturaleza. Por ejemplo, si tenemos un conjunto de datos que contienen la edad, el peso y el sexo de una persona, podemos conocer el promedio de las edades, o la simetría del peso, entre muchas otras cosas.\n",
    "\n",
    "- ### Análisis multidimensional\n",
    "\n",
    "En esta manera analizamos multidimensionalmente a las variables, es decir, análizamos las relaciones y caracteŕisticas entre dos o más variables. Por ejemplo, siguiendo el ejemplo anterior, utilizando un análisis multivariable podemos determinar cuál es la correlación entre la edad y el peso de una persona.\n",
    "\n",
    "- #### Reducción de la dimensionalidad (factor analysis)?\n",
    "\n",
    "- #### Agrupación de datos (identificar grupos/clusters de observaciones similares)?\n",
    "\n",
    "\n",
    "## Tipos de visualizaciones\n",
    "\n",
    "Para saber como elegir de manera apropiada qué gráfico debemos elegir, recomiendo ver la [infografía](https://img.ctrlq.org/di/choosing_a_good_chart2.pdf) Chart Suggestions—A Thought-Starter de A. Abela.\n",
    "Para visualizar los datos, podemos utilizar varios tipos de gráficos, como:\n",
    "\n",
    "- **Tendencia central y dispersión**\n",
    "    \n",
    "Este tipo de gráficos muestran, como dice su nombre, la dispersión de los datos así como cual es la tendencia crentral hacia la cual los datos tienden. **Ejm**: Gráfico de distribución\n",
    "\n",
    "- **Comparación**\n",
    "\n",
    "Estos gráficos sirven para comparar los valores de los datos unos con otros, por ejemplo, ver cuál es la proporciones de las personas con 20 años con respecto a las de 70 años. **Ejm**: Gráfico de barras\n",
    "\n",
    "- **Relación - lineas, scatter plots**\n",
    "\n",
    "Los gráficos de relación nos muestran, como dice su nombre, la relación entre dos variables. Por tanto, este tipo de gráficos sólo se puede aplicar a varias variables (análisis multidimensional). **Ejm**: Gráficos de líneas, *Scatter Plots*.\n",
    "\n",
    "- **Composición/Proporción**\n",
    "\n",
    "Estos gráficos sirven para ver la proporción de varias variables con respecto de otras. **Ejm**: Grafico de torta, Gráfico de barras apiladas."
   ]
  },
  {
   "cell_type": "markdown",
   "metadata": {},
   "source": [
    "![](./01-eda-visual-techniques.png)"
   ]
  }
 ],
 "metadata": {
  "kernelspec": {
   "display_name": "Python 3",
   "language": "python",
   "name": "python3"
  },
  "language_info": {
   "codemirror_mode": {
    "name": "ipython",
    "version": 3
   },
   "file_extension": ".py",
   "mimetype": "text/x-python",
   "name": "python",
   "nbconvert_exporter": "python",
   "pygments_lexer": "ipython3",
   "version": "3.7.6"
  }
 },
 "nbformat": 4,
 "nbformat_minor": 2
}

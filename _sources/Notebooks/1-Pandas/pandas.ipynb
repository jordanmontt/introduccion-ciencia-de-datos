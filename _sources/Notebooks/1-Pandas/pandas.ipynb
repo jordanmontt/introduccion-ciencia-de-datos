{
 "cells": [
  {
   "cell_type": "markdown",
   "metadata": {},
   "source": [
    "# Pandas\n",
    "__[Pandas](https://pandas.pydata.org/pandas-docs/stable/index.html)__ es un paquete construido sobre la base de NumPy, incluye la implementación de la estructura **DataFrame**. Un DataFrame es, en esencia, un arreglo bidimensional con etiquetas para filas y columnas, típicamente las columnas contienen tipo de datos diferentes."
   ]
  },
  {
   "cell_type": "markdown",
   "metadata": {},
   "source": [
    "1. [Series](#1)\n",
    "2. [DataFrame](#2)\n",
    "3. [Índices](#3)\n",
    "4. [Obtención de datos](#4)\n",
    "5. [Se utiliza *(&, |)* en lugar de *(and, or)*](#8)\n",
    "6. [Modificación de datos](#5)\n",
    "7. [Apply](#6)\n",
    "8. [One Hot Encoding](#7)"
   ]
  },
  {
   "cell_type": "code",
   "execution_count": 9,
   "metadata": {},
   "outputs": [],
   "source": [
    "import numpy as np\n",
    "import pandas as pd"
   ]
  },
  {
   "cell_type": "markdown",
   "metadata": {},
   "source": [
    "## Series\n",
    "<a id=\"1\"></a>\n",
    "Un objecto de tipo *Series* es un arreglo de datos, parecido a un *Array* de *numpy*, que consta de índices y valores.\n",
    "\n",
    "Aquí algunos enlaces de referencia:\n",
    "- https://pandas.pydata.org/pandas-docs/stable/reference/series.html#computations-descriptive-stats\n",
    "- https://pandas.pydata.org/pandas-docs/stable/reference/api/pandas.Series.html"
   ]
  },
  {
   "cell_type": "markdown",
   "metadata": {},
   "source": [
    " **Una serie tiene varios métodos, como `min, mean, std`, entre muchos otros. Para crear una serie:**"
   ]
  },
  {
   "cell_type": "code",
   "execution_count": 10,
   "metadata": {},
   "outputs": [
    {
     "name": "stdout",
     "output_type": "stream",
     "text": [
      "0    0.25\n",
      "1    0.50\n",
      "2    0.75\n",
      "3    1.00\n",
      "dtype: float64\n",
      "Desviación estándar:  0.3227486121839514\n"
     ]
    }
   ],
   "source": [
    "serie = pd.Series([0.25, 0.5, 0.75, 1.0])\n",
    "print(serie)\n",
    "print('Desviación estándar: ', serie.std())"
   ]
  },
  {
   "cell_type": "markdown",
   "metadata": {},
   "source": [
    "**Una serie tiene valores e índices:**"
   ]
  },
  {
   "cell_type": "code",
   "execution_count": 11,
   "metadata": {},
   "outputs": [
    {
     "name": "stdout",
     "output_type": "stream",
     "text": [
      "Valores:  [0.25 0.5  0.75 1.  ]\n",
      "Índices:  RangeIndex(start=0, stop=4, step=1)\n"
     ]
    }
   ],
   "source": [
    "print('Valores: ', serie.values)\n",
    "print('Índices: ', serie.index)"
   ]
  },
  {
   "cell_type": "markdown",
   "metadata": {},
   "source": [
    "**Filtrado de datos, retorna una Serie de valores booleanos:**"
   ]
  },
  {
   "cell_type": "code",
   "execution_count": 12,
   "metadata": {},
   "outputs": [
    {
     "data": {
      "text/plain": [
       "0    False\n",
       "1    False\n",
       "2     True\n",
       "3     True\n",
       "dtype: bool"
      ]
     },
     "execution_count": 12,
     "metadata": {},
     "output_type": "execute_result"
    }
   ],
   "source": [
    "serie > 0.5"
   ]
  },
  {
   "cell_type": "code",
   "execution_count": 13,
   "metadata": {},
   "outputs": [
    {
     "data": {
      "text/plain": [
       "0    False\n",
       "1    False\n",
       "2    False\n",
       "3    False\n",
       "dtype: bool"
      ]
     },
     "execution_count": 13,
     "metadata": {},
     "output_type": "execute_result"
    }
   ],
   "source": [
    "serie.isnull()"
   ]
  },
  {
   "cell_type": "markdown",
   "metadata": {},
   "source": [
    "**A diferencia de los arreglos de *Numpy*, a una Serie se le puede asignar un indice de manera explícta:**"
   ]
  },
  {
   "cell_type": "code",
   "execution_count": 14,
   "metadata": {},
   "outputs": [
    {
     "name": "stdout",
     "output_type": "stream",
     "text": [
      "a    0.25\n",
      "b    0.50\n",
      "c    0.75\n",
      "dtype: float64\n"
     ]
    }
   ],
   "source": [
    "serie = pd.Series([0.25, 0.5, 0.75, 1.0], index=['a', 'b', 'c', 'd']) \n",
    "print(serie['a':'c'])"
   ]
  },
  {
   "cell_type": "markdown",
   "metadata": {},
   "source": [
    "**Se puede crear una Serie a partir de un diccionario (clave -> indice)**"
   ]
  },
  {
   "cell_type": "code",
   "execution_count": 15,
   "metadata": {},
   "outputs": [
    {
     "data": {
      "text/plain": [
       "Chuquisaca      626000\n",
       "La Paz        26448193\n",
       "Cochabamba     2883000\n",
       "Oruro           538000\n",
       "Potosí          887000\n",
       "Tarija          563000\n",
       "Santa Cruz     3225000\n",
       "Beni            468000\n",
       "Pando           144000\n",
       "dtype: int64"
      ]
     },
     "execution_count": 15,
     "metadata": {},
     "output_type": "execute_result"
    }
   ],
   "source": [
    "poblacion_dict = {'Chuquisaca': 626000, \n",
    "                  'La Paz': 26448193,\n",
    "                  'Cochabamba': 2883000,\n",
    "                  'Oruro': 538000,\n",
    "                  'Potosí': 887000,\n",
    "                  'Tarija': 563000,\n",
    "                  'Santa Cruz': 3225000,\n",
    "                  'Beni': 468000,\n",
    "                  'Pando': 144000 }\n",
    "poblacion = pd.Series(poblacion_dict)\n",
    "poblacion"
   ]
  },
  {
   "cell_type": "markdown",
   "metadata": {},
   "source": [
    "**Otros ejemplos de creación de Series**"
   ]
  },
  {
   "cell_type": "code",
   "execution_count": 16,
   "metadata": {},
   "outputs": [
    {
     "data": {
      "text/plain": [
       "100    5\n",
       "200    5\n",
       "300    5\n",
       "dtype: int64"
      ]
     },
     "execution_count": 16,
     "metadata": {},
     "output_type": "execute_result"
    }
   ],
   "source": [
    "serie = pd.Series(5, index=[100, 200, 300])\n",
    "serie"
   ]
  },
  {
   "cell_type": "markdown",
   "metadata": {},
   "source": [
    "**Selección de claves del diccionario (solo se crea un serie con una parte del diccionario)**"
   ]
  },
  {
   "cell_type": "code",
   "execution_count": 17,
   "metadata": {},
   "outputs": [
    {
     "data": {
      "text/plain": [
       "3    c\n",
       "2    a\n",
       "dtype: object"
      ]
     },
     "execution_count": 17,
     "metadata": {},
     "output_type": "execute_result"
    }
   ],
   "source": [
    "serie = pd.Series({2:'a', 1:'b', 3:'c'}, index=[3, 2])\n",
    "serie"
   ]
  },
  {
   "cell_type": "markdown",
   "metadata": {},
   "source": [
    "## Dataframes\n",
    "<a id=\"2\"></a>\n",
    "Un *DataFrame* es un arreglo bi-dimensional formado por una secuencia de Series con la misma cantidad de elementos y con el mismo índice. Es decir: es como un diccionario de Series del mismo tamaño y con los mismos índices. Un *DataFrame* permite asignar nombres a las columnas."
   ]
  },
  {
   "cell_type": "code",
   "execution_count": 18,
   "metadata": {},
   "outputs": [
    {
     "data": {
      "text/plain": [
       "Chuquisaca     51514\n",
       "La Paz        133985\n",
       "Cochabamba     55631\n",
       "Oruro          55588\n",
       "Potosí        117218\n",
       "Tarija         37623\n",
       "Santa Cruz    370621\n",
       "Beni          213564\n",
       "dtype: int64"
      ]
     },
     "execution_count": 18,
     "metadata": {},
     "output_type": "execute_result"
    }
   ],
   "source": [
    "extension_departamentos_Bolivia_dict = {'Chuquisaca': 51514, \n",
    "                    'La Paz': 133985,\n",
    "                    'Cochabamba': 55631,\n",
    "                    'Oruro': 55588,\n",
    "                    'Potosí': 117218,\n",
    "                    'Tarija': 37623,\n",
    "                    'Santa Cruz': 370621,\n",
    "                    'Beni': 213564\n",
    "                  }\n",
    "extension_departamentos_Serie = pd.Series(extension_departamentos_Bolivia_dict)\n",
    "extension_departamentos_Serie"
   ]
  },
  {
   "cell_type": "markdown",
   "metadata": {},
   "source": [
    "**Creación a partir de dos Series que tiene el mismo index (aunque los indices no estén en el mismo order o incluso falten datos en algunas de las Series)**"
   ]
  },
  {
   "cell_type": "code",
   "execution_count": 19,
   "metadata": {},
   "outputs": [
    {
     "data": {
      "text/html": [
       "<div>\n",
       "<style scoped>\n",
       "    .dataframe tbody tr th:only-of-type {\n",
       "        vertical-align: middle;\n",
       "    }\n",
       "\n",
       "    .dataframe tbody tr th {\n",
       "        vertical-align: top;\n",
       "    }\n",
       "\n",
       "    .dataframe thead th {\n",
       "        text-align: right;\n",
       "    }\n",
       "</style>\n",
       "<table border=\"1\" class=\"dataframe\">\n",
       "  <thead>\n",
       "    <tr style=\"text-align: right;\">\n",
       "      <th></th>\n",
       "      <th>poblacion</th>\n",
       "      <th>extension</th>\n",
       "    </tr>\n",
       "  </thead>\n",
       "  <tbody>\n",
       "    <tr>\n",
       "      <th>Beni</th>\n",
       "      <td>468000</td>\n",
       "      <td>213564.0</td>\n",
       "    </tr>\n",
       "    <tr>\n",
       "      <th>Chuquisaca</th>\n",
       "      <td>626000</td>\n",
       "      <td>51514.0</td>\n",
       "    </tr>\n",
       "    <tr>\n",
       "      <th>Cochabamba</th>\n",
       "      <td>2883000</td>\n",
       "      <td>55631.0</td>\n",
       "    </tr>\n",
       "    <tr>\n",
       "      <th>La Paz</th>\n",
       "      <td>26448193</td>\n",
       "      <td>133985.0</td>\n",
       "    </tr>\n",
       "    <tr>\n",
       "      <th>Oruro</th>\n",
       "      <td>538000</td>\n",
       "      <td>55588.0</td>\n",
       "    </tr>\n",
       "    <tr>\n",
       "      <th>Pando</th>\n",
       "      <td>144000</td>\n",
       "      <td>NaN</td>\n",
       "    </tr>\n",
       "    <tr>\n",
       "      <th>Potosí</th>\n",
       "      <td>887000</td>\n",
       "      <td>117218.0</td>\n",
       "    </tr>\n",
       "    <tr>\n",
       "      <th>Santa Cruz</th>\n",
       "      <td>3225000</td>\n",
       "      <td>370621.0</td>\n",
       "    </tr>\n",
       "    <tr>\n",
       "      <th>Tarija</th>\n",
       "      <td>563000</td>\n",
       "      <td>37623.0</td>\n",
       "    </tr>\n",
       "  </tbody>\n",
       "</table>\n",
       "</div>"
      ],
      "text/plain": [
       "            poblacion  extension\n",
       "Beni           468000   213564.0\n",
       "Chuquisaca     626000    51514.0\n",
       "Cochabamba    2883000    55631.0\n",
       "La Paz       26448193   133985.0\n",
       "Oruro          538000    55588.0\n",
       "Pando          144000        NaN\n",
       "Potosí         887000   117218.0\n",
       "Santa Cruz    3225000   370621.0\n",
       "Tarija         563000    37623.0"
      ]
     },
     "execution_count": 19,
     "metadata": {},
     "output_type": "execute_result"
    }
   ],
   "source": [
    "datos_bolivia = pd.DataFrame({'poblacion': poblacion, 'extension': extension_departamentos_Serie})\n",
    "datos_bolivia"
   ]
  },
  {
   "cell_type": "markdown",
   "metadata": {},
   "source": [
    "**Tanto las filas como las columnas tienen asociado un índice**"
   ]
  },
  {
   "cell_type": "code",
   "execution_count": 20,
   "metadata": {},
   "outputs": [
    {
     "name": "stdout",
     "output_type": "stream",
     "text": [
      "Index(['Beni', 'Chuquisaca', 'Cochabamba', 'La Paz', 'Oruro', 'Pando',\n",
      "       'Potosí', 'Santa Cruz', 'Tarija'],\n",
      "      dtype='object')\n",
      "Index(['poblacion', 'extension'], dtype='object')\n"
     ]
    }
   ],
   "source": [
    "print(datos_bolivia.index)\n",
    "print(datos_bolivia.columns)"
   ]
  },
  {
   "cell_type": "markdown",
   "metadata": {},
   "source": [
    "**Se puede ver a un DataFrame como un diccionario de Series (columnas)**"
   ]
  },
  {
   "cell_type": "code",
   "execution_count": 21,
   "metadata": {},
   "outputs": [
    {
     "data": {
      "text/plain": [
       "Beni            468000\n",
       "Chuquisaca      626000\n",
       "Cochabamba     2883000\n",
       "La Paz        26448193\n",
       "Oruro           538000\n",
       "Pando           144000\n",
       "Potosí          887000\n",
       "Santa Cruz     3225000\n",
       "Tarija          563000\n",
       "Name: poblacion, dtype: int64"
      ]
     },
     "execution_count": 21,
     "metadata": {},
     "output_type": "execute_result"
    }
   ],
   "source": [
    "datos_bolivia['poblacion']"
   ]
  },
  {
   "cell_type": "markdown",
   "metadata": {},
   "source": [
    "**Otras maneras de crear un DataFrame: si no se provee un índice se crea una secuencia de numeros que empieza en 0.**"
   ]
  },
  {
   "cell_type": "code",
   "execution_count": 22,
   "metadata": {},
   "outputs": [
    {
     "data": {
      "text/html": [
       "<div>\n",
       "<style scoped>\n",
       "    .dataframe tbody tr th:only-of-type {\n",
       "        vertical-align: middle;\n",
       "    }\n",
       "\n",
       "    .dataframe tbody tr th {\n",
       "        vertical-align: top;\n",
       "    }\n",
       "\n",
       "    .dataframe thead th {\n",
       "        text-align: right;\n",
       "    }\n",
       "</style>\n",
       "<table border=\"1\" class=\"dataframe\">\n",
       "  <thead>\n",
       "    <tr style=\"text-align: right;\">\n",
       "      <th></th>\n",
       "      <th>a</th>\n",
       "      <th>b</th>\n",
       "    </tr>\n",
       "  </thead>\n",
       "  <tbody>\n",
       "    <tr>\n",
       "      <th>0</th>\n",
       "      <td>1</td>\n",
       "      <td>45</td>\n",
       "    </tr>\n",
       "    <tr>\n",
       "      <th>1</th>\n",
       "      <td>87</td>\n",
       "      <td>96</td>\n",
       "    </tr>\n",
       "    <tr>\n",
       "      <th>2</th>\n",
       "      <td>125</td>\n",
       "      <td>13</td>\n",
       "    </tr>\n",
       "    <tr>\n",
       "      <th>3</th>\n",
       "      <td>135</td>\n",
       "      <td>789</td>\n",
       "    </tr>\n",
       "  </tbody>\n",
       "</table>\n",
       "</div>"
      ],
      "text/plain": [
       "     a    b\n",
       "0    1   45\n",
       "1   87   96\n",
       "2  125   13\n",
       "3  135  789"
      ]
     },
     "execution_count": 22,
     "metadata": {},
     "output_type": "execute_result"
    }
   ],
   "source": [
    "data = pd.DataFrame(columns=['a','b'], data=[[1, 45], [87, 96], [125, 13], [135, 789]])\n",
    "data"
   ]
  },
  {
   "cell_type": "markdown",
   "metadata": {},
   "source": [
    "**Lista de diccionarios (las claves son los nombres de las columnas)**"
   ]
  },
  {
   "cell_type": "code",
   "execution_count": 23,
   "metadata": {},
   "outputs": [
    {
     "data": {
      "text/html": [
       "<div>\n",
       "<style scoped>\n",
       "    .dataframe tbody tr th:only-of-type {\n",
       "        vertical-align: middle;\n",
       "    }\n",
       "\n",
       "    .dataframe tbody tr th {\n",
       "        vertical-align: top;\n",
       "    }\n",
       "\n",
       "    .dataframe thead th {\n",
       "        text-align: right;\n",
       "    }\n",
       "</style>\n",
       "<table border=\"1\" class=\"dataframe\">\n",
       "  <thead>\n",
       "    <tr style=\"text-align: right;\">\n",
       "      <th></th>\n",
       "      <th>a</th>\n",
       "      <th>b</th>\n",
       "      <th>c</th>\n",
       "    </tr>\n",
       "  </thead>\n",
       "  <tbody>\n",
       "    <tr>\n",
       "      <th>0</th>\n",
       "      <td>1.0</td>\n",
       "      <td>2</td>\n",
       "      <td>NaN</td>\n",
       "    </tr>\n",
       "    <tr>\n",
       "      <th>1</th>\n",
       "      <td>NaN</td>\n",
       "      <td>3</td>\n",
       "      <td>4.0</td>\n",
       "    </tr>\n",
       "  </tbody>\n",
       "</table>\n",
       "</div>"
      ],
      "text/plain": [
       "     a  b    c\n",
       "0  1.0  2  NaN\n",
       "1  NaN  3  4.0"
      ]
     },
     "execution_count": 23,
     "metadata": {},
     "output_type": "execute_result"
    }
   ],
   "source": [
    "data = pd.DataFrame([{'a': 1, 'b': 2}, {'b': 3, 'c': 4}])\n",
    "data"
   ]
  },
  {
   "cell_type": "markdown",
   "metadata": {},
   "source": [
    "**Información general de un *DataFrame***"
   ]
  },
  {
   "cell_type": "code",
   "execution_count": 24,
   "metadata": {},
   "outputs": [
    {
     "data": {
      "text/plain": [
       "(9, 2)"
      ]
     },
     "execution_count": 24,
     "metadata": {},
     "output_type": "execute_result"
    }
   ],
   "source": [
    "datos_bolivia.shape"
   ]
  },
  {
   "cell_type": "code",
   "execution_count": 25,
   "metadata": {},
   "outputs": [
    {
     "data": {
      "text/html": [
       "<div>\n",
       "<style scoped>\n",
       "    .dataframe tbody tr th:only-of-type {\n",
       "        vertical-align: middle;\n",
       "    }\n",
       "\n",
       "    .dataframe tbody tr th {\n",
       "        vertical-align: top;\n",
       "    }\n",
       "\n",
       "    .dataframe thead th {\n",
       "        text-align: right;\n",
       "    }\n",
       "</style>\n",
       "<table border=\"1\" class=\"dataframe\">\n",
       "  <thead>\n",
       "    <tr style=\"text-align: right;\">\n",
       "      <th></th>\n",
       "      <th>poblacion</th>\n",
       "      <th>extension</th>\n",
       "    </tr>\n",
       "  </thead>\n",
       "  <tbody>\n",
       "    <tr>\n",
       "      <th>Beni</th>\n",
       "      <td>468000</td>\n",
       "      <td>213564.0</td>\n",
       "    </tr>\n",
       "    <tr>\n",
       "      <th>Chuquisaca</th>\n",
       "      <td>626000</td>\n",
       "      <td>51514.0</td>\n",
       "    </tr>\n",
       "    <tr>\n",
       "      <th>Cochabamba</th>\n",
       "      <td>2883000</td>\n",
       "      <td>55631.0</td>\n",
       "    </tr>\n",
       "    <tr>\n",
       "      <th>La Paz</th>\n",
       "      <td>26448193</td>\n",
       "      <td>133985.0</td>\n",
       "    </tr>\n",
       "    <tr>\n",
       "      <th>Oruro</th>\n",
       "      <td>538000</td>\n",
       "      <td>55588.0</td>\n",
       "    </tr>\n",
       "  </tbody>\n",
       "</table>\n",
       "</div>"
      ],
      "text/plain": [
       "            poblacion  extension\n",
       "Beni           468000   213564.0\n",
       "Chuquisaca     626000    51514.0\n",
       "Cochabamba    2883000    55631.0\n",
       "La Paz       26448193   133985.0\n",
       "Oruro          538000    55588.0"
      ]
     },
     "execution_count": 25,
     "metadata": {},
     "output_type": "execute_result"
    }
   ],
   "source": [
    "datos_bolivia.head(5)"
   ]
  },
  {
   "cell_type": "code",
   "execution_count": 26,
   "metadata": {},
   "outputs": [
    {
     "data": {
      "text/html": [
       "<div>\n",
       "<style scoped>\n",
       "    .dataframe tbody tr th:only-of-type {\n",
       "        vertical-align: middle;\n",
       "    }\n",
       "\n",
       "    .dataframe tbody tr th {\n",
       "        vertical-align: top;\n",
       "    }\n",
       "\n",
       "    .dataframe thead th {\n",
       "        text-align: right;\n",
       "    }\n",
       "</style>\n",
       "<table border=\"1\" class=\"dataframe\">\n",
       "  <thead>\n",
       "    <tr style=\"text-align: right;\">\n",
       "      <th></th>\n",
       "      <th>poblacion</th>\n",
       "      <th>extension</th>\n",
       "    </tr>\n",
       "  </thead>\n",
       "  <tbody>\n",
       "    <tr>\n",
       "      <th>Oruro</th>\n",
       "      <td>538000</td>\n",
       "      <td>55588.0</td>\n",
       "    </tr>\n",
       "    <tr>\n",
       "      <th>Pando</th>\n",
       "      <td>144000</td>\n",
       "      <td>NaN</td>\n",
       "    </tr>\n",
       "    <tr>\n",
       "      <th>Potosí</th>\n",
       "      <td>887000</td>\n",
       "      <td>117218.0</td>\n",
       "    </tr>\n",
       "    <tr>\n",
       "      <th>Santa Cruz</th>\n",
       "      <td>3225000</td>\n",
       "      <td>370621.0</td>\n",
       "    </tr>\n",
       "    <tr>\n",
       "      <th>Tarija</th>\n",
       "      <td>563000</td>\n",
       "      <td>37623.0</td>\n",
       "    </tr>\n",
       "  </tbody>\n",
       "</table>\n",
       "</div>"
      ],
      "text/plain": [
       "            poblacion  extension\n",
       "Oruro          538000    55588.0\n",
       "Pando          144000        NaN\n",
       "Potosí         887000   117218.0\n",
       "Santa Cruz    3225000   370621.0\n",
       "Tarija         563000    37623.0"
      ]
     },
     "execution_count": 26,
     "metadata": {},
     "output_type": "execute_result"
    }
   ],
   "source": [
    "datos_bolivia.tail(5)"
   ]
  },
  {
   "cell_type": "code",
   "execution_count": 27,
   "metadata": {},
   "outputs": [
    {
     "data": {
      "text/plain": [
       "18"
      ]
     },
     "execution_count": 27,
     "metadata": {},
     "output_type": "execute_result"
    }
   ],
   "source": [
    "datos_bolivia.size"
   ]
  },
  {
   "cell_type": "code",
   "execution_count": 28,
   "metadata": {},
   "outputs": [
    {
     "name": "stdout",
     "output_type": "stream",
     "text": [
      "<class 'pandas.core.frame.DataFrame'>\n",
      "Index: 9 entries, Beni to Tarija\n",
      "Data columns (total 2 columns):\n",
      " #   Column     Non-Null Count  Dtype  \n",
      "---  ------     --------------  -----  \n",
      " 0   poblacion  9 non-null      int64  \n",
      " 1   extension  8 non-null      float64\n",
      "dtypes: float64(1), int64(1)\n",
      "memory usage: 516.0+ bytes\n"
     ]
    }
   ],
   "source": [
    "datos_bolivia.info()"
   ]
  },
  {
   "cell_type": "code",
   "execution_count": 29,
   "metadata": {},
   "outputs": [
    {
     "data": {
      "text/html": [
       "<div>\n",
       "<style scoped>\n",
       "    .dataframe tbody tr th:only-of-type {\n",
       "        vertical-align: middle;\n",
       "    }\n",
       "\n",
       "    .dataframe tbody tr th {\n",
       "        vertical-align: top;\n",
       "    }\n",
       "\n",
       "    .dataframe thead th {\n",
       "        text-align: right;\n",
       "    }\n",
       "</style>\n",
       "<table border=\"1\" class=\"dataframe\">\n",
       "  <thead>\n",
       "    <tr style=\"text-align: right;\">\n",
       "      <th></th>\n",
       "      <th>poblacion</th>\n",
       "      <th>extension</th>\n",
       "    </tr>\n",
       "  </thead>\n",
       "  <tbody>\n",
       "    <tr>\n",
       "      <th>count</th>\n",
       "      <td>9.000000e+00</td>\n",
       "      <td>8.000000</td>\n",
       "    </tr>\n",
       "    <tr>\n",
       "      <th>mean</th>\n",
       "      <td>3.975799e+06</td>\n",
       "      <td>129468.000000</td>\n",
       "    </tr>\n",
       "    <tr>\n",
       "      <th>std</th>\n",
       "      <td>8.499862e+06</td>\n",
       "      <td>113904.633998</td>\n",
       "    </tr>\n",
       "    <tr>\n",
       "      <th>min</th>\n",
       "      <td>1.440000e+05</td>\n",
       "      <td>37623.000000</td>\n",
       "    </tr>\n",
       "    <tr>\n",
       "      <th>25%</th>\n",
       "      <td>5.380000e+05</td>\n",
       "      <td>54569.500000</td>\n",
       "    </tr>\n",
       "    <tr>\n",
       "      <th>50%</th>\n",
       "      <td>6.260000e+05</td>\n",
       "      <td>86424.500000</td>\n",
       "    </tr>\n",
       "    <tr>\n",
       "      <th>75%</th>\n",
       "      <td>2.883000e+06</td>\n",
       "      <td>153879.750000</td>\n",
       "    </tr>\n",
       "    <tr>\n",
       "      <th>max</th>\n",
       "      <td>2.644819e+07</td>\n",
       "      <td>370621.000000</td>\n",
       "    </tr>\n",
       "  </tbody>\n",
       "</table>\n",
       "</div>"
      ],
      "text/plain": [
       "          poblacion      extension\n",
       "count  9.000000e+00       8.000000\n",
       "mean   3.975799e+06  129468.000000\n",
       "std    8.499862e+06  113904.633998\n",
       "min    1.440000e+05   37623.000000\n",
       "25%    5.380000e+05   54569.500000\n",
       "50%    6.260000e+05   86424.500000\n",
       "75%    2.883000e+06  153879.750000\n",
       "max    2.644819e+07  370621.000000"
      ]
     },
     "execution_count": 29,
     "metadata": {},
     "output_type": "execute_result"
    }
   ],
   "source": [
    "# la función describe() devuele un DataFrame con indicadores para cada una de las columnas\n",
    "datos_bolivia.describe()"
   ]
  },
  {
   "cell_type": "markdown",
   "metadata": {},
   "source": [
    "# Indices\n",
    "<a id=\"3\"></a>\n",
    "Un *Index* es el mecanismo para referenciar datos en las Series y los DataFrames. Un Index object es un **conjunto** ordenado de valores"
   ]
  },
  {
   "cell_type": "code",
   "execution_count": 30,
   "metadata": {},
   "outputs": [],
   "source": [
    "indA = pd.Index([1, 3, 5, 7, 9]) \n",
    "indB = pd.Index([2, 3, 5, 7, 11])"
   ]
  },
  {
   "cell_type": "code",
   "execution_count": 31,
   "metadata": {},
   "outputs": [
    {
     "name": "stdout",
     "output_type": "stream",
     "text": [
      "Int64Index([1, 2, 3, 5, 7, 9, 11], dtype='int64')\n",
      "Int64Index([3, 5, 7], dtype='int64')\n",
      "Int64Index([1, 9], dtype='int64')\n"
     ]
    }
   ],
   "source": [
    "print(indA.union(indB))\n",
    "print(indA.intersection(indB))\n",
    "print(indA.difference(indB))"
   ]
  },
  {
   "cell_type": "markdown",
   "metadata": {},
   "source": [
    "# Extracción de datos\n",
    "<a id=\"4\"></a>\n",
    "\n",
    "Extraer datos de un DataFrame o una serie."
   ]
  },
  {
   "cell_type": "code",
   "execution_count": 32,
   "metadata": {},
   "outputs": [
    {
     "data": {
      "text/html": [
       "<div>\n",
       "<style scoped>\n",
       "    .dataframe tbody tr th:only-of-type {\n",
       "        vertical-align: middle;\n",
       "    }\n",
       "\n",
       "    .dataframe tbody tr th {\n",
       "        vertical-align: top;\n",
       "    }\n",
       "\n",
       "    .dataframe thead th {\n",
       "        text-align: right;\n",
       "    }\n",
       "</style>\n",
       "<table border=\"1\" class=\"dataframe\">\n",
       "  <thead>\n",
       "    <tr style=\"text-align: right;\">\n",
       "      <th></th>\n",
       "      <th>poblacion</th>\n",
       "      <th>extension</th>\n",
       "    </tr>\n",
       "  </thead>\n",
       "  <tbody>\n",
       "    <tr>\n",
       "      <th>Beni</th>\n",
       "      <td>468000</td>\n",
       "      <td>213564.0</td>\n",
       "    </tr>\n",
       "    <tr>\n",
       "      <th>Chuquisaca</th>\n",
       "      <td>626000</td>\n",
       "      <td>51514.0</td>\n",
       "    </tr>\n",
       "    <tr>\n",
       "      <th>Cochabamba</th>\n",
       "      <td>2883000</td>\n",
       "      <td>55631.0</td>\n",
       "    </tr>\n",
       "    <tr>\n",
       "      <th>La Paz</th>\n",
       "      <td>26448193</td>\n",
       "      <td>133985.0</td>\n",
       "    </tr>\n",
       "    <tr>\n",
       "      <th>Oruro</th>\n",
       "      <td>538000</td>\n",
       "      <td>55588.0</td>\n",
       "    </tr>\n",
       "    <tr>\n",
       "      <th>Pando</th>\n",
       "      <td>144000</td>\n",
       "      <td>NaN</td>\n",
       "    </tr>\n",
       "    <tr>\n",
       "      <th>Potosí</th>\n",
       "      <td>887000</td>\n",
       "      <td>117218.0</td>\n",
       "    </tr>\n",
       "    <tr>\n",
       "      <th>Santa Cruz</th>\n",
       "      <td>3225000</td>\n",
       "      <td>370621.0</td>\n",
       "    </tr>\n",
       "    <tr>\n",
       "      <th>Tarija</th>\n",
       "      <td>563000</td>\n",
       "      <td>37623.0</td>\n",
       "    </tr>\n",
       "  </tbody>\n",
       "</table>\n",
       "</div>"
      ],
      "text/plain": [
       "            poblacion  extension\n",
       "Beni           468000   213564.0\n",
       "Chuquisaca     626000    51514.0\n",
       "Cochabamba    2883000    55631.0\n",
       "La Paz       26448193   133985.0\n",
       "Oruro          538000    55588.0\n",
       "Pando          144000        NaN\n",
       "Potosí         887000   117218.0\n",
       "Santa Cruz    3225000   370621.0\n",
       "Tarija         563000    37623.0"
      ]
     },
     "execution_count": 32,
     "metadata": {},
     "output_type": "execute_result"
    }
   ],
   "source": [
    "datos_bolivia = pd.DataFrame(data={'poblacion':poblacion, 'extension':extension_departamentos_Serie})\n",
    "datos_bolivia"
   ]
  },
  {
   "cell_type": "markdown",
   "metadata": {},
   "source": [
    "**Un *DataFrame* es como diccionario de Series (columnas) en el cual se puede extraer y modificar datos**"
   ]
  },
  {
   "cell_type": "code",
   "execution_count": 33,
   "metadata": {},
   "outputs": [
    {
     "data": {
      "text/html": [
       "<div>\n",
       "<style scoped>\n",
       "    .dataframe tbody tr th:only-of-type {\n",
       "        vertical-align: middle;\n",
       "    }\n",
       "\n",
       "    .dataframe tbody tr th {\n",
       "        vertical-align: top;\n",
       "    }\n",
       "\n",
       "    .dataframe thead th {\n",
       "        text-align: right;\n",
       "    }\n",
       "</style>\n",
       "<table border=\"1\" class=\"dataframe\">\n",
       "  <thead>\n",
       "    <tr style=\"text-align: right;\">\n",
       "      <th></th>\n",
       "      <th>poblacion</th>\n",
       "      <th>extension</th>\n",
       "      <th>constante</th>\n",
       "      <th>densidad</th>\n",
       "    </tr>\n",
       "  </thead>\n",
       "  <tbody>\n",
       "    <tr>\n",
       "      <th>Beni</th>\n",
       "      <td>468000</td>\n",
       "      <td>213564.0</td>\n",
       "      <td>1</td>\n",
       "      <td>2.191381</td>\n",
       "    </tr>\n",
       "    <tr>\n",
       "      <th>Chuquisaca</th>\n",
       "      <td>626000</td>\n",
       "      <td>51514.0</td>\n",
       "      <td>1</td>\n",
       "      <td>12.152036</td>\n",
       "    </tr>\n",
       "    <tr>\n",
       "      <th>Cochabamba</th>\n",
       "      <td>2883000</td>\n",
       "      <td>55631.0</td>\n",
       "      <td>1</td>\n",
       "      <td>51.823624</td>\n",
       "    </tr>\n",
       "    <tr>\n",
       "      <th>La Paz</th>\n",
       "      <td>26448193</td>\n",
       "      <td>133985.0</td>\n",
       "      <td>1</td>\n",
       "      <td>197.396671</td>\n",
       "    </tr>\n",
       "    <tr>\n",
       "      <th>Oruro</th>\n",
       "      <td>538000</td>\n",
       "      <td>55588.0</td>\n",
       "      <td>1</td>\n",
       "      <td>9.678348</td>\n",
       "    </tr>\n",
       "    <tr>\n",
       "      <th>Pando</th>\n",
       "      <td>144000</td>\n",
       "      <td>NaN</td>\n",
       "      <td>1</td>\n",
       "      <td>NaN</td>\n",
       "    </tr>\n",
       "    <tr>\n",
       "      <th>Potosí</th>\n",
       "      <td>887000</td>\n",
       "      <td>117218.0</td>\n",
       "      <td>1</td>\n",
       "      <td>7.567097</td>\n",
       "    </tr>\n",
       "    <tr>\n",
       "      <th>Santa Cruz</th>\n",
       "      <td>3225000</td>\n",
       "      <td>370621.0</td>\n",
       "      <td>1</td>\n",
       "      <td>8.701612</td>\n",
       "    </tr>\n",
       "    <tr>\n",
       "      <th>Tarija</th>\n",
       "      <td>563000</td>\n",
       "      <td>37623.0</td>\n",
       "      <td>1</td>\n",
       "      <td>14.964251</td>\n",
       "    </tr>\n",
       "  </tbody>\n",
       "</table>\n",
       "</div>"
      ],
      "text/plain": [
       "            poblacion  extension  constante    densidad\n",
       "Beni           468000   213564.0          1    2.191381\n",
       "Chuquisaca     626000    51514.0          1   12.152036\n",
       "Cochabamba    2883000    55631.0          1   51.823624\n",
       "La Paz       26448193   133985.0          1  197.396671\n",
       "Oruro          538000    55588.0          1    9.678348\n",
       "Pando          144000        NaN          1         NaN\n",
       "Potosí         887000   117218.0          1    7.567097\n",
       "Santa Cruz    3225000   370621.0          1    8.701612\n",
       "Tarija         563000    37623.0          1   14.964251"
      ]
     },
     "execution_count": 33,
     "metadata": {},
     "output_type": "execute_result"
    }
   ],
   "source": [
    "datos_bolivia['poblacion']\n",
    "datos_bolivia[['poblacion','extension']]\n",
    "datos_bolivia['constante'] = 1\n",
    "datos_bolivia['densidad'] = datos_bolivia['poblacion'] / datos_bolivia['extension']\n",
    "datos_bolivia"
   ]
  },
  {
   "cell_type": "code",
   "execution_count": 46,
   "metadata": {},
   "outputs": [
    {
     "data": {
      "text/html": [
       "<div>\n",
       "<style scoped>\n",
       "    .dataframe tbody tr th:only-of-type {\n",
       "        vertical-align: middle;\n",
       "    }\n",
       "\n",
       "    .dataframe tbody tr th {\n",
       "        vertical-align: top;\n",
       "    }\n",
       "\n",
       "    .dataframe thead th {\n",
       "        text-align: right;\n",
       "    }\n",
       "</style>\n",
       "<table border=\"1\" class=\"dataframe\">\n",
       "  <thead>\n",
       "    <tr style=\"text-align: right;\">\n",
       "      <th></th>\n",
       "      <th>poblacion</th>\n",
       "      <th>extension</th>\n",
       "      <th>densidad</th>\n",
       "      <th>capital</th>\n",
       "    </tr>\n",
       "  </thead>\n",
       "  <tbody>\n",
       "    <tr>\n",
       "      <th>Beni</th>\n",
       "      <td>468000</td>\n",
       "      <td>213564.0</td>\n",
       "      <td>2.191381</td>\n",
       "      <td>Trinidad</td>\n",
       "    </tr>\n",
       "    <tr>\n",
       "      <th>Chuquisaca</th>\n",
       "      <td>626000</td>\n",
       "      <td>51514.0</td>\n",
       "      <td>12.152036</td>\n",
       "      <td>Sucre</td>\n",
       "    </tr>\n",
       "    <tr>\n",
       "      <th>Cochabamba</th>\n",
       "      <td>2883000</td>\n",
       "      <td>55631.0</td>\n",
       "      <td>51.823624</td>\n",
       "      <td>Cercado</td>\n",
       "    </tr>\n",
       "    <tr>\n",
       "      <th>La Paz</th>\n",
       "      <td>26448193</td>\n",
       "      <td>133985.0</td>\n",
       "      <td>197.396671</td>\n",
       "      <td>Murillo</td>\n",
       "    </tr>\n",
       "    <tr>\n",
       "      <th>Oruro</th>\n",
       "      <td>538000</td>\n",
       "      <td>55588.0</td>\n",
       "      <td>9.678348</td>\n",
       "      <td>Cercado</td>\n",
       "    </tr>\n",
       "    <tr>\n",
       "      <th>Pando</th>\n",
       "      <td>144000</td>\n",
       "      <td>NaN</td>\n",
       "      <td>NaN</td>\n",
       "      <td>Cobija</td>\n",
       "    </tr>\n",
       "    <tr>\n",
       "      <th>Potosí</th>\n",
       "      <td>887000</td>\n",
       "      <td>117218.0</td>\n",
       "      <td>7.567097</td>\n",
       "      <td>Potosí</td>\n",
       "    </tr>\n",
       "    <tr>\n",
       "      <th>Santa Cruz</th>\n",
       "      <td>3225000</td>\n",
       "      <td>370621.0</td>\n",
       "      <td>8.701612</td>\n",
       "      <td>Santa Cruz de la Sierra</td>\n",
       "    </tr>\n",
       "    <tr>\n",
       "      <th>Tarija</th>\n",
       "      <td>563000</td>\n",
       "      <td>37623.0</td>\n",
       "      <td>14.964251</td>\n",
       "      <td>Tarija</td>\n",
       "    </tr>\n",
       "  </tbody>\n",
       "</table>\n",
       "</div>"
      ],
      "text/plain": [
       "            poblacion  extension    densidad                  capital\n",
       "Beni           468000   213564.0    2.191381                 Trinidad\n",
       "Chuquisaca     626000    51514.0   12.152036                    Sucre\n",
       "Cochabamba    2883000    55631.0   51.823624                  Cercado\n",
       "La Paz       26448193   133985.0  197.396671                  Murillo\n",
       "Oruro          538000    55588.0    9.678348                  Cercado\n",
       "Pando          144000        NaN         NaN                   Cobija\n",
       "Potosí         887000   117218.0    7.567097                   Potosí\n",
       "Santa Cruz    3225000   370621.0    8.701612  Santa Cruz de la Sierra\n",
       "Tarija         563000    37623.0   14.964251                   Tarija"
      ]
     },
     "execution_count": 46,
     "metadata": {},
     "output_type": "execute_result"
    }
   ],
   "source": [
    "datos_bolivia['capital'] =  pd.Series({'Chuquisaca': 'Sucre', \n",
    "                    'La Paz': 'Murillo',\n",
    "                    'Cochabamba': 'Cercado',\n",
    "                    'Oruro': 'Cercado',\n",
    "                    'Potosí': 'Potosí',\n",
    "                    'Tarija': 'Tarija',\n",
    "                    'Santa Cruz': 'Santa Cruz de la Sierra',\n",
    "                   'Pando': 'Cobija',\n",
    "                    'Beni': 'Trinidad' })\n",
    "datos_bolivia"
   ]
  },
  {
   "cell_type": "markdown",
   "metadata": {},
   "source": [
    "**Un DataFrame es también como un arreglo bidimensional (una matriz de Series)\n",
    "Soporta indices, slicing, filtering empleando los indices explicitos (iloc usa indices numéricos implicitos).\n",
    "El primer valor de la matriz hace referencia a las filas**\n",
    "\n",
    "- https://railsware.com/blog/python-for-machine-learning-indexing-and-slicing-for-lists-tuples-strings-and-other--sequential-types/"
   ]
  },
  {
   "cell_type": "code",
   "execution_count": 35,
   "metadata": {},
   "outputs": [
    {
     "data": {
      "text/plain": [
       "poblacion      468000\n",
       "extension    213564.0\n",
       "constante           1\n",
       "densidad     2.191381\n",
       "capital      Trinidad\n",
       "Name: Beni, dtype: object"
      ]
     },
     "execution_count": 35,
     "metadata": {},
     "output_type": "execute_result"
    }
   ],
   "source": [
    "datos_bolivia.loc['Beni']"
   ]
  },
  {
   "cell_type": "code",
   "execution_count": 36,
   "metadata": {},
   "outputs": [
    {
     "data": {
      "text/html": [
       "<div>\n",
       "<style scoped>\n",
       "    .dataframe tbody tr th:only-of-type {\n",
       "        vertical-align: middle;\n",
       "    }\n",
       "\n",
       "    .dataframe tbody tr th {\n",
       "        vertical-align: top;\n",
       "    }\n",
       "\n",
       "    .dataframe thead th {\n",
       "        text-align: right;\n",
       "    }\n",
       "</style>\n",
       "<table border=\"1\" class=\"dataframe\">\n",
       "  <thead>\n",
       "    <tr style=\"text-align: right;\">\n",
       "      <th></th>\n",
       "      <th>poblacion</th>\n",
       "      <th>extension</th>\n",
       "      <th>constante</th>\n",
       "      <th>densidad</th>\n",
       "      <th>capital</th>\n",
       "    </tr>\n",
       "  </thead>\n",
       "  <tbody>\n",
       "    <tr>\n",
       "      <th>Beni</th>\n",
       "      <td>468000</td>\n",
       "      <td>213564.0</td>\n",
       "      <td>1</td>\n",
       "      <td>2.191381</td>\n",
       "      <td>Trinidad</td>\n",
       "    </tr>\n",
       "    <tr>\n",
       "      <th>Chuquisaca</th>\n",
       "      <td>626000</td>\n",
       "      <td>51514.0</td>\n",
       "      <td>1</td>\n",
       "      <td>12.152036</td>\n",
       "      <td>Sucre</td>\n",
       "    </tr>\n",
       "    <tr>\n",
       "      <th>Cochabamba</th>\n",
       "      <td>2883000</td>\n",
       "      <td>55631.0</td>\n",
       "      <td>1</td>\n",
       "      <td>51.823624</td>\n",
       "      <td>Cochabamba</td>\n",
       "    </tr>\n",
       "    <tr>\n",
       "      <th>La Paz</th>\n",
       "      <td>26448193</td>\n",
       "      <td>133985.0</td>\n",
       "      <td>1</td>\n",
       "      <td>197.396671</td>\n",
       "      <td>La Paz</td>\n",
       "    </tr>\n",
       "    <tr>\n",
       "      <th>Oruro</th>\n",
       "      <td>538000</td>\n",
       "      <td>55588.0</td>\n",
       "      <td>1</td>\n",
       "      <td>9.678348</td>\n",
       "      <td>Oruro</td>\n",
       "    </tr>\n",
       "  </tbody>\n",
       "</table>\n",
       "</div>"
      ],
      "text/plain": [
       "            poblacion  extension  constante    densidad     capital\n",
       "Beni           468000   213564.0          1    2.191381    Trinidad\n",
       "Chuquisaca     626000    51514.0          1   12.152036       Sucre\n",
       "Cochabamba    2883000    55631.0          1   51.823624  Cochabamba\n",
       "La Paz       26448193   133985.0          1  197.396671      La Paz\n",
       "Oruro          538000    55588.0          1    9.678348       Oruro"
      ]
     },
     "execution_count": 36,
     "metadata": {},
     "output_type": "execute_result"
    }
   ],
   "source": [
    "datos_bolivia.loc['Beni':'Oruro']"
   ]
  },
  {
   "cell_type": "code",
   "execution_count": 37,
   "metadata": {},
   "outputs": [
    {
     "data": {
      "text/plain": [
       "Beni          False\n",
       "Chuquisaca    False\n",
       "Cochabamba     True\n",
       "La Paz         True\n",
       "Oruro         False\n",
       "Pando         False\n",
       "Potosí        False\n",
       "Santa Cruz     True\n",
       "Tarija        False\n",
       "Name: poblacion, dtype: bool"
      ]
     },
     "execution_count": 37,
     "metadata": {},
     "output_type": "execute_result"
    }
   ],
   "source": [
    "datos_bolivia['poblacion'] > 2000000"
   ]
  },
  {
   "cell_type": "code",
   "execution_count": 38,
   "metadata": {},
   "outputs": [
    {
     "data": {
      "text/plain": [
       "Beni          False\n",
       "Chuquisaca    False\n",
       "Cochabamba    False\n",
       "La Paz        False\n",
       "Oruro         False\n",
       "Pando          True\n",
       "Potosí        False\n",
       "Santa Cruz    False\n",
       "Tarija        False\n",
       "Name: extension, dtype: bool"
      ]
     },
     "execution_count": 38,
     "metadata": {},
     "output_type": "execute_result"
    }
   ],
   "source": [
    "datos_bolivia['extension'].isnull()"
   ]
  },
  {
   "cell_type": "markdown",
   "metadata": {},
   "source": [
    "## Se utiliza *(&, |)* en lugar de *(and, or)*\n",
    "<a id=\"8\"></a>"
   ]
  },
  {
   "cell_type": "code",
   "execution_count": 39,
   "metadata": {},
   "outputs": [
    {
     "data": {
      "text/html": [
       "<div>\n",
       "<style scoped>\n",
       "    .dataframe tbody tr th:only-of-type {\n",
       "        vertical-align: middle;\n",
       "    }\n",
       "\n",
       "    .dataframe tbody tr th {\n",
       "        vertical-align: top;\n",
       "    }\n",
       "\n",
       "    .dataframe thead th {\n",
       "        text-align: right;\n",
       "    }\n",
       "</style>\n",
       "<table border=\"1\" class=\"dataframe\">\n",
       "  <thead>\n",
       "    <tr style=\"text-align: right;\">\n",
       "      <th></th>\n",
       "      <th>poblacion</th>\n",
       "      <th>extension</th>\n",
       "      <th>constante</th>\n",
       "      <th>densidad</th>\n",
       "      <th>capital</th>\n",
       "    </tr>\n",
       "  </thead>\n",
       "  <tbody>\n",
       "    <tr>\n",
       "      <th>Beni</th>\n",
       "      <td>468000</td>\n",
       "      <td>213564.0</td>\n",
       "      <td>1</td>\n",
       "      <td>2.191381</td>\n",
       "      <td>Trinidad</td>\n",
       "    </tr>\n",
       "    <tr>\n",
       "      <th>Chuquisaca</th>\n",
       "      <td>626000</td>\n",
       "      <td>51514.0</td>\n",
       "      <td>1</td>\n",
       "      <td>12.152036</td>\n",
       "      <td>Sucre</td>\n",
       "    </tr>\n",
       "    <tr>\n",
       "      <th>Cochabamba</th>\n",
       "      <td>2883000</td>\n",
       "      <td>55631.0</td>\n",
       "      <td>1</td>\n",
       "      <td>51.823624</td>\n",
       "      <td>Cochabamba</td>\n",
       "    </tr>\n",
       "    <tr>\n",
       "      <th>La Paz</th>\n",
       "      <td>26448193</td>\n",
       "      <td>133985.0</td>\n",
       "      <td>1</td>\n",
       "      <td>197.396671</td>\n",
       "      <td>La Paz</td>\n",
       "    </tr>\n",
       "    <tr>\n",
       "      <th>Oruro</th>\n",
       "      <td>538000</td>\n",
       "      <td>55588.0</td>\n",
       "      <td>1</td>\n",
       "      <td>9.678348</td>\n",
       "      <td>Oruro</td>\n",
       "    </tr>\n",
       "    <tr>\n",
       "      <th>Pando</th>\n",
       "      <td>144000</td>\n",
       "      <td>NaN</td>\n",
       "      <td>1</td>\n",
       "      <td>NaN</td>\n",
       "      <td>Cobija</td>\n",
       "    </tr>\n",
       "    <tr>\n",
       "      <th>Potosí</th>\n",
       "      <td>887000</td>\n",
       "      <td>117218.0</td>\n",
       "      <td>1</td>\n",
       "      <td>7.567097</td>\n",
       "      <td>Potosí</td>\n",
       "    </tr>\n",
       "    <tr>\n",
       "      <th>Santa Cruz</th>\n",
       "      <td>3225000</td>\n",
       "      <td>370621.0</td>\n",
       "      <td>1</td>\n",
       "      <td>8.701612</td>\n",
       "      <td>Santa Cruz</td>\n",
       "    </tr>\n",
       "    <tr>\n",
       "      <th>Tarija</th>\n",
       "      <td>563000</td>\n",
       "      <td>37623.0</td>\n",
       "      <td>1</td>\n",
       "      <td>14.964251</td>\n",
       "      <td>Tarija</td>\n",
       "    </tr>\n",
       "  </tbody>\n",
       "</table>\n",
       "</div>"
      ],
      "text/plain": [
       "            poblacion  extension  constante    densidad     capital\n",
       "Beni           468000   213564.0          1    2.191381    Trinidad\n",
       "Chuquisaca     626000    51514.0          1   12.152036       Sucre\n",
       "Cochabamba    2883000    55631.0          1   51.823624  Cochabamba\n",
       "La Paz       26448193   133985.0          1  197.396671      La Paz\n",
       "Oruro          538000    55588.0          1    9.678348       Oruro\n",
       "Pando          144000        NaN          1         NaN      Cobija\n",
       "Potosí         887000   117218.0          1    7.567097      Potosí\n",
       "Santa Cruz    3225000   370621.0          1    8.701612  Santa Cruz\n",
       "Tarija         563000    37623.0          1   14.964251      Tarija"
      ]
     },
     "execution_count": 39,
     "metadata": {},
     "output_type": "execute_result"
    }
   ],
   "source": [
    "datos_bolivia.loc[(datos_bolivia['poblacion'] > 2000000) & (datos_bolivia['extension']> 60000.0), ['poblacion','densidad'] ]\n",
    "datos_bolivia"
   ]
  },
  {
   "cell_type": "markdown",
   "metadata": {},
   "source": [
    "# Modificación de datos\n",
    "<a id=\"5\"></a>"
   ]
  },
  {
   "cell_type": "markdown",
   "metadata": {},
   "source": [
    "**Elimina todos los datos de una columna**"
   ]
  },
  {
   "cell_type": "code",
   "execution_count": 40,
   "metadata": {},
   "outputs": [
    {
     "data": {
      "text/html": [
       "<div>\n",
       "<style scoped>\n",
       "    .dataframe tbody tr th:only-of-type {\n",
       "        vertical-align: middle;\n",
       "    }\n",
       "\n",
       "    .dataframe tbody tr th {\n",
       "        vertical-align: top;\n",
       "    }\n",
       "\n",
       "    .dataframe thead th {\n",
       "        text-align: right;\n",
       "    }\n",
       "</style>\n",
       "<table border=\"1\" class=\"dataframe\">\n",
       "  <thead>\n",
       "    <tr style=\"text-align: right;\">\n",
       "      <th></th>\n",
       "      <th>poblacion</th>\n",
       "      <th>extension</th>\n",
       "      <th>densidad</th>\n",
       "      <th>capital</th>\n",
       "    </tr>\n",
       "  </thead>\n",
       "  <tbody>\n",
       "    <tr>\n",
       "      <th>Beni</th>\n",
       "      <td>468000</td>\n",
       "      <td>213564.0</td>\n",
       "      <td>2.191381</td>\n",
       "      <td>Trinidad</td>\n",
       "    </tr>\n",
       "    <tr>\n",
       "      <th>Chuquisaca</th>\n",
       "      <td>626000</td>\n",
       "      <td>51514.0</td>\n",
       "      <td>12.152036</td>\n",
       "      <td>Sucre</td>\n",
       "    </tr>\n",
       "    <tr>\n",
       "      <th>Cochabamba</th>\n",
       "      <td>2883000</td>\n",
       "      <td>55631.0</td>\n",
       "      <td>51.823624</td>\n",
       "      <td>Cochabamba</td>\n",
       "    </tr>\n",
       "    <tr>\n",
       "      <th>La Paz</th>\n",
       "      <td>26448193</td>\n",
       "      <td>133985.0</td>\n",
       "      <td>197.396671</td>\n",
       "      <td>La Paz</td>\n",
       "    </tr>\n",
       "    <tr>\n",
       "      <th>Oruro</th>\n",
       "      <td>538000</td>\n",
       "      <td>55588.0</td>\n",
       "      <td>9.678348</td>\n",
       "      <td>Oruro</td>\n",
       "    </tr>\n",
       "    <tr>\n",
       "      <th>Pando</th>\n",
       "      <td>144000</td>\n",
       "      <td>NaN</td>\n",
       "      <td>NaN</td>\n",
       "      <td>Cobija</td>\n",
       "    </tr>\n",
       "    <tr>\n",
       "      <th>Potosí</th>\n",
       "      <td>887000</td>\n",
       "      <td>117218.0</td>\n",
       "      <td>7.567097</td>\n",
       "      <td>Potosí</td>\n",
       "    </tr>\n",
       "    <tr>\n",
       "      <th>Santa Cruz</th>\n",
       "      <td>3225000</td>\n",
       "      <td>370621.0</td>\n",
       "      <td>8.701612</td>\n",
       "      <td>Santa Cruz</td>\n",
       "    </tr>\n",
       "    <tr>\n",
       "      <th>Tarija</th>\n",
       "      <td>563000</td>\n",
       "      <td>37623.0</td>\n",
       "      <td>14.964251</td>\n",
       "      <td>Tarija</td>\n",
       "    </tr>\n",
       "  </tbody>\n",
       "</table>\n",
       "</div>"
      ],
      "text/plain": [
       "            poblacion  extension    densidad     capital\n",
       "Beni           468000   213564.0    2.191381    Trinidad\n",
       "Chuquisaca     626000    51514.0   12.152036       Sucre\n",
       "Cochabamba    2883000    55631.0   51.823624  Cochabamba\n",
       "La Paz       26448193   133985.0  197.396671      La Paz\n",
       "Oruro          538000    55588.0    9.678348       Oruro\n",
       "Pando          144000        NaN         NaN      Cobija\n",
       "Potosí         887000   117218.0    7.567097      Potosí\n",
       "Santa Cruz    3225000   370621.0    8.701612  Santa Cruz\n",
       "Tarija         563000    37623.0   14.964251      Tarija"
      ]
     },
     "execution_count": 40,
     "metadata": {},
     "output_type": "execute_result"
    }
   ],
   "source": [
    "datos_bolivia.drop(columns=['constante'], inplace=True)\n",
    "datos_bolivia"
   ]
  },
  {
   "cell_type": "markdown",
   "metadata": {},
   "source": [
    "**Eliminar los datos faltantes (los que son NaN)**"
   ]
  },
  {
   "cell_type": "code",
   "execution_count": 41,
   "metadata": {},
   "outputs": [
    {
     "data": {
      "text/html": [
       "<div>\n",
       "<style scoped>\n",
       "    .dataframe tbody tr th:only-of-type {\n",
       "        vertical-align: middle;\n",
       "    }\n",
       "\n",
       "    .dataframe tbody tr th {\n",
       "        vertical-align: top;\n",
       "    }\n",
       "\n",
       "    .dataframe thead th {\n",
       "        text-align: right;\n",
       "    }\n",
       "</style>\n",
       "<table border=\"1\" class=\"dataframe\">\n",
       "  <thead>\n",
       "    <tr style=\"text-align: right;\">\n",
       "      <th></th>\n",
       "      <th>poblacion</th>\n",
       "      <th>extension</th>\n",
       "      <th>densidad</th>\n",
       "      <th>capital</th>\n",
       "    </tr>\n",
       "  </thead>\n",
       "  <tbody>\n",
       "    <tr>\n",
       "      <th>Beni</th>\n",
       "      <td>468000</td>\n",
       "      <td>213564.0</td>\n",
       "      <td>2.191381</td>\n",
       "      <td>Trinidad</td>\n",
       "    </tr>\n",
       "    <tr>\n",
       "      <th>Chuquisaca</th>\n",
       "      <td>626000</td>\n",
       "      <td>51514.0</td>\n",
       "      <td>12.152036</td>\n",
       "      <td>Sucre</td>\n",
       "    </tr>\n",
       "    <tr>\n",
       "      <th>Cochabamba</th>\n",
       "      <td>2883000</td>\n",
       "      <td>55631.0</td>\n",
       "      <td>51.823624</td>\n",
       "      <td>Cochabamba</td>\n",
       "    </tr>\n",
       "    <tr>\n",
       "      <th>La Paz</th>\n",
       "      <td>26448193</td>\n",
       "      <td>133985.0</td>\n",
       "      <td>197.396671</td>\n",
       "      <td>La Paz</td>\n",
       "    </tr>\n",
       "    <tr>\n",
       "      <th>Oruro</th>\n",
       "      <td>538000</td>\n",
       "      <td>55588.0</td>\n",
       "      <td>9.678348</td>\n",
       "      <td>Oruro</td>\n",
       "    </tr>\n",
       "    <tr>\n",
       "      <th>Potosí</th>\n",
       "      <td>887000</td>\n",
       "      <td>117218.0</td>\n",
       "      <td>7.567097</td>\n",
       "      <td>Potosí</td>\n",
       "    </tr>\n",
       "    <tr>\n",
       "      <th>Santa Cruz</th>\n",
       "      <td>3225000</td>\n",
       "      <td>370621.0</td>\n",
       "      <td>8.701612</td>\n",
       "      <td>Santa Cruz</td>\n",
       "    </tr>\n",
       "    <tr>\n",
       "      <th>Tarija</th>\n",
       "      <td>563000</td>\n",
       "      <td>37623.0</td>\n",
       "      <td>14.964251</td>\n",
       "      <td>Tarija</td>\n",
       "    </tr>\n",
       "  </tbody>\n",
       "</table>\n",
       "</div>"
      ],
      "text/plain": [
       "            poblacion  extension    densidad     capital\n",
       "Beni           468000   213564.0    2.191381    Trinidad\n",
       "Chuquisaca     626000    51514.0   12.152036       Sucre\n",
       "Cochabamba    2883000    55631.0   51.823624  Cochabamba\n",
       "La Paz       26448193   133985.0  197.396671      La Paz\n",
       "Oruro          538000    55588.0    9.678348       Oruro\n",
       "Potosí         887000   117218.0    7.567097      Potosí\n",
       "Santa Cruz    3225000   370621.0    8.701612  Santa Cruz\n",
       "Tarija         563000    37623.0   14.964251      Tarija"
      ]
     },
     "execution_count": 41,
     "metadata": {},
     "output_type": "execute_result"
    }
   ],
   "source": [
    "datos_bolivia.dropna(how='any')"
   ]
  },
  {
   "cell_type": "code",
   "execution_count": 42,
   "metadata": {},
   "outputs": [
    {
     "data": {
      "text/html": [
       "<div>\n",
       "<style scoped>\n",
       "    .dataframe tbody tr th:only-of-type {\n",
       "        vertical-align: middle;\n",
       "    }\n",
       "\n",
       "    .dataframe tbody tr th {\n",
       "        vertical-align: top;\n",
       "    }\n",
       "\n",
       "    .dataframe thead th {\n",
       "        text-align: right;\n",
       "    }\n",
       "</style>\n",
       "<table border=\"1\" class=\"dataframe\">\n",
       "  <thead>\n",
       "    <tr style=\"text-align: right;\">\n",
       "      <th></th>\n",
       "      <th>poblacion</th>\n",
       "      <th>extension</th>\n",
       "      <th>densidad</th>\n",
       "      <th>capital</th>\n",
       "    </tr>\n",
       "  </thead>\n",
       "  <tbody>\n",
       "    <tr>\n",
       "      <th>Beni</th>\n",
       "      <td>468000</td>\n",
       "      <td>213564.0</td>\n",
       "      <td>2.191381</td>\n",
       "      <td>Trinidad</td>\n",
       "    </tr>\n",
       "    <tr>\n",
       "      <th>Chuquisaca</th>\n",
       "      <td>626000</td>\n",
       "      <td>51514.0</td>\n",
       "      <td>12.152036</td>\n",
       "      <td>Sucre</td>\n",
       "    </tr>\n",
       "    <tr>\n",
       "      <th>Cochabamba</th>\n",
       "      <td>2883000</td>\n",
       "      <td>55631.0</td>\n",
       "      <td>51.823624</td>\n",
       "      <td>Cochabamba</td>\n",
       "    </tr>\n",
       "    <tr>\n",
       "      <th>La Paz</th>\n",
       "      <td>26448193</td>\n",
       "      <td>133985.0</td>\n",
       "      <td>197.396671</td>\n",
       "      <td>La Paz</td>\n",
       "    </tr>\n",
       "    <tr>\n",
       "      <th>Oruro</th>\n",
       "      <td>538000</td>\n",
       "      <td>55588.0</td>\n",
       "      <td>9.678348</td>\n",
       "      <td>Oruro</td>\n",
       "    </tr>\n",
       "    <tr>\n",
       "      <th>Pando</th>\n",
       "      <td>144000</td>\n",
       "      <td>NaN</td>\n",
       "      <td>NaN</td>\n",
       "      <td>Cobija</td>\n",
       "    </tr>\n",
       "    <tr>\n",
       "      <th>Potosí</th>\n",
       "      <td>887000</td>\n",
       "      <td>117218.0</td>\n",
       "      <td>7.567097</td>\n",
       "      <td>Potosí</td>\n",
       "    </tr>\n",
       "    <tr>\n",
       "      <th>Santa Cruz</th>\n",
       "      <td>3225000</td>\n",
       "      <td>370621.0</td>\n",
       "      <td>8.701612</td>\n",
       "      <td>Santa Cruz</td>\n",
       "    </tr>\n",
       "    <tr>\n",
       "      <th>Tarija</th>\n",
       "      <td>563000</td>\n",
       "      <td>37623.0</td>\n",
       "      <td>14.964251</td>\n",
       "      <td>Tarija</td>\n",
       "    </tr>\n",
       "  </tbody>\n",
       "</table>\n",
       "</div>"
      ],
      "text/plain": [
       "            poblacion  extension    densidad     capital\n",
       "Beni           468000   213564.0    2.191381    Trinidad\n",
       "Chuquisaca     626000    51514.0   12.152036       Sucre\n",
       "Cochabamba    2883000    55631.0   51.823624  Cochabamba\n",
       "La Paz       26448193   133985.0  197.396671      La Paz\n",
       "Oruro          538000    55588.0    9.678348       Oruro\n",
       "Pando          144000        NaN         NaN      Cobija\n",
       "Potosí         887000   117218.0    7.567097      Potosí\n",
       "Santa Cruz    3225000   370621.0    8.701612  Santa Cruz\n",
       "Tarija         563000    37623.0   14.964251      Tarija"
      ]
     },
     "execution_count": 42,
     "metadata": {},
     "output_type": "execute_result"
    }
   ],
   "source": [
    "datos_bolivia.loc['Pando', 'densidad'] = datos_bolivia.loc['Pando', 'poblacion'] / datos_bolivia.loc['Pando', 'extension']\n",
    "datos_bolivia"
   ]
  },
  {
   "cell_type": "markdown",
   "metadata": {},
   "source": [
    "## Apply\n",
    "<a id=\"6\"></a>\n",
    "Appy aplica una función que recibe como argumento a cada una de las columnas (o filas) de un DataFrame. Modifica el DataFrame existente."
   ]
  },
  {
   "cell_type": "markdown",
   "metadata": {},
   "source": [
    "**axis=0 es la opción por defecto, significa que se recorrerá el DataFrame por las columnas (similar a recorrer una matriz por columas). Si axis=1 el DataFrame se recorrerá por sus filas.**"
   ]
  },
  {
   "cell_type": "code",
   "execution_count": 43,
   "metadata": {},
   "outputs": [
    {
     "data": {
      "text/plain": [
       "Beni          106782.0\n",
       "Chuquisaca     25757.0\n",
       "Cochabamba     27815.5\n",
       "La Paz         66992.5\n",
       "Oruro          27794.0\n",
       "Pando              NaN\n",
       "Potosí         58609.0\n",
       "Santa Cruz    185310.5\n",
       "Tarija         18811.5\n",
       "dtype: float64"
      ]
     },
     "execution_count": 43,
     "metadata": {},
     "output_type": "execute_result"
    }
   ],
   "source": [
    "datos_bolivia_extension_reducida_a_la_mitad = datos_bolivia.apply(lambda x: x['extension']/2, axis=1)\n",
    "datos_bolivia_extension_reducida_a_la_mitad"
   ]
  },
  {
   "cell_type": "markdown",
   "metadata": {},
   "source": [
    "## One Hot Encoding\n",
    "<a id=\"7\"></a>\n",
    "Conversión de valores numéricos y nominales en categorías y luego las categorías en valores numéricos.\n",
    "Necesario cuando el algoritmo de aprendizaje automático no es capaz de trabajar con valores nominales o contínuos"
   ]
  },
  {
   "cell_type": "markdown",
   "metadata": {},
   "source": [
    "**Obtener los códigos de una variable nominal**"
   ]
  },
  {
   "cell_type": "code",
   "execution_count": 44,
   "metadata": {},
   "outputs": [
    {
     "data": {
      "text/plain": [
       "Beni          8\n",
       "Chuquisaca    6\n",
       "Cochabamba    1\n",
       "La Paz        2\n",
       "Oruro         3\n",
       "Pando         0\n",
       "Potosí        4\n",
       "Santa Cruz    5\n",
       "Tarija        7\n",
       "dtype: int8"
      ]
     },
     "execution_count": 44,
     "metadata": {},
     "output_type": "execute_result"
    }
   ],
   "source": [
    "datos_bolivia['capital'].astype('category').cat.codes"
   ]
  },
  {
   "cell_type": "markdown",
   "metadata": {},
   "source": [
    "**Obtener el vector One Hot Encoding**"
   ]
  },
  {
   "cell_type": "code",
   "execution_count": 45,
   "metadata": {},
   "outputs": [
    {
     "data": {
      "text/html": [
       "<div>\n",
       "<style scoped>\n",
       "    .dataframe tbody tr th:only-of-type {\n",
       "        vertical-align: middle;\n",
       "    }\n",
       "\n",
       "    .dataframe tbody tr th {\n",
       "        vertical-align: top;\n",
       "    }\n",
       "\n",
       "    .dataframe thead th {\n",
       "        text-align: right;\n",
       "    }\n",
       "</style>\n",
       "<table border=\"1\" class=\"dataframe\">\n",
       "  <thead>\n",
       "    <tr style=\"text-align: right;\">\n",
       "      <th></th>\n",
       "      <th>poblacion</th>\n",
       "      <th>extension</th>\n",
       "      <th>densidad</th>\n",
       "      <th>capital_Cobija</th>\n",
       "      <th>capital_Cochabamba</th>\n",
       "      <th>capital_La Paz</th>\n",
       "      <th>capital_Oruro</th>\n",
       "      <th>capital_Potosí</th>\n",
       "      <th>capital_Santa Cruz</th>\n",
       "      <th>capital_Sucre</th>\n",
       "      <th>capital_Tarija</th>\n",
       "      <th>capital_Trinidad</th>\n",
       "    </tr>\n",
       "  </thead>\n",
       "  <tbody>\n",
       "    <tr>\n",
       "      <th>Beni</th>\n",
       "      <td>468000</td>\n",
       "      <td>213564.0</td>\n",
       "      <td>2.191381</td>\n",
       "      <td>0</td>\n",
       "      <td>0</td>\n",
       "      <td>0</td>\n",
       "      <td>0</td>\n",
       "      <td>0</td>\n",
       "      <td>0</td>\n",
       "      <td>0</td>\n",
       "      <td>0</td>\n",
       "      <td>1</td>\n",
       "    </tr>\n",
       "    <tr>\n",
       "      <th>Chuquisaca</th>\n",
       "      <td>626000</td>\n",
       "      <td>51514.0</td>\n",
       "      <td>12.152036</td>\n",
       "      <td>0</td>\n",
       "      <td>0</td>\n",
       "      <td>0</td>\n",
       "      <td>0</td>\n",
       "      <td>0</td>\n",
       "      <td>0</td>\n",
       "      <td>1</td>\n",
       "      <td>0</td>\n",
       "      <td>0</td>\n",
       "    </tr>\n",
       "    <tr>\n",
       "      <th>Cochabamba</th>\n",
       "      <td>2883000</td>\n",
       "      <td>55631.0</td>\n",
       "      <td>51.823624</td>\n",
       "      <td>0</td>\n",
       "      <td>1</td>\n",
       "      <td>0</td>\n",
       "      <td>0</td>\n",
       "      <td>0</td>\n",
       "      <td>0</td>\n",
       "      <td>0</td>\n",
       "      <td>0</td>\n",
       "      <td>0</td>\n",
       "    </tr>\n",
       "    <tr>\n",
       "      <th>La Paz</th>\n",
       "      <td>26448193</td>\n",
       "      <td>133985.0</td>\n",
       "      <td>197.396671</td>\n",
       "      <td>0</td>\n",
       "      <td>0</td>\n",
       "      <td>1</td>\n",
       "      <td>0</td>\n",
       "      <td>0</td>\n",
       "      <td>0</td>\n",
       "      <td>0</td>\n",
       "      <td>0</td>\n",
       "      <td>0</td>\n",
       "    </tr>\n",
       "    <tr>\n",
       "      <th>Oruro</th>\n",
       "      <td>538000</td>\n",
       "      <td>55588.0</td>\n",
       "      <td>9.678348</td>\n",
       "      <td>0</td>\n",
       "      <td>0</td>\n",
       "      <td>0</td>\n",
       "      <td>1</td>\n",
       "      <td>0</td>\n",
       "      <td>0</td>\n",
       "      <td>0</td>\n",
       "      <td>0</td>\n",
       "      <td>0</td>\n",
       "    </tr>\n",
       "    <tr>\n",
       "      <th>Pando</th>\n",
       "      <td>144000</td>\n",
       "      <td>NaN</td>\n",
       "      <td>NaN</td>\n",
       "      <td>1</td>\n",
       "      <td>0</td>\n",
       "      <td>0</td>\n",
       "      <td>0</td>\n",
       "      <td>0</td>\n",
       "      <td>0</td>\n",
       "      <td>0</td>\n",
       "      <td>0</td>\n",
       "      <td>0</td>\n",
       "    </tr>\n",
       "    <tr>\n",
       "      <th>Potosí</th>\n",
       "      <td>887000</td>\n",
       "      <td>117218.0</td>\n",
       "      <td>7.567097</td>\n",
       "      <td>0</td>\n",
       "      <td>0</td>\n",
       "      <td>0</td>\n",
       "      <td>0</td>\n",
       "      <td>1</td>\n",
       "      <td>0</td>\n",
       "      <td>0</td>\n",
       "      <td>0</td>\n",
       "      <td>0</td>\n",
       "    </tr>\n",
       "    <tr>\n",
       "      <th>Santa Cruz</th>\n",
       "      <td>3225000</td>\n",
       "      <td>370621.0</td>\n",
       "      <td>8.701612</td>\n",
       "      <td>0</td>\n",
       "      <td>0</td>\n",
       "      <td>0</td>\n",
       "      <td>0</td>\n",
       "      <td>0</td>\n",
       "      <td>1</td>\n",
       "      <td>0</td>\n",
       "      <td>0</td>\n",
       "      <td>0</td>\n",
       "    </tr>\n",
       "    <tr>\n",
       "      <th>Tarija</th>\n",
       "      <td>563000</td>\n",
       "      <td>37623.0</td>\n",
       "      <td>14.964251</td>\n",
       "      <td>0</td>\n",
       "      <td>0</td>\n",
       "      <td>0</td>\n",
       "      <td>0</td>\n",
       "      <td>0</td>\n",
       "      <td>0</td>\n",
       "      <td>0</td>\n",
       "      <td>1</td>\n",
       "      <td>0</td>\n",
       "    </tr>\n",
       "  </tbody>\n",
       "</table>\n",
       "</div>"
      ],
      "text/plain": [
       "            poblacion  extension    densidad  capital_Cobija  \\\n",
       "Beni           468000   213564.0    2.191381               0   \n",
       "Chuquisaca     626000    51514.0   12.152036               0   \n",
       "Cochabamba    2883000    55631.0   51.823624               0   \n",
       "La Paz       26448193   133985.0  197.396671               0   \n",
       "Oruro          538000    55588.0    9.678348               0   \n",
       "Pando          144000        NaN         NaN               1   \n",
       "Potosí         887000   117218.0    7.567097               0   \n",
       "Santa Cruz    3225000   370621.0    8.701612               0   \n",
       "Tarija         563000    37623.0   14.964251               0   \n",
       "\n",
       "            capital_Cochabamba  capital_La Paz  capital_Oruro  capital_Potosí  \\\n",
       "Beni                         0               0              0               0   \n",
       "Chuquisaca                   0               0              0               0   \n",
       "Cochabamba                   1               0              0               0   \n",
       "La Paz                       0               1              0               0   \n",
       "Oruro                        0               0              1               0   \n",
       "Pando                        0               0              0               0   \n",
       "Potosí                       0               0              0               1   \n",
       "Santa Cruz                   0               0              0               0   \n",
       "Tarija                       0               0              0               0   \n",
       "\n",
       "            capital_Santa Cruz  capital_Sucre  capital_Tarija  \\\n",
       "Beni                         0              0               0   \n",
       "Chuquisaca                   0              1               0   \n",
       "Cochabamba                   0              0               0   \n",
       "La Paz                       0              0               0   \n",
       "Oruro                        0              0               0   \n",
       "Pando                        0              0               0   \n",
       "Potosí                       0              0               0   \n",
       "Santa Cruz                   1              0               0   \n",
       "Tarija                       0              0               1   \n",
       "\n",
       "            capital_Trinidad  \n",
       "Beni                       1  \n",
       "Chuquisaca                 0  \n",
       "Cochabamba                 0  \n",
       "La Paz                     0  \n",
       "Oruro                      0  \n",
       "Pando                      0  \n",
       "Potosí                     0  \n",
       "Santa Cruz                 0  \n",
       "Tarija                     0  "
      ]
     },
     "execution_count": 45,
     "metadata": {},
     "output_type": "execute_result"
    }
   ],
   "source": [
    "pd.get_dummies(datos_bolivia,columns=['capital'])"
   ]
  }
 ],
 "metadata": {
  "kernelspec": {
   "display_name": "Python 3",
   "language": "python",
   "name": "python3"
  },
  "language_info": {
   "codemirror_mode": {
    "name": "ipython",
    "version": 3
   },
   "file_extension": ".py",
   "mimetype": "text/x-python",
   "name": "python",
   "nbconvert_exporter": "python",
   "pygments_lexer": "ipython3",
   "version": "3.9.7"
  }
 },
 "nbformat": 4,
 "nbformat_minor": 2
}

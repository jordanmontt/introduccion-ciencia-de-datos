{
 "cells": [
  {
   "cell_type": "markdown",
   "metadata": {},
   "source": [
    "# Ejercicio: Web Scrapping para extraer información de un artículo"
   ]
  },
  {
   "cell_type": "markdown",
   "metadata": {},
   "source": [
    "Este ejercicio consiste en extraer la información más importante de una página web. Para este ejercicio elegimos un artículo sobre el transhumanismo que se puede encontrar [en este enlace](https://nuso.org/articulo/hacia-un-futuro-transhumano/). El artículo está en español. Dejaremos aquí el abstracto de este.\n",
    "\n",
    "> El transhumanismo es un movimiento intelectual que propone superar los límites naturales de la humanidad mediante el mejoramiento tecnológico y, eventualmente, la separación de la mente del cuerpo humano. Si bien ha sido históricamente marginal y sectario, sus planteos de medicina mejorativa, su materialismo radical, incluso sus controvertidas ideas de eugenesia, inmortalidad y singularidad adquieren creciente interés en un momento en el cual la tecnología amenaza con avanzar sobre esferas de la vida humana hasta ahora en apariencia intocables."
   ]
  },
  {
   "cell_type": "markdown",
   "metadata": {},
   "source": [
    "En este ejercicio, extraeremos los párrafos del texto, un resumen de este, el vocabulario usado, el título, la fecha de publicación, el nombre de la revista, el nombre del autor, entre otras cosas."
   ]
  },
  {
   "cell_type": "markdown",
   "metadata": {},
   "source": [
    "**Primero importamos las librerias necesarias**"
   ]
  },
  {
   "cell_type": "code",
   "execution_count": null,
   "metadata": {},
   "outputs": [],
   "source": [
    "import requests\n",
    "from bs4 import BeautifulSoup\n",
    "import re\n",
    "import nltk\n",
    "import string"
   ]
  },
  {
   "cell_type": "markdown",
   "metadata": {},
   "source": [
    "Ahora, obtenemos la página como un objecto"
   ]
  },
  {
   "cell_type": "code",
   "execution_count": null,
   "metadata": {},
   "outputs": [],
   "source": [
    "# Obtener el código HTML del artículo\n",
    "respuesta = requests.get(\"https://nuso.org/articulo/hacia-un-futuro-transhumano/\")\n",
    "pagina = BeautifulSoup(respuesta.text, 'html.parser' )"
   ]
  },
  {
   "cell_type": "markdown",
   "metadata": {},
   "source": [
    "Primeramente, vamos a obtener el nombre de la revista. el objeto `página` tiene un método que retorna el título del documento HTML"
   ]
  },
  {
   "cell_type": "code",
   "execution_count": null,
   "metadata": {},
   "outputs": [],
   "source": [
    "def nombre_revista(pagina):\n",
    "    return pagina.title.text.split('|')[1].strip()\n",
    "\n",
    "nombre_revista = nombre_revista(pagina)"
   ]
  },
  {
   "cell_type": "markdown",
   "metadata": {},
   "source": [
    "Podemos ver que `title` retorna, para nuestro caso específico, un array con 2 elementos: el título de la ravista y el del artícul. Ahora queremos el nombre del artículo."
   ]
  },
  {
   "cell_type": "code",
   "execution_count": null,
   "metadata": {},
   "outputs": [],
   "source": [
    "def nombre_articulo(pagina):\n",
    "    return pagina.title.text.split('|')[0].strip()\n",
    "\n",
    "nombre_articulo = nombre_articulo(pagina)"
   ]
  },
  {
   "cell_type": "markdown",
   "metadata": {},
   "source": [
    "También podemos obtener el número del artículo con respecto a la revista. Esa información se encutra en la primera parte de la página web y representa cuántos artículos tenía publicado la revista, hasta el momento."
   ]
  },
  {
   "cell_type": "code",
   "execution_count": null,
   "metadata": {},
   "outputs": [],
   "source": [
    "def numero_revista(pagina):\n",
    "    regex = r'Nº (\\d+)'\n",
    "    texto_pagina = pagina.find(name='div', attrs={'class': 'section-title has-magazine'}).span.text    \n",
    "    numero_revista = re.findall(regex,texto_pagina)\n",
    "    return numero_revista[0]\n",
    "\n",
    "numero_revista = numero_revista(pagina)"
   ]
  },
  {
   "cell_type": "markdown",
   "metadata": {},
   "source": [
    "Queremos obtener la fecha de la publicación del artículo"
   ]
  },
  {
   "cell_type": "code",
   "execution_count": null,
   "metadata": {},
   "outputs": [],
   "source": [
    "def fecha(pagina):\n",
    "    texto_pagina = pagina.find(name='div', attrs={'class': 'section-title has-magazine'}).span.text\n",
    "    return texto_pagina.split('/')[1].strip()\n",
    "\n",
    "fecha = fecha(pagina)"
   ]
  },
  {
   "cell_type": "markdown",
   "metadata": {},
   "source": [
    "Queremos obtener el resumen, o el abstract, del artículo. Es la pequeña explicación sobre que trata el artículo."
   ]
  },
  {
   "cell_type": "code",
   "execution_count": null,
   "metadata": {},
   "outputs": [],
   "source": [
    "def resumen_articulo(pagina):\n",
    "    return pagina.find(name='div', attrs={'class':'summary'}).text.strip()\n",
    "\n",
    "resumen_articulo = resumen_articulo(pagina)"
   ]
  },
  {
   "cell_type": "markdown",
   "metadata": {},
   "source": [
    "Finalmente, queremos el texto, o la redacción principal del artículo."
   ]
  },
  {
   "cell_type": "code",
   "execution_count": null,
   "metadata": {},
   "outputs": [],
   "source": [
    "def redaccion_principal(pagina):\n",
    "    parrafos = obtener_lista_de_parrafos(pagina)\n",
    "    texto_articulo = ''\n",
    "    for parrafo in parrafos:\n",
    "        texto_articulo = texto_articulo + parrafo.text + '\\n\\n'\n",
    "    return texto_articulo.strip()\n",
    "    \n",
    "redaccion_principal = redaccion_principal(pagina)"
   ]
  },
  {
   "cell_type": "markdown",
   "metadata": {},
   "source": [
    "Después de obtener todos los atributos principales del artículo, podemos hacer la \"limpieza del texto\". Si nosotros, por ejemplo, quisiéramos utilizar este texto para entrenar un modelo de machine learning, normalmente tenemos que eliminar los elementos del texto que no son relevantes para el modelo de machine learning. Por ejemplo, podemos eliminar las palabras de parada, las palabras como los artículos, que no brindan información importante. \n",
    "\n",
    "También normalmente se quiere tener el vocabulario del texto. Es decir, cuantas palabras diferentes tiene el texto."
   ]
  },
  {
   "cell_type": "code",
   "execution_count": null,
   "metadata": {},
   "outputs": [],
   "source": [
    "def obtener_palabras_de_parada():\n",
    "    return set( nltk.corpus.stopwords.words('spanish') + list(string.punctuation))\n",
    "\n",
    "def obtener_vocabulario(texto_en_palabras, palabras_parada):\n",
    "    return [palabra for palabra in texto_en_palabras if palabra not in palabras_parada]\n",
    "\n",
    "palabras_parada = obtener_palabras_de_parada()\n",
    "texto_en_palabras =  nltk.word_tokenize(redaccion_principal)\n",
    "vocabulario = obtener_vocabulario(texto_en_palabras, palabras_parada)"
   ]
  },
  {
   "cell_type": "markdown",
   "metadata": {},
   "source": [
    "Ahora simplemente mostramos todo el código que se necesitó para realizar este ejercicio."
   ]
  },
  {
   "cell_type": "code",
   "execution_count": 13,
   "metadata": {},
   "outputs": [],
   "source": [
    "# Funciones relativas al procesamiento del documento HTML\n",
    "def nombre_revista(pagina):\n",
    "    return pagina.title.text.split('|')[1].strip()\n",
    "\n",
    "def nombre_articulo(pagina):\n",
    "    return pagina.title.text.split('|')[0].strip()\n",
    "\n",
    "def numero_revista(pagina):\n",
    "    regex = r'Nº (\\d+)'\n",
    "    texto_pagina = pagina.find(name='div', attrs={'class': 'section-title has-magazine'}).span.text    \n",
    "    numero_revista = re.findall(regex,texto_pagina)\n",
    "    return numero_revista[0]\n",
    "\n",
    "def fecha(pagina):\n",
    "    texto_pagina = pagina.find(name='div', attrs={'class': 'section-title has-magazine'}).span.text\n",
    "    return texto_pagina.split('/')[1].strip()\n",
    "\n",
    "def resumen_articulo(pagina):\n",
    "    return pagina.find(name='div', attrs={'class':'summary'}).text.strip()\n",
    "\n",
    "def obtener_lista_de_parrafos(pagina):\n",
    "    contenedor_texto = pagina.find(name='div', attrs={'class': 'uk-width-expand'})\n",
    "    return contenedor_texto.findAll(name='p')\n",
    "\n",
    "def redaccion_principal(pagina):\n",
    "    parrafos = obtener_lista_de_parrafos(pagina)\n",
    "    texto_articulo = ''\n",
    "    for parrafo in parrafos:\n",
    "        texto_articulo = texto_articulo + parrafo.text + '\\n\\n'\n",
    "    return texto_articulo.strip()\n",
    "\n",
    "\n",
    "# Recuperar la información en texto del artículo\n",
    "nombre_revista = nombre_revista(pagina)\n",
    "nombre_articulo = nombre_articulo(pagina)\n",
    "numero_revista = numero_revista(pagina)\n",
    "fecha = fecha(pagina)\n",
    "resumen_articulo = resumen_articulo(pagina)\n",
    "redaccion_principal = redaccion_principal(pagina)\n",
    "\n",
    "\n",
    "# Funciones relativas a la limpieza del texto\n",
    "def obtener_palabras_de_parada():\n",
    "    return set( nltk.corpus.stopwords.words('spanish') + list(string.punctuation))\n",
    "\n",
    "def obtener_vocabulario(texto_en_palabras, palabras_parada):\n",
    "    return [palabra for palabra in texto_en_palabras if palabra not in palabras_parada]\n",
    "\n",
    "\n",
    "# Obtener el vocabulario relevante del texto\n",
    "palabras_parada = obtener_palabras_de_parada()\n",
    "texto_en_palabras =  nltk.word_tokenize(redaccion_principal)\n",
    "vocabulario = obtener_vocabulario(texto_en_palabras, palabras_parada)"
   ]
  }
 ],
 "metadata": {
  "kernelspec": {
   "display_name": "Python 3",
   "language": "python",
   "name": "python3"
  },
  "language_info": {
   "codemirror_mode": {
    "name": "ipython",
    "version": 3
   },
   "file_extension": ".py",
   "mimetype": "text/x-python",
   "name": "python",
   "nbconvert_exporter": "python",
   "pygments_lexer": "ipython3",
   "version": "3.7.6"
  }
 },
 "nbformat": 4,
 "nbformat_minor": 2
}

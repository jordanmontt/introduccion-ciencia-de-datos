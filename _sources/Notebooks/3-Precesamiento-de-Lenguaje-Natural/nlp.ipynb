{
 "cells": [
  {
   "cell_type": "markdown",
   "metadata": {},
   "source": [
    "# Procesamiento de Lenguaje Natural (*NLP*)\n",
    "__[NLP](https://es.wikipedia.org/wiki/Procesamiento_de_lenguajes_naturales)__ es un campo de las ciencias de la computación, inteligencia artificial y lingüística que estudia las interacciones entre las computadoras y el lenguaje humano. Se ocupa de la formulación e investigación de mecanismos eficaces computacionalmente para la comunicación entre personas y máquinas por medio del lenguaje natural. En poca palabras, hacer que la computadora pueden entender y responder en lenguage natural."
   ]
  },
  {
   "cell_type": "markdown",
   "metadata": {},
   "source": [
    "### Algunas aplicaciones de *NLP*\n",
    "- Extracción de palabras clave (*Keyword extraction*): identificación automática de términos importantes que mejor describan el tema de un documento.\n",
    "- Extracción de entidades (*Named-Entity Recognition*): busca localizar en el texto entidades como personas, organizaciones, lugares, expresiones de tiempo y cantidades.\n",
    "- Clasificación de texto: es asignar una categoría a un documento, esto sirve para la detección de *spam*, análisis de sentimientos, priorización de contenido, etc.\n",
    "- Resumen automático (*Text summarization*): encontrar las oraciones más informativas en un documento.\n",
    "- *Topic modeling*: es un tipo de modelo estadístico para descubrir los \"topics\" abstractos que ocurren en una colección de documentos. Descubre semanticas ocultas en un cuerpo de texto. Encuentra el tema en un conjunto de documentos.\n",
    "- Traducción automática (*Machine translation*): el uso de *software* para traducir texto o habla de un lenguaje natural a otro.\n"
   ]
  },
  {
   "cell_type": "markdown",
   "metadata": {},
   "source": [
    "1. [Vocabulario del problema](#1)\n",
    "    1. [Tokenización](#2)\n",
    "    2. [Quitar palabras de parada](#3)\n",
    "    3. [Otras tareas de limpieza que se pueden considerar](#4)\n",
    "    4. [Lematización](#5)\n",
    "    5. [Identificar n-gramas](#6)\n",
    "    6. [Desambiguación lingüística (*Word Sense Disambiguation*)](#7)\n",
    "    7. [Etiquetado gramatical (*Part of Speech Tagging*)](#8)\n",
    "2. [Representaciones](#9)\n",
    "    1. [*Feature vector*](#10)\n",
    "        1. [*One-hot encoding*](#11)\n",
    "        2. [*TF-IDF*](#12)\n",
    "        3. [*Word embeddings*](#13)"
   ]
  },
  {
   "cell_type": "markdown",
   "metadata": {},
   "source": [
    "<a id=\"1\"></a>\n",
    "# Vocabulario del problema\n",
    "En un proyecto de *NLP* se trabajan con colecciones de \"documentos\". Cada documento en un fragmento de texto que se debe procesar de manera individual (clasificar, representar, etc). Algunos ejemplos de documentos son: tweets, revisiones, artículos, libros, etc. El conjunto de todas la palabras que aparecen en todos los documentos constituye el **vocabulario del problema**. En muchos casos el tamaño del problema puede reducir el desempeño de la solución y es necesario reducirlo. \n",
    "\n",
    "Los elementos en el vocabulario se conocen como *tokens*; dependiendo del problema y las decisiones de diseño podrían no ser necesariamente una palabra. Por ejemplo, los emoticones, lemas o palabras compuestas.\n",
    "\n",
    "En este *notebook* se muestra como realizar una de las tareas más comunes que ayudan a reducir el tamaño del vocabulario: la eliminación de palabras de parada (*stop words*).\n"
   ]
  },
  {
   "cell_type": "markdown",
   "metadata": {},
   "source": [
    "<a id=\"2\"></a>\n",
    "## Tokenización\n",
    "[Tokenización](https://nlp.stanford.edu/IR-book/html/htmledition/tokenization-1.html) es el proceso de separar el texto en piezas llamadas *tokens*. Es la primera tarea/proceso en cualquier proyecto *NLP*. Es fundamental realizarla bien para no afectar la calidad de los datos de entrada en las etapas siguientes. Se recomienda usar un *tokenizer* reconocido y evitar intentar programar uno desde cero. \n",
    "![Tokenización](01_tokenization.png)\n",
    "\n",
    "A continuación, se muestra un ejemplo de tokenización sobre esta [noticia](https://www.lostiempos.com/deportes/multideportivo/20200115/olympic-albert-einstein-ucb-lpz-van-paso-firme-liga-superior). Primero debes cargar la noticia.\n"
   ]
  },
  {
   "cell_type": "code",
   "execution_count": 10,
   "metadata": {},
   "outputs": [
    {
     "data": {
      "text/plain": [
       "'Los clubes cochabambinos de Olympic, Albert Einstein y el paceño Universidad Católica Boliviana (UCB) avanzan a paso firme y constante rumbo a la corona en la Liga Superior de voleibol, rama femenina, que se desarrolla en el coliseo Julio Borelli Vitterito de La Paz, luego de cosechar sendas victorias la noche de este martes. El ganador será representante de Bolivia en la Liga Sudamericana de Clubes 2020.\\n\\nEl campeón defensor del título, Olympic, superó 3-0  a su verdugo de la final de la edición 2017, el también cochabambino San Simón. La victoria para las olympiquistas fue con sets de 25-14, 25-13 y 25-18.'"
      ]
     },
     "execution_count": 10,
     "metadata": {},
     "output_type": "execute_result"
    }
   ],
   "source": [
    "texto_noticia = \"\"\"Los clubes cochabambinos de Olympic, Albert Einstein y el paceño Universidad Católica Boliviana (UCB) avanzan a paso firme y constante rumbo a la corona en la Liga Superior de voleibol, rama femenina, que se desarrolla en el coliseo Julio Borelli Vitterito de La Paz, luego de cosechar sendas victorias la noche de este martes. El ganador será representante de Bolivia en la Liga Sudamericana de Clubes 2020.\n",
    "\n",
    "El campeón defensor del título, Olympic, superó 3-0  a su verdugo de la final de la edición 2017, el también cochabambino San Simón. La victoria para las olympiquistas fue con sets de 25-14, 25-13 y 25-18.\"\"\"\n",
    "texto_noticia"
   ]
  },
  {
   "cell_type": "markdown",
   "metadata": {},
   "source": [
    "### Tokenización a nivel oraciones\n",
    "La función <font color=\"gray\">sent_tokenize(...)</font> de <font color=\"gray\">nltk.tokenize</font> es el tokenizador a nivel de oraciones. Si tienes problemas importando la librería [*nltk*](https://www.nltk.org/api/nltk.tokenize.html), ejecuta <font color=\"gray\">nltk.download('punkt')</font> desde la consola de Python para descargar la librería."
   ]
  },
  {
   "cell_type": "code",
   "execution_count": 11,
   "metadata": {},
   "outputs": [
    {
     "name": "stdout",
     "output_type": "stream",
     "text": [
      "Número total de oraciones de la noticia: 4\n",
      "Texto de la oracion 1: Los clubes cochabambinos de Olympic, Albert Einstein y el paceño Universidad Católica Boliviana (UCB) avanzan a paso firme y constante rumbo a la corona en la Liga Superior de voleibol, rama femenina, que se desarrolla en el coliseo Julio Borelli Vitterito de La Paz, luego de cosechar sendas victorias la noche de este martes.\n"
     ]
    }
   ],
   "source": [
    "import nltk\n",
    "\n",
    "oraciones_noticia = nltk.tokenize.sent_tokenize(text=texto_noticia, language='spanish')\n",
    "\n",
    "print(\"Número total de oraciones de la noticia: {}\".format(len(oraciones_noticia)))\n",
    "print(\"Texto de la oracion 1: {}\".format(oraciones_noticia[0]))"
   ]
  },
  {
   "cell_type": "markdown",
   "metadata": {},
   "source": [
    "### Tokenización a nivel de palabras.\n",
    "La función <font color=\"gray\">nltk.word_tokenize(...)</font> es el tokenizador a nivel de palabras recomendado por *NLTK*. El resultado de esta función es una lista con todas las palabras de la noticia. Internamente usa una instancia de la clase <font color=\"gray\">TreebankWordTokenizer</font> (en la versión más reciente)\n"
   ]
  },
  {
   "cell_type": "code",
   "execution_count": 12,
   "metadata": {},
   "outputs": [
    {
     "data": {
      "text/plain": [
       "['Los',\n",
       " 'clubes',\n",
       " 'cochabambinos',\n",
       " 'de',\n",
       " 'Olympic',\n",
       " ',',\n",
       " 'Albert',\n",
       " 'Einstein',\n",
       " 'y',\n",
       " 'el',\n",
       " 'paceño',\n",
       " 'Universidad',\n",
       " 'Católica',\n",
       " 'Boliviana',\n",
       " '(',\n",
       " 'UCB',\n",
       " ')',\n",
       " 'avanzan',\n",
       " 'a',\n",
       " 'paso',\n",
       " 'firme',\n",
       " 'y',\n",
       " 'constante',\n",
       " 'rumbo',\n",
       " 'a',\n",
       " 'la',\n",
       " 'corona',\n",
       " 'en',\n",
       " 'la',\n",
       " 'Liga',\n",
       " 'Superior',\n",
       " 'de',\n",
       " 'voleibol',\n",
       " ',',\n",
       " 'rama',\n",
       " 'femenina',\n",
       " ',',\n",
       " 'que',\n",
       " 'se',\n",
       " 'desarrolla',\n",
       " 'en',\n",
       " 'el',\n",
       " 'coliseo',\n",
       " 'Julio',\n",
       " 'Borelli',\n",
       " 'Vitterito',\n",
       " 'de',\n",
       " 'La',\n",
       " 'Paz',\n",
       " ',',\n",
       " 'luego',\n",
       " 'de',\n",
       " 'cosechar',\n",
       " 'sendas',\n",
       " 'victorias',\n",
       " 'la',\n",
       " 'noche',\n",
       " 'de',\n",
       " 'este',\n",
       " 'martes',\n",
       " '.',\n",
       " 'El',\n",
       " 'ganador',\n",
       " 'será',\n",
       " 'representante',\n",
       " 'de',\n",
       " 'Bolivia',\n",
       " 'en',\n",
       " 'la',\n",
       " 'Liga',\n",
       " 'Sudamericana',\n",
       " 'de',\n",
       " 'Clubes',\n",
       " '2020',\n",
       " '.',\n",
       " 'El',\n",
       " 'campeón',\n",
       " 'defensor',\n",
       " 'del',\n",
       " 'título',\n",
       " ',',\n",
       " 'Olympic',\n",
       " ',',\n",
       " 'superó',\n",
       " '3-0',\n",
       " 'a',\n",
       " 'su',\n",
       " 'verdugo',\n",
       " 'de',\n",
       " 'la',\n",
       " 'final',\n",
       " 'de',\n",
       " 'la',\n",
       " 'edición',\n",
       " '2017',\n",
       " ',',\n",
       " 'el',\n",
       " 'también',\n",
       " 'cochabambino',\n",
       " 'San',\n",
       " 'Simón',\n",
       " '.',\n",
       " 'La',\n",
       " 'victoria',\n",
       " 'para',\n",
       " 'las',\n",
       " 'olympiquistas',\n",
       " 'fue',\n",
       " 'con',\n",
       " 'sets',\n",
       " 'de',\n",
       " '25-14',\n",
       " ',',\n",
       " '25-13',\n",
       " 'y',\n",
       " '25-18',\n",
       " '.']"
      ]
     },
     "execution_count": 12,
     "metadata": {},
     "output_type": "execute_result"
    }
   ],
   "source": [
    "palabras_noticia = nltk.word_tokenize(texto_noticia)\n",
    "palabras_noticia"
   ]
  },
  {
   "cell_type": "markdown",
   "metadata": {},
   "source": [
    "Debes saber que <font color=\"gray\">word_tokenize</font>, no es la única función que permite realizar este trabajo. Puedes utilizar también <font color=\"gray\">casual_tokenize</font>. Encuentra la diferencia =)"
   ]
  },
  {
   "cell_type": "code",
   "execution_count": 13,
   "metadata": {},
   "outputs": [
    {
     "data": {
      "text/plain": [
       "['Que', 'buena', 'pelicula', '.', 'Gracias', 'por', 'invitarme', ':)']"
      ]
     },
     "execution_count": 13,
     "metadata": {},
     "output_type": "execute_result"
    }
   ],
   "source": [
    "nltk.tokenize.casual.casual_tokenize(\"Que buena pelicula. Gracias por invitarme :)\")"
   ]
  },
  {
   "cell_type": "code",
   "execution_count": 14,
   "metadata": {},
   "outputs": [
    {
     "data": {
      "text/plain": [
       "['Que', 'buena', 'pelicula', '.', 'Gracias', 'por', 'invitarme', ':', ')']"
      ]
     },
     "execution_count": 14,
     "metadata": {},
     "output_type": "execute_result"
    }
   ],
   "source": [
    "nltk.word_tokenize(\"Que buena pelicula. Gracias por invitarme :)\")"
   ]
  },
  {
   "cell_type": "markdown",
   "metadata": {},
   "source": [
    "<a id=\"3\"></a>\n",
    "## Quitar palabras de parada\n",
    "\n",
    "Dependiendo del lenguaje existen palabras que tienden a repetirse mucho más que otras, estas generalmente son los artículos, las preposiciones, y las conjunciones. Estas palabras suelen ser perjudiciales al momento de analizar el texto porque no aportan información relevante, es por eso que se deben quitar las palabras de parada del vocabulario del problema. Tener en cuenta que NO hay una lista universal y exhaustiva de estas palabras. Cada lenguage e incluso tipo de problema puede tener su propia lista de palabras de parada.\n",
    "\n",
    "![Tokenización](02_remove_stopwords.png)\n",
    "\n",
    "Puesto que estas listas pueden variar dependiendo de la librería o incluso entre versiones de la misma librería, incluir este paso puede dificultar la reproducción de los resultados en otros entornos. Veremos más adelante que hay otros mecanismos para lidiar con este tipo de palabras (*TF*, *IDF*).\n",
    "\n",
    "Ten en cuenta tambien que quitar alguna palabra de parada como los artículos podría cambiar completamente el significado de algunas palabras compuestas.\n",
    "\n",
    "Por ejemplo: \"La Paz\" nombre de un departamento de Bolivia se convierte en -> \"Paz\" y pierde el sentido.\n",
    "\n",
    "Si deseas aprender más, ingresa en los siguientes enlaces:\n",
    "\n",
    "- __[Cómo eliminar las palabras de parada usando nltk o python](https://www.pythond.com/21143/como-eliminar-las-palabras-de-parada-usando-nltk-o-python.html)__\n",
    "\n",
    "- __[Proyecto stop-words](https://pypi.org/project/stop-words/)__\n",
    "\n",
    "- __[Proyecto node-nltk-stopwords](https://github.com/xiamx/node-nltk-stopwords/blob/master/data/stopwords/spanish)__\n",
    "\n",
    "- __[Stopwords @ ranks.nl](https://www.ranks.nl/stopwords)__"
   ]
  },
  {
   "cell_type": "markdown",
   "metadata": {},
   "source": [
    "Si tienes problemas importando la libreria *nltk*, ejecuta este comando <font color=\"gray\">nltk.download('stopwords')</font>. En el ejemplo se puede ver la lista de palabras de parada que nos ofrece la libreria <font color=\"gray\">nltk.corpus</font>"
   ]
  },
  {
   "cell_type": "code",
   "execution_count": 15,
   "metadata": {},
   "outputs": [
    {
     "data": {
      "text/plain": [
       "['de',\n",
       " 'la',\n",
       " 'que',\n",
       " 'el',\n",
       " 'en',\n",
       " 'y',\n",
       " 'a',\n",
       " 'los',\n",
       " 'del',\n",
       " 'se',\n",
       " 'las',\n",
       " 'por',\n",
       " 'un',\n",
       " 'para',\n",
       " 'con',\n",
       " 'no',\n",
       " 'una',\n",
       " 'su',\n",
       " 'al',\n",
       " 'lo',\n",
       " 'como',\n",
       " 'más',\n",
       " 'pero',\n",
       " 'sus',\n",
       " 'le',\n",
       " 'ya',\n",
       " 'o',\n",
       " 'este',\n",
       " 'sí',\n",
       " 'porque',\n",
       " 'esta',\n",
       " 'entre',\n",
       " 'cuando',\n",
       " 'muy',\n",
       " 'sin',\n",
       " 'sobre',\n",
       " 'también',\n",
       " 'me',\n",
       " 'hasta',\n",
       " 'hay',\n",
       " 'donde',\n",
       " 'quien',\n",
       " 'desde',\n",
       " 'todo',\n",
       " 'nos',\n",
       " 'durante',\n",
       " 'todos',\n",
       " 'uno',\n",
       " 'les',\n",
       " 'ni',\n",
       " 'contra',\n",
       " 'otros',\n",
       " 'ese',\n",
       " 'eso',\n",
       " 'ante',\n",
       " 'ellos',\n",
       " 'e',\n",
       " 'esto',\n",
       " 'mí',\n",
       " 'antes',\n",
       " 'algunos',\n",
       " 'qué',\n",
       " 'unos',\n",
       " 'yo',\n",
       " 'otro',\n",
       " 'otras',\n",
       " 'otra',\n",
       " 'él',\n",
       " 'tanto',\n",
       " 'esa',\n",
       " 'estos',\n",
       " 'mucho',\n",
       " 'quienes',\n",
       " 'nada',\n",
       " 'muchos',\n",
       " 'cual',\n",
       " 'poco',\n",
       " 'ella',\n",
       " 'estar',\n",
       " 'estas',\n",
       " 'algunas',\n",
       " 'algo',\n",
       " 'nosotros',\n",
       " 'mi',\n",
       " 'mis',\n",
       " 'tú',\n",
       " 'te',\n",
       " 'ti',\n",
       " 'tu',\n",
       " 'tus',\n",
       " 'ellas',\n",
       " 'nosotras',\n",
       " 'vosotros',\n",
       " 'vosotras',\n",
       " 'os',\n",
       " 'mío',\n",
       " 'mía',\n",
       " 'míos',\n",
       " 'mías',\n",
       " 'tuyo',\n",
       " 'tuya',\n",
       " 'tuyos',\n",
       " 'tuyas',\n",
       " 'suyo',\n",
       " 'suya',\n",
       " 'suyos',\n",
       " 'suyas',\n",
       " 'nuestro',\n",
       " 'nuestra',\n",
       " 'nuestros',\n",
       " 'nuestras',\n",
       " 'vuestro',\n",
       " 'vuestra',\n",
       " 'vuestros',\n",
       " 'vuestras',\n",
       " 'esos',\n",
       " 'esas',\n",
       " 'estoy',\n",
       " 'estás',\n",
       " 'está',\n",
       " 'estamos',\n",
       " 'estáis',\n",
       " 'están',\n",
       " 'esté',\n",
       " 'estés',\n",
       " 'estemos',\n",
       " 'estéis',\n",
       " 'estén',\n",
       " 'estaré',\n",
       " 'estarás',\n",
       " 'estará',\n",
       " 'estaremos',\n",
       " 'estaréis',\n",
       " 'estarán',\n",
       " 'estaría',\n",
       " 'estarías',\n",
       " 'estaríamos',\n",
       " 'estaríais',\n",
       " 'estarían',\n",
       " 'estaba',\n",
       " 'estabas',\n",
       " 'estábamos',\n",
       " 'estabais',\n",
       " 'estaban',\n",
       " 'estuve',\n",
       " 'estuviste',\n",
       " 'estuvo',\n",
       " 'estuvimos',\n",
       " 'estuvisteis',\n",
       " 'estuvieron',\n",
       " 'estuviera',\n",
       " 'estuvieras',\n",
       " 'estuviéramos',\n",
       " 'estuvierais',\n",
       " 'estuvieran',\n",
       " 'estuviese',\n",
       " 'estuvieses',\n",
       " 'estuviésemos',\n",
       " 'estuvieseis',\n",
       " 'estuviesen',\n",
       " 'estando',\n",
       " 'estado',\n",
       " 'estada',\n",
       " 'estados',\n",
       " 'estadas',\n",
       " 'estad',\n",
       " 'he',\n",
       " 'has',\n",
       " 'ha',\n",
       " 'hemos',\n",
       " 'habéis',\n",
       " 'han',\n",
       " 'haya',\n",
       " 'hayas',\n",
       " 'hayamos',\n",
       " 'hayáis',\n",
       " 'hayan',\n",
       " 'habré',\n",
       " 'habrás',\n",
       " 'habrá',\n",
       " 'habremos',\n",
       " 'habréis',\n",
       " 'habrán',\n",
       " 'habría',\n",
       " 'habrías',\n",
       " 'habríamos',\n",
       " 'habríais',\n",
       " 'habrían',\n",
       " 'había',\n",
       " 'habías',\n",
       " 'habíamos',\n",
       " 'habíais',\n",
       " 'habían',\n",
       " 'hube',\n",
       " 'hubiste',\n",
       " 'hubo',\n",
       " 'hubimos',\n",
       " 'hubisteis',\n",
       " 'hubieron',\n",
       " 'hubiera',\n",
       " 'hubieras',\n",
       " 'hubiéramos',\n",
       " 'hubierais',\n",
       " 'hubieran',\n",
       " 'hubiese',\n",
       " 'hubieses',\n",
       " 'hubiésemos',\n",
       " 'hubieseis',\n",
       " 'hubiesen',\n",
       " 'habiendo',\n",
       " 'habido',\n",
       " 'habida',\n",
       " 'habidos',\n",
       " 'habidas',\n",
       " 'soy',\n",
       " 'eres',\n",
       " 'es',\n",
       " 'somos',\n",
       " 'sois',\n",
       " 'son',\n",
       " 'sea',\n",
       " 'seas',\n",
       " 'seamos',\n",
       " 'seáis',\n",
       " 'sean',\n",
       " 'seré',\n",
       " 'serás',\n",
       " 'será',\n",
       " 'seremos',\n",
       " 'seréis',\n",
       " 'serán',\n",
       " 'sería',\n",
       " 'serías',\n",
       " 'seríamos',\n",
       " 'seríais',\n",
       " 'serían',\n",
       " 'era',\n",
       " 'eras',\n",
       " 'éramos',\n",
       " 'erais',\n",
       " 'eran',\n",
       " 'fui',\n",
       " 'fuiste',\n",
       " 'fue',\n",
       " 'fuimos',\n",
       " 'fuisteis',\n",
       " 'fueron',\n",
       " 'fuera',\n",
       " 'fueras',\n",
       " 'fuéramos',\n",
       " 'fuerais',\n",
       " 'fueran',\n",
       " 'fuese',\n",
       " 'fueses',\n",
       " 'fuésemos',\n",
       " 'fueseis',\n",
       " 'fuesen',\n",
       " 'sintiendo',\n",
       " 'sentido',\n",
       " 'sentida',\n",
       " 'sentidos',\n",
       " 'sentidas',\n",
       " 'siente',\n",
       " 'sentid',\n",
       " 'tengo',\n",
       " 'tienes',\n",
       " 'tiene',\n",
       " 'tenemos',\n",
       " 'tenéis',\n",
       " 'tienen',\n",
       " 'tenga',\n",
       " 'tengas',\n",
       " 'tengamos',\n",
       " 'tengáis',\n",
       " 'tengan',\n",
       " 'tendré',\n",
       " 'tendrás',\n",
       " 'tendrá',\n",
       " 'tendremos',\n",
       " 'tendréis',\n",
       " 'tendrán',\n",
       " 'tendría',\n",
       " 'tendrías',\n",
       " 'tendríamos',\n",
       " 'tendríais',\n",
       " 'tendrían',\n",
       " 'tenía',\n",
       " 'tenías',\n",
       " 'teníamos',\n",
       " 'teníais',\n",
       " 'tenían',\n",
       " 'tuve',\n",
       " 'tuviste',\n",
       " 'tuvo',\n",
       " 'tuvimos',\n",
       " 'tuvisteis',\n",
       " 'tuvieron',\n",
       " 'tuviera',\n",
       " 'tuvieras',\n",
       " 'tuviéramos',\n",
       " 'tuvierais',\n",
       " 'tuvieran',\n",
       " 'tuviese',\n",
       " 'tuvieses',\n",
       " 'tuviésemos',\n",
       " 'tuvieseis',\n",
       " 'tuviesen',\n",
       " 'teniendo',\n",
       " 'tenido',\n",
       " 'tenida',\n",
       " 'tenidos',\n",
       " 'tenidas',\n",
       " 'tened']"
      ]
     },
     "execution_count": 15,
     "metadata": {},
     "output_type": "execute_result"
    }
   ],
   "source": [
    "import nltk\n",
    "\n",
    "nltk.corpus.stopwords.words('spanish')"
   ]
  },
  {
   "cell_type": "markdown",
   "metadata": {},
   "source": [
    "Otra lista de palabras de parada que podrías tomar en cuenta son los signos de puntuación."
   ]
  },
  {
   "cell_type": "code",
   "execution_count": 16,
   "metadata": {},
   "outputs": [
    {
     "data": {
      "text/plain": [
       "['!',\n",
       " '\"',\n",
       " '#',\n",
       " '$',\n",
       " '%',\n",
       " '&',\n",
       " \"'\",\n",
       " '(',\n",
       " ')',\n",
       " '*',\n",
       " '+',\n",
       " ',',\n",
       " '-',\n",
       " '.',\n",
       " '/',\n",
       " ':',\n",
       " ';',\n",
       " '<',\n",
       " '=',\n",
       " '>',\n",
       " '?',\n",
       " '@',\n",
       " '[',\n",
       " '\\\\',\n",
       " ']',\n",
       " '^',\n",
       " '_',\n",
       " '`',\n",
       " '{',\n",
       " '|',\n",
       " '}',\n",
       " '~']"
      ]
     },
     "execution_count": 16,
     "metadata": {},
     "output_type": "execute_result"
    }
   ],
   "source": [
    "import string\n",
    "list(string.punctuation)"
   ]
  },
  {
   "cell_type": "markdown",
   "metadata": {},
   "source": [
    "Puedes unir ambas listas para tener todo mejor organizado"
   ]
  },
  {
   "cell_type": "code",
   "execution_count": 17,
   "metadata": {},
   "outputs": [
    {
     "data": {
      "text/plain": [
       "{'!',\n",
       " '\"',\n",
       " '#',\n",
       " '$',\n",
       " '%',\n",
       " '&',\n",
       " \"'\",\n",
       " '(',\n",
       " ')',\n",
       " '*',\n",
       " '+',\n",
       " ',',\n",
       " '-',\n",
       " '.',\n",
       " '/',\n",
       " ':',\n",
       " ';',\n",
       " '<',\n",
       " '=',\n",
       " '>',\n",
       " '?',\n",
       " '@',\n",
       " '[',\n",
       " '\\\\',\n",
       " ']',\n",
       " '^',\n",
       " '_',\n",
       " '`',\n",
       " 'a',\n",
       " 'al',\n",
       " 'algo',\n",
       " 'algunas',\n",
       " 'algunos',\n",
       " 'ante',\n",
       " 'antes',\n",
       " 'como',\n",
       " 'con',\n",
       " 'contra',\n",
       " 'cual',\n",
       " 'cuando',\n",
       " 'de',\n",
       " 'del',\n",
       " 'desde',\n",
       " 'donde',\n",
       " 'durante',\n",
       " 'e',\n",
       " 'el',\n",
       " 'ella',\n",
       " 'ellas',\n",
       " 'ellos',\n",
       " 'en',\n",
       " 'entre',\n",
       " 'era',\n",
       " 'erais',\n",
       " 'eran',\n",
       " 'eras',\n",
       " 'eres',\n",
       " 'es',\n",
       " 'esa',\n",
       " 'esas',\n",
       " 'ese',\n",
       " 'eso',\n",
       " 'esos',\n",
       " 'esta',\n",
       " 'estaba',\n",
       " 'estabais',\n",
       " 'estaban',\n",
       " 'estabas',\n",
       " 'estad',\n",
       " 'estada',\n",
       " 'estadas',\n",
       " 'estado',\n",
       " 'estados',\n",
       " 'estamos',\n",
       " 'estando',\n",
       " 'estar',\n",
       " 'estaremos',\n",
       " 'estará',\n",
       " 'estarán',\n",
       " 'estarás',\n",
       " 'estaré',\n",
       " 'estaréis',\n",
       " 'estaría',\n",
       " 'estaríais',\n",
       " 'estaríamos',\n",
       " 'estarían',\n",
       " 'estarías',\n",
       " 'estas',\n",
       " 'este',\n",
       " 'estemos',\n",
       " 'esto',\n",
       " 'estos',\n",
       " 'estoy',\n",
       " 'estuve',\n",
       " 'estuviera',\n",
       " 'estuvierais',\n",
       " 'estuvieran',\n",
       " 'estuvieras',\n",
       " 'estuvieron',\n",
       " 'estuviese',\n",
       " 'estuvieseis',\n",
       " 'estuviesen',\n",
       " 'estuvieses',\n",
       " 'estuvimos',\n",
       " 'estuviste',\n",
       " 'estuvisteis',\n",
       " 'estuviéramos',\n",
       " 'estuviésemos',\n",
       " 'estuvo',\n",
       " 'está',\n",
       " 'estábamos',\n",
       " 'estáis',\n",
       " 'están',\n",
       " 'estás',\n",
       " 'esté',\n",
       " 'estéis',\n",
       " 'estén',\n",
       " 'estés',\n",
       " 'fue',\n",
       " 'fuera',\n",
       " 'fuerais',\n",
       " 'fueran',\n",
       " 'fueras',\n",
       " 'fueron',\n",
       " 'fuese',\n",
       " 'fueseis',\n",
       " 'fuesen',\n",
       " 'fueses',\n",
       " 'fui',\n",
       " 'fuimos',\n",
       " 'fuiste',\n",
       " 'fuisteis',\n",
       " 'fuéramos',\n",
       " 'fuésemos',\n",
       " 'ha',\n",
       " 'habida',\n",
       " 'habidas',\n",
       " 'habido',\n",
       " 'habidos',\n",
       " 'habiendo',\n",
       " 'habremos',\n",
       " 'habrá',\n",
       " 'habrán',\n",
       " 'habrás',\n",
       " 'habré',\n",
       " 'habréis',\n",
       " 'habría',\n",
       " 'habríais',\n",
       " 'habríamos',\n",
       " 'habrían',\n",
       " 'habrías',\n",
       " 'habéis',\n",
       " 'había',\n",
       " 'habíais',\n",
       " 'habíamos',\n",
       " 'habían',\n",
       " 'habías',\n",
       " 'han',\n",
       " 'has',\n",
       " 'hasta',\n",
       " 'hay',\n",
       " 'haya',\n",
       " 'hayamos',\n",
       " 'hayan',\n",
       " 'hayas',\n",
       " 'hayáis',\n",
       " 'he',\n",
       " 'hemos',\n",
       " 'hube',\n",
       " 'hubiera',\n",
       " 'hubierais',\n",
       " 'hubieran',\n",
       " 'hubieras',\n",
       " 'hubieron',\n",
       " 'hubiese',\n",
       " 'hubieseis',\n",
       " 'hubiesen',\n",
       " 'hubieses',\n",
       " 'hubimos',\n",
       " 'hubiste',\n",
       " 'hubisteis',\n",
       " 'hubiéramos',\n",
       " 'hubiésemos',\n",
       " 'hubo',\n",
       " 'la',\n",
       " 'las',\n",
       " 'le',\n",
       " 'les',\n",
       " 'lo',\n",
       " 'los',\n",
       " 'me',\n",
       " 'mi',\n",
       " 'mis',\n",
       " 'mucho',\n",
       " 'muchos',\n",
       " 'muy',\n",
       " 'más',\n",
       " 'mí',\n",
       " 'mía',\n",
       " 'mías',\n",
       " 'mío',\n",
       " 'míos',\n",
       " 'nada',\n",
       " 'ni',\n",
       " 'no',\n",
       " 'nos',\n",
       " 'nosotras',\n",
       " 'nosotros',\n",
       " 'nuestra',\n",
       " 'nuestras',\n",
       " 'nuestro',\n",
       " 'nuestros',\n",
       " 'o',\n",
       " 'os',\n",
       " 'otra',\n",
       " 'otras',\n",
       " 'otro',\n",
       " 'otros',\n",
       " 'para',\n",
       " 'pero',\n",
       " 'poco',\n",
       " 'por',\n",
       " 'porque',\n",
       " 'que',\n",
       " 'quien',\n",
       " 'quienes',\n",
       " 'qué',\n",
       " 'se',\n",
       " 'sea',\n",
       " 'seamos',\n",
       " 'sean',\n",
       " 'seas',\n",
       " 'sentid',\n",
       " 'sentida',\n",
       " 'sentidas',\n",
       " 'sentido',\n",
       " 'sentidos',\n",
       " 'seremos',\n",
       " 'será',\n",
       " 'serán',\n",
       " 'serás',\n",
       " 'seré',\n",
       " 'seréis',\n",
       " 'sería',\n",
       " 'seríais',\n",
       " 'seríamos',\n",
       " 'serían',\n",
       " 'serías',\n",
       " 'seáis',\n",
       " 'siente',\n",
       " 'sin',\n",
       " 'sintiendo',\n",
       " 'sobre',\n",
       " 'sois',\n",
       " 'somos',\n",
       " 'son',\n",
       " 'soy',\n",
       " 'su',\n",
       " 'sus',\n",
       " 'suya',\n",
       " 'suyas',\n",
       " 'suyo',\n",
       " 'suyos',\n",
       " 'sí',\n",
       " 'también',\n",
       " 'tanto',\n",
       " 'te',\n",
       " 'tendremos',\n",
       " 'tendrá',\n",
       " 'tendrán',\n",
       " 'tendrás',\n",
       " 'tendré',\n",
       " 'tendréis',\n",
       " 'tendría',\n",
       " 'tendríais',\n",
       " 'tendríamos',\n",
       " 'tendrían',\n",
       " 'tendrías',\n",
       " 'tened',\n",
       " 'tenemos',\n",
       " 'tenga',\n",
       " 'tengamos',\n",
       " 'tengan',\n",
       " 'tengas',\n",
       " 'tengo',\n",
       " 'tengáis',\n",
       " 'tenida',\n",
       " 'tenidas',\n",
       " 'tenido',\n",
       " 'tenidos',\n",
       " 'teniendo',\n",
       " 'tenéis',\n",
       " 'tenía',\n",
       " 'teníais',\n",
       " 'teníamos',\n",
       " 'tenían',\n",
       " 'tenías',\n",
       " 'ti',\n",
       " 'tiene',\n",
       " 'tienen',\n",
       " 'tienes',\n",
       " 'todo',\n",
       " 'todos',\n",
       " 'tu',\n",
       " 'tus',\n",
       " 'tuve',\n",
       " 'tuviera',\n",
       " 'tuvierais',\n",
       " 'tuvieran',\n",
       " 'tuvieras',\n",
       " 'tuvieron',\n",
       " 'tuviese',\n",
       " 'tuvieseis',\n",
       " 'tuviesen',\n",
       " 'tuvieses',\n",
       " 'tuvimos',\n",
       " 'tuviste',\n",
       " 'tuvisteis',\n",
       " 'tuviéramos',\n",
       " 'tuviésemos',\n",
       " 'tuvo',\n",
       " 'tuya',\n",
       " 'tuyas',\n",
       " 'tuyo',\n",
       " 'tuyos',\n",
       " 'tú',\n",
       " 'un',\n",
       " 'una',\n",
       " 'uno',\n",
       " 'unos',\n",
       " 'vosotras',\n",
       " 'vosotros',\n",
       " 'vuestra',\n",
       " 'vuestras',\n",
       " 'vuestro',\n",
       " 'vuestros',\n",
       " 'y',\n",
       " 'ya',\n",
       " 'yo',\n",
       " '{',\n",
       " '|',\n",
       " '}',\n",
       " '~',\n",
       " 'él',\n",
       " 'éramos'}"
      ]
     },
     "execution_count": 17,
     "metadata": {},
     "output_type": "execute_result"
    }
   ],
   "source": [
    "palabras_de_parada = set( nltk.corpus.stopwords.words('spanish') + list(string.punctuation))\n",
    "palabras_de_parada"
   ]
  },
  {
   "cell_type": "markdown",
   "metadata": {},
   "source": [
    "Finalmente solo queda eliminar las palabras de parada del texto de la noticia."
   ]
  },
  {
   "cell_type": "code",
   "execution_count": 18,
   "metadata": {},
   "outputs": [
    {
     "data": {
      "text/plain": [
       "['Los',\n",
       " 'clubes',\n",
       " 'cochabambinos',\n",
       " 'Olympic',\n",
       " 'Albert',\n",
       " 'Einstein',\n",
       " 'paceño',\n",
       " 'Universidad',\n",
       " 'Católica',\n",
       " 'Boliviana',\n",
       " 'UCB',\n",
       " 'avanzan',\n",
       " 'paso',\n",
       " 'firme',\n",
       " 'constante',\n",
       " 'rumbo',\n",
       " 'corona',\n",
       " 'Liga',\n",
       " 'Superior',\n",
       " 'voleibol',\n",
       " 'rama',\n",
       " 'femenina',\n",
       " 'desarrolla',\n",
       " 'coliseo',\n",
       " 'Julio',\n",
       " 'Borelli',\n",
       " 'Vitterito',\n",
       " 'La',\n",
       " 'Paz',\n",
       " 'luego',\n",
       " 'cosechar',\n",
       " 'sendas',\n",
       " 'victorias',\n",
       " 'noche',\n",
       " 'martes',\n",
       " 'El',\n",
       " 'ganador',\n",
       " 'representante',\n",
       " 'Bolivia',\n",
       " 'Liga',\n",
       " 'Sudamericana',\n",
       " 'Clubes',\n",
       " '2020',\n",
       " 'El',\n",
       " 'campeón',\n",
       " 'defensor',\n",
       " 'título',\n",
       " 'Olympic',\n",
       " 'superó',\n",
       " '3-0',\n",
       " 'verdugo',\n",
       " 'final',\n",
       " 'edición',\n",
       " '2017',\n",
       " 'cochabambino',\n",
       " 'San',\n",
       " 'Simón',\n",
       " 'La',\n",
       " 'victoria',\n",
       " 'olympiquistas',\n",
       " 'sets',\n",
       " '25-14',\n",
       " '25-13',\n",
       " '25-18']"
      ]
     },
     "execution_count": 18,
     "metadata": {},
     "output_type": "execute_result"
    }
   ],
   "source": [
    "palabras_noticia_sin_palabras_de_parada = [palabra for palabra in palabras_noticia if palabra not in palabras_de_parada]\n",
    "palabras_noticia_sin_palabras_de_parada"
   ]
  },
  {
   "cell_type": "markdown",
   "metadata": {},
   "source": [
    "<a id=\"4\"></a>\n",
    "## Otras tareas de limpieza que se pueden considerar\n",
    "\n",
    "- Unificar el case - <font color=\"gray\">string.lower()></font>.\n",
    "- Quitar acentos (probablemente no es buena idea si el contenido está en español)\n",
    "- Procesar contracciones. I'm -> I am \n",
    "- Quitar caracteres expeciales. Como los siguientes: #@!\n",
    "- Quitar markup. Ejemplo en contenido HTML\n",
    "- Corregir texto. Ejemplo, noooo por favoooorrr -> no por favor\n",
    "\n",
    "Algunos enlaces de utilidad:\n",
    "- http://norvig.com/spell-correct.html\n",
    "- https://github.com/fsondej/autocorrect\n",
    "- https://github.com/MajorTal/DeepSpell"
   ]
  },
  {
   "cell_type": "markdown",
   "metadata": {},
   "source": [
    "<a id=\"5\"></a>\n",
    "##  Lematización\n",
    "Eliminar las variaciones de la misma palabra para tratar las variaciones como una sola entidad. (*close, closed, closing*; caminaba, caminando, caminar). Al igual que la eliminación de palabras de parada, se emplea para reducir la cantidad de elementos en el vocabulario de un problema.\n",
    "\n",
    "Algunos enlaces que podrían servirte de ayuda:\n",
    "\n",
    "- __[Lematización](https://es.wikipedia.org/wiki/Lematizaci%C3%B3n)__\n",
    "\n",
    "- __[Stemmer-es, Un lematizador de español](http://stemmer-es.sourceforge.net/)__\n",
    "\n",
    "<a id=\"6\"></a>\n",
    "## Identificar n-gramas\n",
    "Grupos de N palabras que están siempre juntas (Nueva York, Santa Cruz) y que deben tratarse como una sola entidad/palabra.\n",
    "\n",
    "Algunos enlaces que podrían servirte de ayuda:\n",
    "\n",
    "- __[Modelo bolsa de palabras](https://es.wikipedia.org/wiki/Modelo_bolsa_de_palabras)__\n",
    "\n",
    "- __[N-grama](https://es.wikipedia.org/wiki/N-grama)__\n",
    "\n",
    "<a id=\"7\"></a>\n",
    "## Desambiguación lingüística (*Word Sense Disambiguation*)\n",
    "Asignar significado en base al contexto. ¿Con qué sentido se usa una palabra? En el caso de la __[polisemia](https://es.wikipedia.org/wiki/Polisemia)__, ¿cuál de los significados es el más apropiado dado el contexto?\n",
    "\n",
    "Ejemplos:\n",
    "\n",
    "- Placeres de la carne.\n",
    "- La carne está sabrosa.\n",
    "\n",
    "\n",
    "- Puso dos velas a San Pedro.\n",
    "- Los egipcios fueron los primeros constructores de barcos de vela de los que se tiene noticia.\n",
    "\n",
    "El desarrollo de algoritmos para reproducir esta capacidad humana (desambiguar el significado) a menudo puede ser una  __[tarea muy difícil](https://es.wikipedia.org/wiki/Problema_no_resuelto)__. En la frase \"La carne está sabrosa\" hay también cierto contenido implícito: se asume que estamos hablando de carne cocida.\n",
    "\n",
    "Algunos enlaces que podrían servirte de ayuda:\n",
    "\n",
    "- __[Desambiguación lingüística](https://es.wikipedia.org/wiki/Desambiguaci%C3%B3n_ling%C3%BC%C3%ADstica)__\n",
    "\n",
    "\n",
    "Recursos lingüísticos\n",
    "\n",
    "- __[WordNet](https://es.wikipedia.org/wiki/WordNet)__\n",
    "\n",
    "- __[Spanish WordNet 3.0](http://timm.ujaen.es/recursos/spanish-wordnet-3-0/)__\n",
    "\n",
    "\n",
    "Estrategias \n",
    "\n",
    "- __[Algoritmo Lesk](https://en.wikipedia.org/wiki/Lesk_algorithm)__\n",
    "\n",
    "- __[Desambiguación del Sentido de las Palabras](http://dpinto.cs.buap.mx/pln/Autumn2010/wsd.pdf)__\n",
    "\n",
    "- __[Estudio sobre métodos tipo Lesk usados para la desambiguación de sentidos de palabras](https://pdfs.semanticscholar.org/cd5f/5dd14c126325a81280407ddc2616f3704fca.pdf)__\n",
    "\n",
    "- __[Supervised Word Sense Disambiguation: Facing Current Challenges](http://www.sepln.org/sites/default/files/monografia/archivos/2018-10/monografiaDavid.pdf)__\n",
    "\n",
    "<a id=\"8\"></a>\n",
    "##  Etiquetado gramatical (*Part of Speech Tagging*)\n",
    "Como parte de la desambiguación, se suele realizar la tarea de asignar una categoría a cada palabra: sujeto, nombre, verbo, adjetivo. \n",
    "\n",
    "Algunos enlaces de ayuda:\n",
    "\n",
    "- __[Etiquetado gramatical](https://es.wikipedia.org/wiki/Etiquetado_gramatical)__\n",
    "\n",
    "- __[Using Wikicorpus & NLTK to build a Spanish part-of-speech tagger](https://www.cnts.ua.ac.be/pages/using-wikicorpus-nltk-to-build-a-spanish-part-of-speech-tagger)__\n",
    "\n",
    "- __[Choosing a Spanish Part-of-Speech tagger for a lexically sensitive task](https://www.researchgate.net/publication/282828110_Choosing_a_Spanish_Part-of-Speech_tagger_for_a_lexically_sensitive_task)__"
   ]
  },
  {
   "cell_type": "markdown",
   "metadata": {},
   "source": [
    "# Enfoques\n",
    "Basado en reglas (sistemas expertos)\n",
    "Aprendizaje Automático (capturar patrones en datos históricos)\n",
    "\n",
    "Ejemplo: Detección de Spam, Sentiment Analysis"
   ]
  },
  {
   "cell_type": "markdown",
   "metadata": {},
   "source": [
    "<a id=\"9\"></a>\n",
    "# Representaciones\n",
    "Dependiendo del tipo de problema *NLP*, el texto deberá transformarse en una representación adecuada para las herramientas y algoritmos empleandos para abordar el problema. Una de las más usadas es crear representaciones numéricas. Esencialmente, se trata de convertir texto en un vector/arreglo de números.\n",
    "\n",
    "Los valores en el arreglo pueden ser por ejemplo: la frequencia del *tóken* en el documento, el código en un *word embedding*, o la métrica *TF-IDF*. \n",
    "\n",
    "Hay escenarios en los cuales estos vectores pueden tener un gran tamaño, en estos casos se recomienda emplear alguna estrategia para reducir la dimensionalidad de los vectores (Ej. *feature hashing*, *locality sensitive hashing*).\n",
    "\n",
    "Para su mejor comprensión, realizaremos la representación sobre la base de esta [noticia](https://www.lostiempos.com/deportes/multideportivo/20200115/olympic-albert-einstein-ucb-lpz-van-paso-firme-liga-superior)"
   ]
  },
  {
   "cell_type": "markdown",
   "metadata": {},
   "source": [
    "Primero debemos obtener el texto de la noticia."
   ]
  },
  {
   "cell_type": "code",
   "execution_count": 19,
   "metadata": {},
   "outputs": [
    {
     "data": {
      "text/plain": [
       "'Los clubes cochabambinos de Olympic, Albert Einstein y el paceño Universidad Católica Boliviana (UCB) avanzan a paso firme y constante rumbo a la corona en la Liga Superior de voleibol, rama femenina, que se desarrolla en el coliseo Julio Borelli Vitterito de La Paz, luego de cosechar sendas victorias la noche de este martes. El ganador será representante de Bolivia en la Liga Sudamericana de Clubes 2020.\\n\\nEl campeón defensor del título, Olympic, superó 3-0  a su verdugo de la final de la edición 2017, el también cochabambino San Simón. La victoria para las olympiquistas fue con sets de 25-14, 25-13 y 25-14.'"
      ]
     },
     "execution_count": 19,
     "metadata": {},
     "output_type": "execute_result"
    }
   ],
   "source": [
    "texto_noticia = \"\"\"Los clubes cochabambinos de Olympic, Albert Einstein y el paceño Universidad Católica Boliviana (UCB) avanzan a paso firme y constante rumbo a la corona en la Liga Superior de voleibol, rama femenina, que se desarrolla en el coliseo Julio Borelli Vitterito de La Paz, luego de cosechar sendas victorias la noche de este martes. El ganador será representante de Bolivia en la Liga Sudamericana de Clubes 2020.\n",
    "\n",
    "El campeón defensor del título, Olympic, superó 3-0  a su verdugo de la final de la edición 2017, el también cochabambino San Simón. La victoria para las olympiquistas fue con sets de 25-14, 25-13 y 25-14.\"\"\"\n",
    "texto_noticia"
   ]
  },
  {
   "cell_type": "markdown",
   "metadata": {},
   "source": [
    "Ahora debemos importar las librerias correspondientes y generar la lista de *stop words* en español."
   ]
  },
  {
   "cell_type": "code",
   "execution_count": 20,
   "metadata": {},
   "outputs": [],
   "source": [
    "import nltk\n",
    "import string\n",
    "import numpy as np\n",
    "import pandas as pd\n",
    "import collections\n",
    "import math\n",
    "\n",
    "# nltk.download('stopwords') # Si no está ya descargado\n",
    "\n",
    "palabras_de_parada_espanol = set( nltk.corpus.stopwords.words('spanish') + list(string.punctuation))"
   ]
  },
  {
   "cell_type": "markdown",
   "metadata": {},
   "source": [
    "Luego proceguimos a tokenizar el texto a nivel oración."
   ]
  },
  {
   "cell_type": "code",
   "execution_count": 21,
   "metadata": {},
   "outputs": [
    {
     "data": {
      "text/plain": [
       "'Los clubes cochabambinos de Olympic, Albert Einstein y el paceño Universidad Católica Boliviana (UCB) avanzan a paso firme y constante rumbo a la corona en la Liga Superior de voleibol, rama femenina, que se desarrolla en el coliseo Julio Borelli Vitterito de La Paz, luego de cosechar sendas victorias la noche de este martes.'"
      ]
     },
     "execution_count": 21,
     "metadata": {},
     "output_type": "execute_result"
    }
   ],
   "source": [
    "# nltk.download('punkt') # Si no está ya presente\n",
    "\n",
    "oraciones_noticia = nltk.tokenize.sent_tokenize(text=texto_noticia, language='spanish')\n",
    "oraciones_noticia[0]"
   ]
  },
  {
   "cell_type": "markdown",
   "metadata": {},
   "source": [
    "Creamos una funcion para eliminar las palabras de parada de una oración."
   ]
  },
  {
   "cell_type": "code",
   "execution_count": 22,
   "metadata": {},
   "outputs": [],
   "source": [
    "def normalizar_oraciones(oraciones, language='spanish'):\n",
    "    tokens = nltk.word_tokenize(oraciones,language)\n",
    "    tokens_filtrados = [token.lower() for token in tokens if token not in palabras_de_parada_espanol]\n",
    "    return \" \".join(tokens_filtrados)"
   ]
  },
  {
   "cell_type": "markdown",
   "metadata": {},
   "source": [
    "Aplicamos la función a todo el cuerpo del texto."
   ]
  },
  {
   "cell_type": "code",
   "execution_count": 23,
   "metadata": {},
   "outputs": [
    {
     "data": {
      "text/plain": [
       "array(['los clubes cochabambinos olympic albert einstein paceño universidad católica boliviana ucb avanzan paso firme constante rumbo corona liga superior voleibol rama femenina desarrolla coliseo julio borelli vitterito la paz luego cosechar sendas victorias noche martes',\n",
       "       'el ganador representante bolivia liga sudamericana clubes 2020',\n",
       "       'el campeón defensor título olympic superó 3-0 verdugo final edición 2017 cochabambino san simón',\n",
       "       'la victoria olympiquistas sets 25-14 25-13 25-14'], dtype='<U264')"
      ]
     },
     "execution_count": 23,
     "metadata": {},
     "output_type": "execute_result"
    }
   ],
   "source": [
    "def normalizar_cuerpo_texto(oraciones, language='spanish'):\n",
    "    return np.array([normalizar_oraciones(oracion, language) for oracion in oraciones])\n",
    "\n",
    "cuerpo_texto_normalizado = normalizar_cuerpo_texto(oraciones_noticia)\n",
    "cuerpo_texto_normalizado"
   ]
  },
  {
   "cell_type": "markdown",
   "metadata": {},
   "source": [
    "Muy bien, ahora obtendremos el vocabulario del problema con el siguiente código."
   ]
  },
  {
   "cell_type": "code",
   "execution_count": 24,
   "metadata": {},
   "outputs": [],
   "source": [
    "def obtener_vocabulario_problema(cuerpo_texto_normalizado):\n",
    "    vocabulario_problema = [] \n",
    "    for oracion in cuerpo_texto_normalizado:\n",
    "        vocabulario_problema.extend(oracion.split())  \n",
    "    return vocabulario_problema"
   ]
  },
  {
   "cell_type": "markdown",
   "metadata": {},
   "source": [
    "Con la siguiente función, tendremos cada palabra del vocabulario con su posición."
   ]
  },
  {
   "cell_type": "code",
   "execution_count": 25,
   "metadata": {},
   "outputs": [
    {
     "name": "stdout",
     "output_type": "stream",
     "text": [
      "Cantidad de palabras: 58\n"
     ]
    },
    {
     "data": {
      "text/plain": [
       "{'2017': 0,\n",
       " '2020': 1,\n",
       " '25-13': 2,\n",
       " '25-14': 3,\n",
       " '3-0': 4,\n",
       " 'albert': 5,\n",
       " 'avanzan': 6,\n",
       " 'bolivia': 7,\n",
       " 'boliviana': 8,\n",
       " 'borelli': 9,\n",
       " 'campeón': 10,\n",
       " 'católica': 11,\n",
       " 'clubes': 12,\n",
       " 'cochabambino': 13,\n",
       " 'cochabambinos': 14,\n",
       " 'coliseo': 15,\n",
       " 'constante': 16,\n",
       " 'corona': 17,\n",
       " 'cosechar': 18,\n",
       " 'defensor': 19,\n",
       " 'desarrolla': 20,\n",
       " 'edición': 21,\n",
       " 'einstein': 22,\n",
       " 'el': 23,\n",
       " 'femenina': 24,\n",
       " 'final': 25,\n",
       " 'firme': 26,\n",
       " 'ganador': 27,\n",
       " 'julio': 28,\n",
       " 'la': 29,\n",
       " 'liga': 30,\n",
       " 'los': 31,\n",
       " 'luego': 32,\n",
       " 'martes': 33,\n",
       " 'noche': 34,\n",
       " 'olympic': 35,\n",
       " 'olympiquistas': 36,\n",
       " 'paceño': 37,\n",
       " 'paso': 38,\n",
       " 'paz': 39,\n",
       " 'rama': 40,\n",
       " 'representante': 41,\n",
       " 'rumbo': 42,\n",
       " 'san': 43,\n",
       " 'sendas': 44,\n",
       " 'sets': 45,\n",
       " 'simón': 46,\n",
       " 'sudamericana': 47,\n",
       " 'superior': 48,\n",
       " 'superó': 49,\n",
       " 'título': 50,\n",
       " 'ucb': 51,\n",
       " 'universidad': 52,\n",
       " 'verdugo': 53,\n",
       " 'victoria': 54,\n",
       " 'victorias': 55,\n",
       " 'vitterito': 56,\n",
       " 'voleibol': 57}"
      ]
     },
     "execution_count": 25,
     "metadata": {},
     "output_type": "execute_result"
    }
   ],
   "source": [
    "def obtener_vocabulario_problema_y_posicion(vocabulario_del_problema_ordenado):\n",
    "    token_y_su_posicion = {}\n",
    "    for i, token in enumerate(vocabulario_del_problema_ordenado):\n",
    "        token_y_su_posicion[token] = i\n",
    "    return token_y_su_posicion\n",
    "\n",
    "vocabulario_problema = obtener_vocabulario_problema(cuerpo_texto_normalizado)\n",
    "vocabulario_problema_ordenado = sorted(set(vocabulario_problema))\n",
    "vocabulario_problema_y_su_posicion = obtener_vocabulario_problema_y_posicion(vocabulario_problema_ordenado)\n",
    "print(\"Cantidad de palabras:\", len(vocabulario_problema_y_su_posicion))\n",
    "vocabulario_problema_y_su_posicion"
   ]
  },
  {
   "cell_type": "markdown",
   "metadata": {},
   "source": [
    "<a id=\"10\"></a>\n",
    "## Feature Vectors\n",
    "\n",
    "Los *feature vectors* se utilizan para representar características simbólicas o númericas; llamados *features*, de un objeto de una manera matemática y fácilmente analizable."
   ]
  },
  {
   "cell_type": "markdown",
   "metadata": {},
   "source": [
    "<a id=\"11\"></a>\n",
    "### One-hot encoding (tuplas de palabras)\n",
    "Se crea un vocabulario con todas la palabras de todos los documentos. Y cada documento se representa como una arreglo donde se indica la presencia o ausencia de una palabra en el documento.\n",
    "\n",
    "![one-hot-encoding](one-hot-encoding.png)\n",
    "\n",
    "- Cada documento se representa con uno arreglo tan grande como todo el vocabulario! :(\n",
    "- Se pierde el órden y la frequencia de las palabras.\n",
    "- No captura relaciones entre palabras.\n",
    "- Su mayor ventaja es la simplicidad."
   ]
  },
  {
   "cell_type": "code",
   "execution_count": 26,
   "metadata": {},
   "outputs": [
    {
     "data": {
      "text/plain": [
       "'el campeón defensor título olympic superó 3-0 verdugo final edición 2017 cochabambino san simón'"
      ]
     },
     "execution_count": 26,
     "metadata": {},
     "output_type": "execute_result"
    }
   ],
   "source": [
    "cuerpo_texto_normalizado[2]"
   ]
  },
  {
   "cell_type": "code",
   "execution_count": 27,
   "metadata": {},
   "outputs": [
    {
     "data": {
      "text/plain": [
       "array([1, 0, 0, 0, 1, 0, 0, 0, 0, 0, 1, 0, 0, 1, 0, 0, 0, 0, 0, 1, 0, 1,\n",
       "       0, 1, 0, 1, 0, 0, 0, 0, 0, 0, 0, 0, 0, 1, 0, 0, 0, 0, 0, 0, 0, 1,\n",
       "       0, 0, 1, 0, 0, 1, 1, 0, 0, 1, 0, 0, 0, 0])"
      ]
     },
     "execution_count": 27,
     "metadata": {},
     "output_type": "execute_result"
    }
   ],
   "source": [
    "def vector_one_hot(oracion, vocabulario_problema_y_su_posicion):\n",
    "    vector = np.zeros(len(vocabulario_problema_y_su_posicion),dtype=int)\n",
    "    for token in oracion.split():\n",
    "        vector[vocabulario_problema_y_su_posicion[token]] = 1\n",
    "    return vector\n",
    "\n",
    "vector_one_hot(cuerpo_texto_normalizado[2], vocabulario_problema_y_su_posicion)"
   ]
  },
  {
   "cell_type": "markdown",
   "metadata": {},
   "source": [
    "<a id=\"12\"></a>\n",
    "### Basadas en frecuencias\n",
    "**Conteos**\n",
    "\n",
    "El vector de cada documento contiene la cantidad de veces que aparece una palabra (no solo se marca su presencia/ausencia)\n",
    "\n",
    "***TF-IDF (Term frequency, inverse document frequency)***\n",
    "\n",
    "*TF*: La frecuencia de una palabra en un documento.\n",
    "\n",
    "*IDF*: Mientras en más documentos aparece menos significativa es la palabra en los documentos en las aparece.\n",
    "\n",
    "Captura la frequencia de las palabras en cada documento y en el contenido formado por el conjunto de los documentos.\n",
    "\n",
    "El valor de *TF-IDF* para cada palabra aumenta por su frecuencia en un documento pero disminuye si al mismo tiempo aparece \n",
    "todo el conjunto de documentos (es un término común).\n",
    "\n",
    "La idea es capturar la importancia de las palabras en los documentos. No captura las relaciones entre las palabras.\n"
   ]
  },
  {
   "cell_type": "markdown",
   "metadata": {},
   "source": [
    "#### TF  (Term Frequency)"
   ]
  },
  {
   "cell_type": "code",
   "execution_count": 28,
   "metadata": {},
   "outputs": [
    {
     "data": {
      "text/plain": [
       "array(['los clubes cochabambinos olympic albert einstein paceño universidad católica boliviana ucb avanzan paso firme constante rumbo corona liga superior voleibol rama femenina desarrolla coliseo julio borelli vitterito la paz luego cosechar sendas victorias noche martes',\n",
       "       'el ganador representante bolivia liga sudamericana clubes 2020',\n",
       "       'el campeón defensor título olympic superó 3-0 verdugo final edición 2017 cochabambino san simón',\n",
       "       'la victoria olympiquistas sets 25-14 25-13 25-14'], dtype='<U264')"
      ]
     },
     "execution_count": 28,
     "metadata": {},
     "output_type": "execute_result"
    }
   ],
   "source": [
    "cuerpo_texto_normalizado"
   ]
  },
  {
   "cell_type": "code",
   "execution_count": 29,
   "metadata": {},
   "outputs": [
    {
     "data": {
      "text/plain": [
       "{'2017': 0,\n",
       " '2020': 1,\n",
       " '25-13': 2,\n",
       " '25-14': 3,\n",
       " '3-0': 4,\n",
       " 'albert': 5,\n",
       " 'avanzan': 6,\n",
       " 'bolivia': 7,\n",
       " 'boliviana': 8,\n",
       " 'borelli': 9,\n",
       " 'campeón': 10,\n",
       " 'católica': 11,\n",
       " 'clubes': 12,\n",
       " 'cochabambino': 13,\n",
       " 'cochabambinos': 14,\n",
       " 'coliseo': 15,\n",
       " 'constante': 16,\n",
       " 'corona': 17,\n",
       " 'cosechar': 18,\n",
       " 'defensor': 19,\n",
       " 'desarrolla': 20,\n",
       " 'edición': 21,\n",
       " 'einstein': 22,\n",
       " 'el': 23,\n",
       " 'femenina': 24,\n",
       " 'final': 25,\n",
       " 'firme': 26,\n",
       " 'ganador': 27,\n",
       " 'julio': 28,\n",
       " 'la': 29,\n",
       " 'liga': 30,\n",
       " 'los': 31,\n",
       " 'luego': 32,\n",
       " 'martes': 33,\n",
       " 'noche': 34,\n",
       " 'olympic': 35,\n",
       " 'olympiquistas': 36,\n",
       " 'paceño': 37,\n",
       " 'paso': 38,\n",
       " 'paz': 39,\n",
       " 'rama': 40,\n",
       " 'representante': 41,\n",
       " 'rumbo': 42,\n",
       " 'san': 43,\n",
       " 'sendas': 44,\n",
       " 'sets': 45,\n",
       " 'simón': 46,\n",
       " 'sudamericana': 47,\n",
       " 'superior': 48,\n",
       " 'superó': 49,\n",
       " 'título': 50,\n",
       " 'ucb': 51,\n",
       " 'universidad': 52,\n",
       " 'verdugo': 53,\n",
       " 'victoria': 54,\n",
       " 'victorias': 55,\n",
       " 'vitterito': 56,\n",
       " 'voleibol': 57}"
      ]
     },
     "execution_count": 29,
     "metadata": {},
     "output_type": "execute_result"
    }
   ],
   "source": [
    "vocabulario_problema_y_su_posicion"
   ]
  },
  {
   "cell_type": "markdown",
   "metadata": {},
   "source": [
    "Contamos la frecuencia de cada *token*."
   ]
  },
  {
   "cell_type": "code",
   "execution_count": 30,
   "metadata": {},
   "outputs": [
    {
     "data": {
      "text/plain": [
       "Counter({'la': 1,\n",
       "         'victoria': 1,\n",
       "         'olympiquistas': 1,\n",
       "         'sets': 1,\n",
       "         '25-14': 2,\n",
       "         '25-13': 1})"
      ]
     },
     "execution_count": 30,
     "metadata": {},
     "output_type": "execute_result"
    }
   ],
   "source": [
    "tokens_y_su_frecuencia = collections.Counter(cuerpo_texto_normalizado[3].split())\n",
    "tokens_y_su_frecuencia"
   ]
  },
  {
   "cell_type": "markdown",
   "metadata": {},
   "source": [
    "Puedes contar también de esta forma:"
   ]
  },
  {
   "cell_type": "code",
   "execution_count": 31,
   "metadata": {},
   "outputs": [
    {
     "data": {
      "text/plain": [
       "Counter({'a': 2, 'b': 1, 'c': 1})"
      ]
     },
     "execution_count": 31,
     "metadata": {},
     "output_type": "execute_result"
    }
   ],
   "source": [
    "frecuencia = collections.Counter(['a','b','c','a'])\n",
    "frecuencia"
   ]
  },
  {
   "cell_type": "markdown",
   "metadata": {},
   "source": [
    "Con el siguiente código puedes obtener todos los *tokens*"
   ]
  },
  {
   "cell_type": "code",
   "execution_count": 46,
   "metadata": {},
   "outputs": [
    {
     "data": {
      "text/plain": [
       "['a', 'b', 'c']"
      ]
     },
     "execution_count": 46,
     "metadata": {},
     "output_type": "execute_result"
    }
   ],
   "source": [
    "from heapq import nlargest\n",
    "\n",
    "nlargest(10, frecuencia, key=frecuencia.get)"
   ]
  },
  {
   "cell_type": "markdown",
   "metadata": {},
   "source": [
    "La siguiente función anota la frecuencia de cada palabra en el vector *one hot*"
   ]
  },
  {
   "cell_type": "code",
   "execution_count": 33,
   "metadata": {},
   "outputs": [
    {
     "data": {
      "text/plain": [
       "array([0, 0, 1, 2, 0, 0, 0, 0, 0, 0, 0, 0, 0, 0, 0, 0, 0, 0, 0, 0, 0, 0,\n",
       "       0, 0, 0, 0, 0, 0, 0, 1, 0, 0, 0, 0, 0, 0, 1, 0, 0, 0, 0, 0, 0, 0,\n",
       "       0, 1, 0, 0, 0, 0, 0, 0, 0, 0, 1, 0, 0, 0])"
      ]
     },
     "execution_count": 33,
     "metadata": {},
     "output_type": "execute_result"
    }
   ],
   "source": [
    "def obtener_vector_frecuencia_termino(oracion, vocabulario_problema_y_su_posicion):\n",
    "    vector = np.zeros(len(vocabulario_problema_y_su_posicion),dtype=int)\n",
    "    tokens_y_su_frecuencia = collections.Counter(oracion.split());\n",
    "    for token, frecuencia in tokens_y_su_frecuencia.items():\n",
    "        vector[vocabulario_problema_y_su_posicion[token]] = frecuencia\n",
    "    return vector\n",
    "\n",
    "obtener_vector_frecuencia_termino(cuerpo_texto_normalizado[3], vocabulario_problema_y_su_posicion)"
   ]
  },
  {
   "cell_type": "markdown",
   "metadata": {},
   "source": [
    "#####  Evite escribir código, cuando se puede hacer con librerias\n",
    "\n",
    "Un enlace de ayuda:\n",
    "__[Scikit-Learn Design Principles](https://towardsdatascience.com/scikit-learn-design-principles-d1371958059b)__"
   ]
  },
  {
   "cell_type": "code",
   "execution_count": 34,
   "metadata": {},
   "outputs": [
    {
     "data": {
      "text/plain": [
       "array(['p1 co', 'p2 co co'], dtype='<U8')"
      ]
     },
     "execution_count": 34,
     "metadata": {},
     "output_type": "execute_result"
    }
   ],
   "source": [
    "simple_cuerpo_texto_normalizado = np.array(['p1 co','p2 co co'])\n",
    "simple_cuerpo_texto_normalizado"
   ]
  },
  {
   "cell_type": "markdown",
   "metadata": {},
   "source": [
    "La funcion <font color=\"gray\">CountVectorizer()</font> implementa <font color=\"gray\">transform</font>"
   ]
  },
  {
   "cell_type": "code",
   "execution_count": 35,
   "metadata": {},
   "outputs": [
    {
     "data": {
      "text/plain": [
       "<2x3 sparse matrix of type '<class 'numpy.int64'>'\n",
       "\twith 4 stored elements in Compressed Sparse Row format>"
      ]
     },
     "execution_count": 35,
     "metadata": {},
     "output_type": "execute_result"
    }
   ],
   "source": [
    "from sklearn.feature_extraction.text import CountVectorizer\n",
    "cv = CountVectorizer()\n",
    "cv_matris = cv.fit_transform(simple_cuerpo_texto_normalizado)\n",
    "cv_matris"
   ]
  },
  {
   "cell_type": "markdown",
   "metadata": {},
   "source": [
    "Algunos ejemplos más:"
   ]
  },
  {
   "cell_type": "code",
   "execution_count": 36,
   "metadata": {},
   "outputs": [
    {
     "name": "stdout",
     "output_type": "stream",
     "text": [
      "Matriz disperza:\n",
      "  (0, 1)\t1\n",
      "  (0, 0)\t1\n",
      "  (1, 0)\t2\n",
      "  (1, 2)\t1\n",
      "Vecto np regular:\n",
      "[[1 1 0]\n",
      " [2 0 1]]\n",
      "Vocabulario:\n",
      "{'p1': 1, 'co': 0, 'p2': 2}\n",
      "Variables:\n",
      "['co', 'p1', 'p2']\n",
      "one-hot encoding:\n",
      "[[1 1 0]\n",
      " [1 0 1]]\n"
     ]
    }
   ],
   "source": [
    "print(\"Matriz disperza:\")\n",
    "print(cv_matris)\n",
    "print(\"Vecto np regular:\")\n",
    "print(cv_matris.toarray())\n",
    "print(\"Vocabulario:\")\n",
    "print(cv.vocabulary_)\n",
    "print(\"Variables:\")\n",
    "print(cv.get_feature_names())\n",
    "print(\"one-hot encoding:\")\n",
    "print(np.sign(cv_matris.toarray()))"
   ]
  },
  {
   "cell_type": "markdown",
   "metadata": {},
   "source": [
    "Puedes también utilizar los *dataframes*"
   ]
  },
  {
   "cell_type": "code",
   "execution_count": 37,
   "metadata": {},
   "outputs": [
    {
     "data": {
      "text/html": [
       "<div>\n",
       "<style scoped>\n",
       "    .dataframe tbody tr th:only-of-type {\n",
       "        vertical-align: middle;\n",
       "    }\n",
       "\n",
       "    .dataframe tbody tr th {\n",
       "        vertical-align: top;\n",
       "    }\n",
       "\n",
       "    .dataframe thead th {\n",
       "        text-align: right;\n",
       "    }\n",
       "</style>\n",
       "<table border=\"1\" class=\"dataframe\">\n",
       "  <thead>\n",
       "    <tr style=\"text-align: right;\">\n",
       "      <th></th>\n",
       "      <th>co</th>\n",
       "      <th>p1</th>\n",
       "      <th>p2</th>\n",
       "    </tr>\n",
       "  </thead>\n",
       "  <tbody>\n",
       "    <tr>\n",
       "      <th>0</th>\n",
       "      <td>1</td>\n",
       "      <td>1</td>\n",
       "      <td>0</td>\n",
       "    </tr>\n",
       "    <tr>\n",
       "      <th>1</th>\n",
       "      <td>2</td>\n",
       "      <td>0</td>\n",
       "      <td>1</td>\n",
       "    </tr>\n",
       "  </tbody>\n",
       "</table>\n",
       "</div>"
      ],
      "text/plain": [
       "   co  p1  p2\n",
       "0   1   1   0\n",
       "1   2   0   1"
      ]
     },
     "execution_count": 37,
     "metadata": {},
     "output_type": "execute_result"
    }
   ],
   "source": [
    "pd.DataFrame(cv_matris.toarray(), columns=cv.get_feature_names())"
   ]
  },
  {
   "cell_type": "markdown",
   "metadata": {},
   "source": [
    "Ahora unos ejemplos para bi-gramas."
   ]
  },
  {
   "cell_type": "code",
   "execution_count": 38,
   "metadata": {},
   "outputs": [
    {
     "data": {
      "text/plain": [
       "array(['p1 co', 'p2 co co'], dtype='<U8')"
      ]
     },
     "execution_count": 38,
     "metadata": {},
     "output_type": "execute_result"
    }
   ],
   "source": [
    "simple_cuerpo_texto_normalizado"
   ]
  },
  {
   "cell_type": "code",
   "execution_count": 39,
   "metadata": {},
   "outputs": [
    {
     "name": "stdout",
     "output_type": "stream",
     "text": [
      "Matris dispersa:\n",
      "  (0, 2)\t1\n",
      "  (0, 0)\t1\n",
      "  (0, 3)\t1\n",
      "  (1, 0)\t2\n",
      "  (1, 4)\t1\n",
      "  (1, 5)\t1\n",
      "  (1, 1)\t1\n",
      "Vector np regular:\n",
      "[[1 0 1 1 0 0]\n",
      " [2 1 0 0 1 1]]\n",
      "Variables:\n",
      "['co', 'co co', 'p1', 'p1 co', 'p2', 'p2 co']\n"
     ]
    }
   ],
   "source": [
    "bv = CountVectorizer(ngram_range=(1,2))\n",
    "cv_matris_con_bigramas = bv.fit_transform(simple_cuerpo_texto_normalizado)\n",
    "print(\"Matris dispersa:\")\n",
    "print(cv_matris_con_bigramas)\n",
    "print(\"Vector np regular:\")\n",
    "print(cv_matris_con_bigramas.toarray())\n",
    "print(\"Variables:\")\n",
    "print(bv.get_feature_names())"
   ]
  },
  {
   "cell_type": "markdown",
   "metadata": {},
   "source": [
    "Puedes también utilizar *dataframes*"
   ]
  },
  {
   "cell_type": "code",
   "execution_count": 40,
   "metadata": {},
   "outputs": [
    {
     "data": {
      "text/html": [
       "<div>\n",
       "<style scoped>\n",
       "    .dataframe tbody tr th:only-of-type {\n",
       "        vertical-align: middle;\n",
       "    }\n",
       "\n",
       "    .dataframe tbody tr th {\n",
       "        vertical-align: top;\n",
       "    }\n",
       "\n",
       "    .dataframe thead th {\n",
       "        text-align: right;\n",
       "    }\n",
       "</style>\n",
       "<table border=\"1\" class=\"dataframe\">\n",
       "  <thead>\n",
       "    <tr style=\"text-align: right;\">\n",
       "      <th></th>\n",
       "      <th>co</th>\n",
       "      <th>co co</th>\n",
       "      <th>p1</th>\n",
       "      <th>p1 co</th>\n",
       "      <th>p2</th>\n",
       "      <th>p2 co</th>\n",
       "    </tr>\n",
       "  </thead>\n",
       "  <tbody>\n",
       "    <tr>\n",
       "      <th>0</th>\n",
       "      <td>1</td>\n",
       "      <td>0</td>\n",
       "      <td>1</td>\n",
       "      <td>1</td>\n",
       "      <td>0</td>\n",
       "      <td>0</td>\n",
       "    </tr>\n",
       "    <tr>\n",
       "      <th>1</th>\n",
       "      <td>2</td>\n",
       "      <td>1</td>\n",
       "      <td>0</td>\n",
       "      <td>0</td>\n",
       "      <td>1</td>\n",
       "      <td>1</td>\n",
       "    </tr>\n",
       "  </tbody>\n",
       "</table>\n",
       "</div>"
      ],
      "text/plain": [
       "   co  co co  p1  p1 co  p2  p2 co\n",
       "0   1      0   1      1   0      0\n",
       "1   2      1   0      0   1      1"
      ]
     },
     "execution_count": 40,
     "metadata": {},
     "output_type": "execute_result"
    }
   ],
   "source": [
    "pd.DataFrame(cv_matris_con_bigramas.toarray(), columns=bv.get_feature_names())"
   ]
  },
  {
   "cell_type": "markdown",
   "metadata": {},
   "source": [
    "#### *IDF  (Inverse Document Frequency)*"
   ]
  },
  {
   "cell_type": "markdown",
   "metadata": {},
   "source": [
    "idf(t) = log(cantidad-documentos/cantidad-documentos-con-el-termino)\n",
    "\n",
    "Min = 1; A valores más alejados de 1, mayor IDF\n",
    "\n",
    "Interpretación de resultados"
   ]
  },
  {
   "cell_type": "code",
   "execution_count": 41,
   "metadata": {},
   "outputs": [
    {
     "data": {
      "text/plain": [
       "array(['p1 co', 'p2 co co'], dtype='<U8')"
      ]
     },
     "execution_count": 41,
     "metadata": {},
     "output_type": "execute_result"
    }
   ],
   "source": [
    "simple_cuerpo_texto_normalizado = np.array(['p1 co','p2 co co'])\n",
    "simple_cuerpo_texto_normalizado"
   ]
  },
  {
   "cell_type": "code",
   "execution_count": 42,
   "metadata": {
    "scrolled": false
   },
   "outputs": [
    {
     "data": {
      "text/plain": [
       "TfidfVectorizer()"
      ]
     },
     "execution_count": 42,
     "metadata": {},
     "output_type": "execute_result"
    }
   ],
   "source": [
    "from sklearn.feature_extraction.text import TfidfVectorizer\n",
    "tfIdfv = TfidfVectorizer(norm='l2')\n",
    "tfIdfv.fit(simple_cuerpo_texto_normalizado)"
   ]
  },
  {
   "cell_type": "markdown",
   "metadata": {},
   "source": [
    "Fijate lo que pasa con el valor idf para las palabras que aparecen en muchos documentos. Debido a cómo sckit-learn hace los cálculos, no hay IDF = 0, el valor mínimo es 1"
   ]
  },
  {
   "cell_type": "code",
   "execution_count": 43,
   "metadata": {},
   "outputs": [
    {
     "data": {
      "text/plain": [
       "{'co': 1.0, 'p1': 1.4054651081081644, 'p2': 1.4054651081081644}"
      ]
     },
     "execution_count": 43,
     "metadata": {},
     "output_type": "execute_result"
    }
   ],
   "source": [
    "dict(zip(tfIdfv.get_feature_names(),tfIdfv.idf_ ))"
   ]
  },
  {
   "cell_type": "code",
   "execution_count": 44,
   "metadata": {},
   "outputs": [
    {
     "data": {
      "text/plain": [
       "TfidfVectorizer()"
      ]
     },
     "execution_count": 44,
     "metadata": {},
     "output_type": "execute_result"
    }
   ],
   "source": [
    "simple_cuerpo_texto_normalizado = np.array(['p1 co co','p2 co'])\n",
    "tfIdfv.fit(simple_cuerpo_texto_normalizado)"
   ]
  },
  {
   "cell_type": "markdown",
   "metadata": {},
   "source": [
    "Este *score*/indicador aumenta con la frequencia de la palabra en el documento, pero disminuye cuando la palabra se hace muy común (baja su relevancia)"
   ]
  },
  {
   "cell_type": "code",
   "execution_count": 45,
   "metadata": {},
   "outputs": [
    {
     "name": "stdout",
     "output_type": "stream",
     "text": [
      "Vector np regular:\n",
      "[[0.81818021 0.57496187 0.        ]\n",
      " [0.57973867 0.         0.81480247]]\n",
      "Variables:\n",
      "['co', 'p1', 'p2']\n"
     ]
    }
   ],
   "source": [
    "tt_matris = tfIdfv.transform(simple_cuerpo_texto_normalizado)\n",
    "print(\"Vector np regular:\")\n",
    "print(tt_matris.toarray())\n",
    "print(\"Variables:\")\n",
    "print(tfIdfv.get_feature_names())"
   ]
  },
  {
   "cell_type": "markdown",
   "metadata": {},
   "source": [
    "#### Co-ocurrencias\n",
    "\n",
    "Se representa con una matrix en la se indica el número de veces que dos palabras aparecen en la misma \"ventana\" de \n",
    "co-ocurrencia (nro de palabras a izquierda, derecha o ambos lados cercanas a otra).\n",
    "\n",
    "Trata de capturar la relaciones entre las palabras."
   ]
  },
  {
   "cell_type": "markdown",
   "metadata": {},
   "source": [
    "<a id=\"13\"></a>\n",
    "### Word embeddings\n",
    "\n",
    "Asociación de palabras con códigos numéricos que capturan su similitud semánticas. Por ejemplo, Londres tendrá un valor numérico cercano a París porque ambas palabras tiene significado parecido (ambas son ciudades importantes de europa); de la misma manera, la distancia entre las palabras \"varón\" y \"mujer\" sería similar a la distancia que existe entre \"rey\" y \"reina\".\n",
    "\n",
    "Son generadas a partir de grandes cuerpos de texto por algoritmos basados en redes neuronales, reducción de la dimensionalidad de matrices de co-ocurrencia y modelos probabilísticos.\n",
    "\n",
    "Algunos enlaces de ayuda:\n",
    "- https://en.wikipedia.org/wiki/Word2vec\n",
    "\n",
    "- https://github.com/aitoralmeida/spanish_word2vec"
   ]
  }
 ],
 "metadata": {
  "kernelspec": {
   "display_name": "Python 3",
   "language": "python",
   "name": "python3"
  },
  "language_info": {
   "codemirror_mode": {
    "name": "ipython",
    "version": 3
   },
   "file_extension": ".py",
   "mimetype": "text/x-python",
   "name": "python",
   "nbconvert_exporter": "python",
   "pygments_lexer": "ipython3",
   "version": "3.9.7"
  }
 },
 "nbformat": 4,
 "nbformat_minor": 2
}

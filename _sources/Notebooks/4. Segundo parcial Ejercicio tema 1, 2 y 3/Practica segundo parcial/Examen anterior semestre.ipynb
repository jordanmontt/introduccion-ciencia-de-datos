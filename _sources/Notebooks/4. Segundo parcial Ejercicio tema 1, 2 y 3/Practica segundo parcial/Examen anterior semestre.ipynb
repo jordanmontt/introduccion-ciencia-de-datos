{
 "cells": [
  {
   "cell_type": "code",
   "execution_count": 2,
   "metadata": {},
   "outputs": [],
   "source": [
    "#Referencias utiles:\n",
    "#https://www.ritchieng.com/pandas-apply/\n",
    "#http://queirozf.com/entries/pandas-dataframe-examples-column-operations\n",
    "#https://pandas.pydata.org/pandas-docs/stable/reference/api/pandas.to_datetime.html\n",
    "#https://2.python-requests.org/en/master/user/quickstart/#make-a-request (Sección \"Response Content\")"
   ]
  },
  {
   "cell_type": "code",
   "execution_count": 137,
   "metadata": {},
   "outputs": [],
   "source": [
    "import urllib3\n",
    "import re\n",
    "import requests\n",
    "import nltk\n",
    "import os\n",
    "import string\n",
    "import csv\n",
    "import collections\n",
    "from bs4 import BeautifulSoup\n",
    "from nltk.tokenize import sent_tokenize,word_tokenize\n",
    "from nltk.corpus import stopwords\n",
    "from nltk.probability import FreqDist\n",
    "from string import punctuation\n",
    "from collections import defaultdict\n",
    "from heapq import nlargest\n",
    "import pandas as pd\n",
    "import numpy as np\n",
    "import matplotlib.pyplot as plt\n",
    "import seaborn as sns\n",
    "\n",
    "http = urllib3.PoolManager()"
   ]
  },
  {
   "cell_type": "code",
   "execution_count": 107,
   "metadata": {},
   "outputs": [],
   "source": [
    "#1) Procesar el archivo \"cine_center_cartelera.html\" para extraer datos y guardarlos en un archivo CSV (cartelera.csv)\n",
    "# Cada linea de en el archivo deberá contener los siguientes datos\n",
    "# Nombre\n",
    "# Duración\n",
    "# Duración en minutos\n",
    "# Clasificacion (Apta para todo el público, Mayores de 14 años)\n",
    "# Audio (DOBLADA, SUBTITULADA)\n",
    "# Horario (Ex 07:15 pm)\n",
    "# Nota aclaratria: incluir un print() que muestra la cantidad de filas recuperadas"
   ]
  },
  {
   "cell_type": "code",
   "execution_count": 182,
   "metadata": {},
   "outputs": [],
   "source": [
    "def obtener_peliculas_comom_componente(pagina):\n",
    "    return pagina.find_all(name='div', class_='theater-movies__item' )\n",
    "\n",
    "def obtener_titulo(pelicula):\n",
    "    return pelicula.find(name='h3', class_='movie-info__title').text.strip()\n",
    "\n",
    "def obtener_componente_info_basis(pelicula):\n",
    "    return [i for i in pelicula.find(name='div', class_='movie-info__basic').find_all(name='div')]\n",
    "#2 Empleando pandas, abra el archivo cartelera.csv y muestre un grafico de barras para cada uno \n",
    "# de los siguientes conteos (OPCIONAL)\n",
    "# Duracion: menor o igual a 90 mins, mayor a 90 mins\n",
    "# Clasificacion: Apta para todo el público, Mayores de 14 años\n",
    "# Audio: DOBLADA, SUBTITULADA\n",
    "# Horario: vespertina, nocturna (considere como nocturna cualquier horario despues de laS 7.00 pm)\n",
    "\n",
    "def obtener_clasificacion(pelicula):\n",
    "    info_basis = obtener_componente_info_basis(pelicula)\n",
    "    return info_basis[0].text.strip()\n",
    "\n",
    "def obtener_duracion(pelicula):\n",
    "    info_basis = obtener_componente_info_basis(pelicula)\n",
    "    return info_basis[1].text.strip()\n",
    "\n",
    "def obtener_horas(duracion):\n",
    "    return int(duracion.split()[0].replace('h', ''))\n",
    "    \n",
    "def obtener_minutos(duracion):\n",
    "    return int(duracion.split()[1].replace('m', ''))\n",
    "    \n",
    "def calcular_duracion_en_minutos(duracion):\n",
    "    horas = obtener_horas(duracion)\n",
    "    minutos = obtener_minutos(duracion)\n",
    "    return horas*60 + minutos\n",
    "    \n",
    "def obtener_audio(pelicula):\n",
    "    return pelicula.find(name='h4', class_='time__exhibit-mode').text.split()[1].strip()\n",
    "\n",
    "def obtener_horarios(pelicula):\n",
    "    horarios = [horario.text for horario in pelicula.find(name='div', class_='time__dates').find_all(name='a')]\n",
    "    horarios_string = ''.join(horarios)\n",
    "    return horarios_string\n",
    "\n",
    "def formatear_pelicula(pelicula):\n",
    "    nombre = obtener_titulo(pelicula)\n",
    "    duracion = obtener_duracion(pelicula)\n",
    "    duracion_en_minutos = calcular_duracion_en_minutos(duracion)\n",
    "    clasificacion = obtener_clasificacion(pelicula)\n",
    "    audio = obtener_audio(pelicula)\n",
    "    horarios = obtener_horarios(pelicula)\n",
    "    \n",
    "    return dict(nombre = nombre,\n",
    "                duracion = duracion,\n",
    "                duracion_en_minutos = duracion_en_minutos,\n",
    "                clasificacion = clasificacion,\n",
    "                audio = audio,\n",
    "                horarios = horarios)\n",
    "    \n",
    "def obtener_peliculas_como_lista_diccionario(peliculas_componente):\n",
    "    peliculas_con_formato = []\n",
    "    for pelicula in peliculas_componente:\n",
    "        peliculas_con_formato.append(formatear_pelicula(pelicula))\n",
    "    return peliculas_con_formato\n",
    "\n",
    "def guardar_como_csv(lista_peliculas):\n",
    "    with open('peliculas.csv', \"w\", encoding=\"utf-8\", newline=\"\") as output_file:\n",
    "        dict_writer = csv.DictWriter(output_file, fieldnames=lista_peliculas[0].keys())\n",
    "        dict_writer.writeheader()\n",
    "        dict_writer.writerows(lista_peliculas)"
   ]
  },
  {
   "cell_type": "code",
   "execution_count": 183,
   "metadata": {},
   "outputs": [],
   "source": [
    "respuesta = requests.get('http://localhost:3000/')\n",
    "pagina = BeautifulSoup(respuesta.text, 'html.parser')\n",
    "peliculas = obtener_peliculas_comom_componente(pagina)\n",
    "peliculas_lista_de_diccionarios = obtener_peliculas_como_lista_diccionario(peliculas)\n",
    "guardar_como_csv(peliculas_lista_de_diccionarios)"
   ]
  },
  {
   "cell_type": "code",
   "execution_count": 184,
   "metadata": {},
   "outputs": [],
   "source": [
    "#2 Empleando pandas, abra el archivo cartelera.csv y muestre un grafico de barras para cada uno \n",
    "# de los siguientes conteos (OPCIONAL)\n",
    "# Duracion: menor o igual a 90 mins, mayor a 90 mins\n",
    "# Clasificacion: Apta para todo el público, Mayores de 14 años\n",
    "# Audio: DOBLADA, SUBTITULADA\n",
    "# Horario: vespertina, nocturna (considere como nocturna cualquier horario despues de laS 7.00 pm)"
   ]
  },
  {
   "cell_type": "code",
   "execution_count": 185,
   "metadata": {},
   "outputs": [
    {
     "name": "stdout",
     "output_type": "stream",
     "text": [
      "                                            nombre duracion  \\\n",
      "0                            Presidente bajo fuego   1h 52m   \n",
      "1                                  Mejor que nunca   1h 31m   \n",
      "2                              Traición y venganza   1h 34m   \n",
      "3                                      Ouija House   1h 35m   \n",
      "4                                     ¡Asu Mare 3!   1h 42m   \n",
      "5                                               IT   2h 15m   \n",
      "6                                      El Rey León   1h 57m   \n",
      "7   Historias de Miedo para Contar en la Oscuridad    2h 0m   \n",
      "8                 Rápidos y Furiosos: Hobbs & Shaw   2h 15m   \n",
      "9                                    Angry Birds 2   1h 36m   \n",
      "10                                   Tu me manques   1h 45m   \n",
      "11                           He matado a mi marido   1h 48m   \n",
      "12                         Infierno en la tormenta   1h 27m   \n",
      "\n",
      "    duracion_en_minutos              clasificacion        audio  \\\n",
      "0                   112  Apta para todo el público      Doblada   \n",
      "1                    91         Mayores de 14 años  Subtitulada   \n",
      "2                    94         Mayores de 14 años      Doblada   \n",
      "3                    95         Mayores de 14 años      Doblada   \n",
      "4                   102  Apta para todo el público      Doblada   \n",
      "5                   135         Mayores de 14 años      Doblada   \n",
      "6                   117  Apta para todo el público      Doblada   \n",
      "7                   120         Mayores de 14 años      Doblada   \n",
      "8                   135  Apta para todo el público      Doblada   \n",
      "9                    96  Apta para todo el público      Doblada   \n",
      "10                  105         Mayores de 14 años      Doblada   \n",
      "11                  108         Mayores de 14 años      Doblada   \n",
      "12                   87  Apta para todo el público      Doblada   \n",
      "\n",
      "                            horarios  duracion_es_mayor  \n",
      "0           04:35 pm07:15 pm09:55 pm                  1  \n",
      "1           06:05 pm08:05 pm10:05 pm                  1  \n",
      "2                           07:05 pm                  1  \n",
      "3           05:45 pm08:00 pm10:15 pm                  1  \n",
      "4           04:45 pm07:00 pm09:15 pm                  1  \n",
      "5                           09:10 pm                  1  \n",
      "6           05:00 pm07:40 pm10:10 pm                  1  \n",
      "7           05:05 pm07:30 pm09:55 pm                  1  \n",
      "8           04:55 pm07:50 pm10:45 pm                  1  \n",
      "9   03:40 pm06:00 pm08:20 pm10:40 pm                  1  \n",
      "10                          04:40 pm                  1  \n",
      "11                          03:45 pm                  1  \n",
      "12  04:10 pm06:15 pm08:20 pm10:25 pm                  0  \n"
     ]
    },
    {
     "data": {
      "text/plain": [
       "<matplotlib.axes._subplots.AxesSubplot at 0x7ff356400190>"
      ]
     },
     "execution_count": 185,
     "metadata": {},
     "output_type": "execute_result"
    },
    {
     "data": {
      "image/png": "[encoded data removed]",
      "text/plain": [
       "<Figure size 432x288 with 1 Axes>"
      ]
     },
     "metadata": {
      "needs_background": "light"
     },
     "output_type": "display_data"
    }
   ],
   "source": [
    "file_path = os.path.join('peliculas.csv')\n",
    "data = pd.read_csv(file_path)\n",
    "data['duracion_es_mayor']=(data['duracion_en_minutos']>90).astype(int)\n",
    "print(data)\n",
    "# Duracion: menor o igual a 90 mins, mayor a 90 mins\n",
    "data['duracion_es_mayor'].value_counts().plot.bar()"
   ]
  },
  {
   "cell_type": "code",
   "execution_count": 186,
   "metadata": {},
   "outputs": [
    {
     "data": {
      "text/plain": [
       "<matplotlib.axes._subplots.AxesSubplot at 0x7ff3561ea8d0>"
      ]
     },
     "execution_count": 186,
     "metadata": {},
     "output_type": "execute_result"
    },
    {
     "data": {
      "image/png": "[encoded data removed]",
      "text/plain": [
       "<Figure size 432x288 with 1 Axes>"
      ]
     },
     "metadata": {
      "needs_background": "light"
     },
     "output_type": "display_data"
    }
   ],
   "source": [
    "# Clasificacion: Apta para todo el público, Mayores de 14 años\n",
    "data['clasificacion'].value_counts().plot.bar()"
   ]
  },
  {
   "cell_type": "code",
   "execution_count": 187,
   "metadata": {},
   "outputs": [
    {
     "data": {
      "text/plain": [
       "<matplotlib.axes._subplots.AxesSubplot at 0x7ff3567c9dd0>"
      ]
     },
     "execution_count": 187,
     "metadata": {},
     "output_type": "execute_result"
    },
    {
     "data": {
      "image/png": "[encoded data removed]",
      "text/plain": [
       "<Figure size 432x288 with 1 Axes>"
      ]
     },
     "metadata": {
      "needs_background": "light"
     },
     "output_type": "display_data"
    }
   ],
   "source": [
    "# Audio: DOBLADA, SUBTITULADA\n",
    "data['audio'].value_counts().plot.bar()"
   ]
  },
  {
   "cell_type": "code",
   "execution_count": null,
   "metadata": {},
   "outputs": [],
   "source": []
  }
 ],
 "metadata": {
  "kernelspec": {
   "display_name": "Python 3",
   "language": "python",
   "name": "python3"
  },
  "language_info": {
   "codemirror_mode": {
    "name": "ipython",
    "version": 3
   },
   "file_extension": ".py",
   "mimetype": "text/x-python",
   "name": "python",
   "nbconvert_exporter": "python",
   "pygments_lexer": "ipython3",
   "version": "3.7.6"
  }
 },
 "nbformat": 4,
 "nbformat_minor": 2
}

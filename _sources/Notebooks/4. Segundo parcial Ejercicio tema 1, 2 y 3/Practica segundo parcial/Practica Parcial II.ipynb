{
 "cells": [
  {
   "cell_type": "code",
   "execution_count": 201,
   "metadata": {},
   "outputs": [],
   "source": [
    "#Obtener las 10 palabras que más aperecen en el siguiente artículo (ordenadas de manera descendente por su frecuencia). \n",
    "# Antes de obtener las frecuencias de las palabras deberá normalizar el texto aplicando las siguientes transformaciones:\n",
    "# eliminar puntuación y palabras de parada\n",
    "# convertir todo el texto a minísculas\n",
    "#https://es.wikipedia.org/wiki/Pandemia_de_enfermedad_por_coronavirus_de_2020_en_Bolivia"
   ]
  },
  {
   "cell_type": "code",
   "execution_count": 202,
   "metadata": {},
   "outputs": [],
   "source": [
    "import urllib3\n",
    "from bs4 import BeautifulSoup\n",
    "from nltk.tokenize import sent_tokenize,word_tokenize\n",
    "from nltk.corpus import stopwords\n",
    "from nltk.probability import FreqDist\n",
    "from string import punctuation\n",
    "from collections import defaultdict\n",
    "import collections\n",
    "from heapq import nlargest\n",
    "import re\n",
    "import requests\n",
    "import nltk\n",
    "import string\n",
    "\n",
    "http = urllib3.PoolManager()"
   ]
  },
  {
   "cell_type": "code",
   "execution_count": 203,
   "metadata": {},
   "outputs": [],
   "source": [
    "articleURL = \"https://es.wikipedia.org/wiki/Pandemia_de_enfermedad_por_coronavirus_de_2020_en_Bolivia\""
   ]
  },
  {
   "cell_type": "markdown",
   "metadata": {},
   "source": [
    "## Web Scraping\n",
    "Obtener el texto de la pagina de Wikipedia"
   ]
  },
  {
   "cell_type": "code",
   "execution_count": 247,
   "metadata": {},
   "outputs": [],
   "source": [
    "def obtener_contenedor_texto(pagina):\n",
    "    return pagina.find(name='div', attrs={'class': 'mw-parser-output'})\n",
    "\n",
    "def quitar_tablas(contenedor_texto):\n",
    "    for c in contenedor_texto.find_all('table'): \n",
    "        c.decompose()\n",
    "    return contenedor_texto\n",
    "\n",
    "def quitar_indice(contenedor_texto):\n",
    "    contenedor_texto.find('div', attrs={'class', 'toc'}).decompose()\n",
    "    return contenedor_texto\n",
    "\n",
    "def quitar_titulos(contenedor_texto):\n",
    "    for c in contenedor_texto.find_all('h2'):\n",
    "        c.decompose()    \n",
    "    for c in contenedor_texto.find_all('h3'):\n",
    "        c.decompose()\n",
    "    for c in contenedor_texto.find_all('h1'):\n",
    "        c.decompose()\n",
    "    return contenedor_texto\n",
    "\n",
    "def quitar_corchete(contenedor_texto):\n",
    "    for c in contenedor_texto.find_all('sup', {'class':'reference separada'}): \n",
    "        c.decompose()\n",
    "    return contenedor_texto\n",
    "\n",
    "def quitar_referencias(contenedor_texto):\n",
    "    for c in contenedor_texto.find_all('div', {'class':'listaref'}): \n",
    "        c.decompose()\n",
    "    return contenedor_texto\n",
    "\n",
    "def quitar_styles(contenedor_texto):\n",
    "    for c in contenedor_texto.find_all('style'): \n",
    "        c.decompose()\n",
    "    return contenedor_texto\n",
    "\n",
    "def quitar_elementos_intempestivos(contenedor_texto):\n",
    "    contenedor_texto = quitar_tablas(contenedor_texto)\n",
    "    contenedor_texto = quitar_indice(contenedor_texto)\n",
    "    contenedor_texto = quitar_titulos(contenedor_texto)\n",
    "    contenedor_texto = quitar_referencias(contenedor_texto)\n",
    "    contenedor_texto = quitar_corchete(contenedor_texto)\n",
    "    contenedor_texto = quitar_styles(contenedor_texto)  \n",
    "    return contenedor_texto"
   ]
  },
  {
   "cell_type": "code",
   "execution_count": 248,
   "metadata": {
    "scrolled": false
   },
   "outputs": [],
   "source": [
    "respuesta = requests.get(articleURL)\n",
    "pagina = BeautifulSoup(respuesta.text,\"html.parser\")\n",
    "\n",
    "contenedor_texto = obtener_contenedor_texto(pagina)\n",
    "documento_tempestivo = quitar_elementos_intempestivos(contenedor_texto)\n",
    "texto = documento_tempestivo.text\n",
    "texto = texto.replace('\\u200b', ' ').replace('\\n', ' ').replace('\\xa0000', ' ').replace('\\xa0', ' ').replace('↑','')"
   ]
  },
  {
   "cell_type": "markdown",
   "metadata": {},
   "source": [
    "## Convertir el texto a minúsculas"
   ]
  },
  {
   "cell_type": "code",
   "execution_count": 244,
   "metadata": {},
   "outputs": [],
   "source": [
    "texto = texto.lower()"
   ]
  },
  {
   "cell_type": "markdown",
   "metadata": {},
   "source": [
    "## Eliminar las palabras de parada junto con los signos de puntuación"
   ]
  },
  {
   "cell_type": "code",
   "execution_count": 252,
   "metadata": {},
   "outputs": [],
   "source": [
    "# Obtener las palabras de parada y los signos de puntuacion en una sola lista\n",
    "palabras_parada = nltk.corpus.stopwords.words('spanish')\n",
    "signos_puntuacion = list(string.punctuation)\n",
    "palabras_intempestivas = set( palabras_parada + signos_puntuacion)\n",
    "# Tokenizar el texto\n",
    "texto_tokenisado = nltk.word_tokenize(texto)\n",
    "# Eliminamos las palabras de parada del texto\n",
    "texto_sin_palabras_de_parada = [p for p in texto_tokenisado if p not in palabras_intempestivas]"
   ]
  },
  {
   "cell_type": "markdown",
   "metadata": {},
   "source": [
    "## Obtener una lista ordenada ascendentemente con las 10 palabras que más aparecen el en texto"
   ]
  },
  {
   "cell_type": "code",
   "execution_count": 260,
   "metadata": {},
   "outputs": [
    {
     "data": {
      "text/plain": [
       "['marzo',\n",
       " 'casos',\n",
       " 'El',\n",
       " 'años',\n",
       " 'Cruz',\n",
       " 'Bolivia',\n",
       " 'caso',\n",
       " 'ciudad',\n",
       " 'Santa',\n",
       " 'Se']"
      ]
     },
     "execution_count": 260,
     "metadata": {},
     "output_type": "execute_result"
    }
   ],
   "source": [
    "# Tekenizar el texto según las palabras\n",
    "count_by_token = collections.Counter(texto_sin_palabras_de_parada)\n",
    "# Obtener la lista ordenada de frecuencias\n",
    "frequency = [k for k, v in sorted(count_by_token.items(), key=lambda item: item[1], reverse=True)]\n",
    "# Filtrar los últimos 10 resultados\n",
    "frequency[0:10]"
   ]
  }
 ],
 "metadata": {
  "kernelspec": {
   "display_name": "Python 3",
   "language": "python",
   "name": "python3"
  },
  "language_info": {
   "codemirror_mode": {
    "name": "ipython",
    "version": 3
   },
   "file_extension": ".py",
   "mimetype": "text/x-python",
   "name": "python",
   "nbconvert_exporter": "python",
   "pygments_lexer": "ipython3",
   "version": "3.7.4"
  }
 },
 "nbformat": 4,
 "nbformat_minor": 1
}

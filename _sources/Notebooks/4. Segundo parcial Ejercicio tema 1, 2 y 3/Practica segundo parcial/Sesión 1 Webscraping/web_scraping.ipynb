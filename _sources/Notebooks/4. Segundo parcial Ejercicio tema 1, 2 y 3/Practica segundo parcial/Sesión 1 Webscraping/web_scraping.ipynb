{
 "cells": [
  {
   "cell_type": "markdown",
   "metadata": {},
   "source": [
    "Web Scraping: extraer datos del contenido HTML de un sitio web\n",
    "\n",
    "Realizar ese proceso contenido no autorizado por el autor es ilegal!!"
   ]
  },
  {
   "cell_type": "markdown",
   "metadata": {},
   "source": [
    "<a href=\"https://es.wikipedia.org/wiki/Web_scraping\" target=\"_blank\">Web scraping</a></br>\n",
    "<a href=\"https://es.wikipedia.org/wiki/Est%C3%A1ndar_de_exclusi%C3%B3n_de_robots\" target=\"_blank\">Estándar de exclusión de robots</a></br>\n",
    "<a href=\"https://www.imperva.com/learn/application-security/web-scraping-attack/\" target=\"_blank\">What is web scraping</a></br>\n",
    "<a href=\"https://www.octoparse.com/blog/5-things-you-need-to-know-before-scraping-data-from-facebook\" target=\"_blank\">5 Things You Need to Know Before Scraping Data From Facebook</a></br>\n",
    "<a href=\"https://www.crummy.com/software/BeautifulSoup/bs4/doc/\" target=\"_blank\">Beautiful Soup Documentation</a></br>"
   ]
  },
  {
   "cell_type": "code",
   "execution_count": 2,
   "metadata": {},
   "outputs": [],
   "source": [
    "#https://archive.ics.uci.edu/ml/datasets/auto+mpg\n",
    "#Auto MPG Data Set\n",
    "#Inciar el servidor web localmente: \n",
    "#python -m http.server\n",
    "import requests\n",
    "respuesta = requests.get(\"http://localhost:8000/auto_mpg.html\")"
   ]
  },
  {
   "cell_type": "code",
   "execution_count": 3,
   "metadata": {},
   "outputs": [],
   "source": [
    "#Importar la clase BeautifulSoup del m\n",
    "from bs4 import BeautifulSoup\n",
    "pagina = BeautifulSoup(respuesta.text, \"html.parser\" )\n",
    "#pagina?\n",
    "#print(pagina.prettify())\n",
    "#Demo. Chrome Developer Tools: Explorar la estructura de la página para identificar los elementos que contienen los datos\n"
   ]
  },
  {
   "cell_type": "code",
   "execution_count": 10,
   "metadata": {},
   "outputs": [
    {
     "name": "stdout",
     "output_type": "stream",
     "text": [
      "<div class=\"car_block\" id=\"car-1\">\n",
      " <span class=\"car_name\">\n",
      "  Chevrolet Chevelle Malibu\n",
      " </span>\n",
      " <span class=\"from\">\n",
      "  (1970, USA)\n",
      " </span>\n",
      " <br/>\n",
      " Achieves\n",
      " <span class=\"mpg\">\n",
      "  18.0 mpg\n",
      " </span>\n",
      " with\n",
      " <span class=\"cylinders\">\n",
      "  8\n",
      " </span>\n",
      " cylinders backed by\n",
      " <span class=\"horsepower\">\n",
      "  130\n",
      " </span>\n",
      " hp, 307.0 cubic inches of displacement, weighing\n",
      " <span class=\"weight\">\n",
      "  3,504\n",
      " </span>\n",
      " lbs with 0-60 mph acceleration in\n",
      " <span class=\"acceleration\">\n",
      "  12.0\n",
      " </span>\n",
      " seconds\n",
      "</div>\n",
      "\n"
     ]
    }
   ],
   "source": [
    "#print(pagina.body)\n",
    "#print(pagina.body.find(name=\"div\", attrs={\"id\":\"car-1\"}())\n",
    "#print(len(pagina.body.find_all(name=\"div\", attrs={\"class\":\"car_block\"})))\n",
    "#print(pagina.body.find_all(name=\"div\", attrs={\"class\":\"car_block\"})[0])\n",
    "car_divs = pagina.body.find_all(name=\"div\", attrs={\"class\":\"car_block\"})\n",
    "div = car_divs[0]\n",
    "#print(div.prettify())\n",
    "#print(div)\n",
    "#print(div.text) #Sin elementos HTML  :)\n",
    "#print(div.stripped_strings) #generador, similar a un iterable\n",
    "#print(list(div.stripped_strings))"
   ]
  },
  {
   "cell_type": "code",
   "execution_count": 69,
   "metadata": {},
   "outputs": [
    {
     "data": {
      "text/plain": [
       "'18.0'"
      ]
     },
     "execution_count": 69,
     "metadata": {},
     "output_type": "execute_result"
    }
   ],
   "source": [
    "#div.find_all(\"span\")\n",
    "div.find(\"span\", attrs={\"class\":\"mpg\"}).text\n",
    "div.find(\"span\", attrs={\"class\":\"mpg\"}).text.split(\" \")[0]"
   ]
  },
  {
   "cell_type": "code",
   "execution_count": 11,
   "metadata": {},
   "outputs": [
    {
     "name": "stdout",
     "output_type": "stream",
     "text": [
      "<div class=\"car_block\" id=\"car-1\">\n",
      " <span class=\"car_name\">\n",
      "  Chevrolet Chevelle Malibu\n",
      " </span>\n",
      " <span class=\"from\">\n",
      "  (1970, USA)\n",
      " </span>\n",
      " <br/>\n",
      " Achieves\n",
      " <span class=\"mpg\">\n",
      "  18.0 mpg\n",
      " </span>\n",
      " with\n",
      " <span class=\"cylinders\">\n",
      "  8\n",
      " </span>\n",
      " cylinders backed by\n",
      " <span class=\"horsepower\">\n",
      "  130\n",
      " </span>\n",
      " hp, 307.0 cubic inches of displacement, weighing\n",
      " <span class=\"weight\">\n",
      "  3,504\n",
      " </span>\n",
      " lbs with 0-60 mph acceleration in\n",
      " <span class=\"acceleration\">\n",
      "  12.0\n",
      " </span>\n",
      " seconds\n",
      "</div>\n",
      "\n"
     ]
    },
    {
     "data": {
      "text/plain": [
       "'307.0'"
      ]
     },
     "execution_count": 11,
     "metadata": {},
     "output_type": "execute_result"
    }
   ],
   "source": [
    "print(div.prettify())\n",
    "import re\n",
    "re.findall(r'.* (\\d+.\\d+) cubic inches', div.text)[0]\n",
    "#Continuar experimentando estrategias para extraer datos\n",
    "#Finalmente, crear funciones para cada item de datos y procesar los elementos que contienen loa datos"
   ]
  },
  {
   "cell_type": "code",
   "execution_count": 4,
   "metadata": {},
   "outputs": [
    {
     "name": "stdout",
     "output_type": "stream",
     "text": [
      "Se extraido 406 filas\n",
      "{'nombre': 'Chevrolet Chevelle Malibu', 'cilindros': 8, 'peso': 3504, 'anio': 1970, 'territorio': 'USA', 'aceleracion': 12.0, 'mpg': 18.0, 'caballos_potencia': 130.0, 'desplazamiento': 307.0}\n",
      "{'nombre': 'Chevy S-10', 'cilindros': 4, 'peso': 2720, 'anio': 1982, 'territorio': 'USA', 'aceleracion': 19.4, 'mpg': 31.0, 'caballos_potencia': 82.0, 'desplazamiento': 119.0}\n"
     ]
    }
   ],
   "source": [
    "#Proceso extraccion\n",
    "import csv\n",
    "import re\n",
    "import requests\n",
    "from bs4 import BeautifulSoup\n",
    "\n",
    "def extraer_territorio_anio(div_automovil):\n",
    "    str_from = div_automovil.find(\"span\", attrs={\"class\":\"from\"}).text\n",
    "    anio, territorio = str_from.strip('()').split(',')\n",
    "    anio = int(anio.strip())\n",
    "    territorio = territorio.strip()\n",
    "    return territorio, anio\n",
    "\n",
    "def extraer_mpg(div_automovil):\n",
    "    mpg_str = div_automovil.find(\"span\", attrs={\"class\":\"mpg\"}).text\n",
    "    try:\n",
    "        mpg = float(mpg_str.split(' ')[0])\n",
    "    except ValueError:\n",
    "        mpg = \"NULL\"\n",
    "    return mpg\n",
    "\n",
    "def extraer_caballos_potencia(div_automovil):\n",
    "    caballos_potencia_str = div_automovil.find('span', class_='horsepower').text\n",
    "    try:\n",
    "        caballos_potencia = float(caballos_potencia_str)\n",
    "    except ValueError:\n",
    "        caballos_potencia = \"NULL\"\n",
    "    return caballos_potencia\n",
    "\n",
    "def extraer_desplazamiento(div_automovil_text):\n",
    "    str_desplazamiento = re.findall(r'.* (\\d+.\\d+) cubic inches', div_automovil_text)[0]\n",
    "    desplazamiento = float(str_desplazamiento)\n",
    "    return desplazamiento  \n",
    "\n",
    "def extraer_datos(div_automovil):\n",
    "    nombre = div_automovil.find('span', class_='car_name').text\n",
    "    str_cilindros = div_automovil.find('span', class_='cylinders').text\n",
    "    cilindros = int(str_cilindros)\n",
    "    str_peso = div_automovil.find('span', class_='weight').text\n",
    "    peso = int(str_peso.replace(',', ''))\n",
    "    territorio, anio = extraer_territorio_anio(div_automovil)\n",
    "    aceleracion = float(div_automovil.find('span', class_='acceleration').text)\n",
    "    mpg = extraer_mpg(div_automovil)\n",
    "    caballos_potencia = extraer_caballos_potencia(div_automovil)\n",
    "    desplazamiento = extraer_desplazamiento(div_automovil.text)\n",
    "    fila = dict(nombre=nombre,\n",
    "               cilindros=cilindros,\n",
    "               peso=peso,\n",
    "               anio=anio,\n",
    "               territorio=territorio,\n",
    "               aceleracion=aceleracion,\n",
    "               mpg=mpg,\n",
    "               caballos_potencia=caballos_potencia,\n",
    "               desplazamiento=desplazamiento)\n",
    "    return fila\n",
    "\n",
    "def extraer_datos_automoviles(pagina):\n",
    "    \"\"\"Extract information from repeated divisions\"\"\"\n",
    "    divs_automoviles = pagina.body.find_all(name=\"div\", attrs={\"class\":\"car_block\"})\n",
    "    filas = []\n",
    "    for div_automovil in divs_automoviles:\n",
    "        fila = extraer_datos(div_automovil)\n",
    "        filas.append(fila)\n",
    "    print(f\"Se extraido {len(filas)} filas\")\n",
    "    print(filas[0])\n",
    "    print(filas[-1])\n",
    "\n",
    "    with open(\"datos_automoviles.csv\", \"w\") as f:\n",
    "        writer = csv.DictWriter(f, fieldnames=fila.keys())\n",
    "        writer.writeheader()\n",
    "        writer.writerows(filas)\n",
    "        \n",
    "respuesta = requests.get(\"http://localhost:8000/auto_mpg.html\")\n",
    "pagina = BeautifulSoup(respuesta.text, \"html.parser\" )\n",
    "extraer_datos_automoviles(pagina)"
   ]
  }
 ],
 "metadata": {
  "kernelspec": {
   "display_name": "Python 3",
   "language": "python",
   "name": "python3"
  },
  "language_info": {
   "codemirror_mode": {
    "name": "ipython",
    "version": 3
   },
   "file_extension": ".py",
   "mimetype": "text/x-python",
   "name": "python",
   "nbconvert_exporter": "python",
   "pygments_lexer": "ipython3",
   "version": "3.7.3"
  }
 },
 "nbformat": 4,
 "nbformat_minor": 2
}

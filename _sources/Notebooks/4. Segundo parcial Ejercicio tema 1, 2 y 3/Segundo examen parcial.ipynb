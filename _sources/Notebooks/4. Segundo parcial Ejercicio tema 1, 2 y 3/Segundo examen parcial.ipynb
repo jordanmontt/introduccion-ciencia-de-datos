{
 "cells": [
  {
   "cell_type": "code",
   "execution_count": 187,
   "metadata": {},
   "outputs": [],
   "source": [
    "#Habilitar intellisense\n",
    "%config IPCompleter.greedy=True"
   ]
  },
  {
   "cell_type": "markdown",
   "metadata": {},
   "source": [
    "## Enunciado\n",
    "La prueba consiste en completar el código marcado con **#FIXME** para obtener automáticamente el resumen de un texto.\n",
    "\n",
    "La decripción general de las reglas/algoritmo:\n",
    "\n",
    "- Identificar las frecuencias de las palabras en el texto.\n",
    "- Obtener las oraciones/párrafos en el texto.\n",
    "- Obtener un score para cada oración/párrafo que indique su importancia en el texto, tendrán mayor score aquellas oraciones que incluyan las palabras con mayor frecuencia.\n",
    "- Seleccionar las 3 oraciones con el score más alto para construir el resumen."
   ]
  },
  {
   "cell_type": "code",
   "execution_count": 188,
   "metadata": {},
   "outputs": [],
   "source": [
    "import urllib3\n",
    "from bs4 import BeautifulSoup\n",
    "from nltk.tokenize import sent_tokenize,word_tokenize\n",
    "from nltk.corpus import stopwords\n",
    "from nltk.probability import FreqDist\n",
    "from string import punctuation\n",
    "from collections import defaultdict\n",
    "import collections\n",
    "from heapq import nlargest\n",
    "import unicodedata\n",
    "\n",
    "http = urllib3.PoolManager()"
   ]
  },
  {
   "cell_type": "code",
   "execution_count": 189,
   "metadata": {},
   "outputs": [],
   "source": [
    "articleURL = \"https://www.muyinteresante.es/naturaleza/video/objetivo-2030-proteger-el-30-de-la-tierra-751579255112\""
   ]
  },
  {
   "cell_type": "code",
   "execution_count": 190,
   "metadata": {},
   "outputs": [],
   "source": [
    "import requests\n",
    "respuesta = requests.get(articleURL) \n",
    "soup = BeautifulSoup(respuesta.text,\"html.parser\")"
   ]
  },
  {
   "cell_type": "code",
   "execution_count": 191,
   "metadata": {},
   "outputs": [],
   "source": [
    "text_containers = soup.body.find_all(name='div', class_='paragraph--text')"
   ]
  },
  {
   "cell_type": "code",
   "execution_count": null,
   "metadata": {},
   "outputs": [],
   "source": []
  },
  {
   "cell_type": "code",
   "execution_count": 211,
   "metadata": {
    "scrolled": true
   },
   "outputs": [
    {
     "data": {
      "text/plain": [
       "'El Convenio de la Organización de las Naciones Unidas (ONU) sobre Diversidad Biológica acaba de presentar el primer borrador de lo que será su hoja de ruta para los próximos diez años. El objetivo es tan ambicioso como necesario: proteger cerca de un tercio de la superficie total del planeta, incluyendo ecosistemas tanto terrestres como acuáticos.\\nEn 2019, la Plataforma Intergubernamental sobre la Biodiversidad y los Servicios Ecosistémicos (IPBES) presentaba un demoledor informe sobre el estado de la biodiversidad a nivel mundial que indicaba que en el mundo hay en torno a un millón de especies en peligro, y que las tasas de extinción se están acelerando a un ritmo sin precedentes como consecuencia de las actividades humanas. Algunos expertos ya consideran, de hecho, de que estamos viviendo la sexta extinción masiva.\\nEsta enorme pérdida de biodiversidad tiene consecuencias graves para los ecosistemas, pero también para el bienestar humano. Por ejemplo, un artículo publicado en la revista Nature en el año 2010 alertaba de que la desaparición de especies eleva la aparición y transmisión de enfermedades infecciosas. Los autores mencionaban el caso de la enfermedad de Lyme, cuya incidencia es mayor en los ecosistemas en los que se ha reducido la biodiversidad.\\nEl denominado “borrador preliminar del marco mundial de la diversidad biológica posterior a 2020” que acaba de ser presentado por la ONU incluye veinte metas orientadas a la acción para 2030 orientadas a objetivos como reducir las amenazas a la biodiversidad y satisfacer las necesidades de las personas a través de la utilización sostenible y la participación en los beneficios.\\nAdemás de proteger al menos el 30% de la superficie terrestre y marina, el documento indica que al menos un 10% de la misma debería estar sujeta a protección estricta. Otras de las metas enunciadas se refieren al control de las vías de introducción de especies exóticas invasoras, a la reducción de la contaminación por exceso de nutrientes, biocidas y deshechos plásticos, a la mitigación y adaptación al cambio climático y a la regulación de la recolección y comercio de especies.\\n\\xa0\\nEn octubre de 2020 tendrá lugar en Kunming (China) la COP15 del Convenio de las Naciones Unidas sobre Diversidad Biológica, en la que se revisará el resultado de las acciones encaminadas a cumplir los objetivos para el decenio 2010-2020 y se adoptarán decisiones en función de las recomendaciones del borrador marco, que se irá actualizando a lo largo de este año en sucesivas reuniones del grupo de trabajo.\\n“Este acuerdo global ofrecerá una oportunidad incomparable para avanzar en el progreso en la conservación, restauración y uso sostenible de la biodiversidad, al tiempo que fortalecerá los vínculos existentes entre biodiversidad, cambio climático y desarrollo sostenible”, indicaba una nota de prensa publicada por el organismo en diciembre de 2019.\\nA largo plazo, “la visión del Marco es la de un mundo en el que se vive en armonía con la naturaleza donde, para 2050, la diversidad biológica se valora, conserva, restaura y utiliza en forma racional, manteniendo los servicios de los ecosistemas, sosteniendo un planeta sano y brindando beneficios esenciales para todas las personas”, indica el documento.\\nQueda por ver si, más allá de las intenciones y las palabras bonitas, los objetivos de este documento se plasman en hechos reales. Como sucede con todos los acuerdos internacionales, el Convenio sobre Diversidad Biológica (CDB) es una herramienta con un funcionamiento institucional muy complejo. “Se da el hecho que en los procesos de toma de decisiones a menudo los representantes de los Estados son personas de perfil político con un conocimiento técnico escaso de la situación de la biodiversidad y las consecuencias de no actuar, cuando no son representantes de Ministerios de asuntos exteriores, economía o comercio de sus respectivos países”, reflexionaba \\xa0Jaume Grau López, biólogo y Coordinador del Área de Conservación de la Naturaleza de Ecologistas en Acción, en una artículo publicado en 2013 en la revista Ecología Política. “Asimismo, la capacidad de influencia y negociación en el seno del CDB se ve condicionada por los recursos económicos y humanos que cada país puede disponer para la participación en las múltiples reuniones que se producen por los cinco continentes cada año”.\\nEl tiempo apremia, y la sociedad civil espera resultados concretos de estas grandes reuniones. Veremos qué sucede en los próximos años.\\n\\xa0\\n'"
      ]
     },
     "execution_count": 211,
     "metadata": {},
     "output_type": "execute_result"
    }
   ],
   "source": [
    "#El valor de la variable text debe ser una cadena con los párrafos separados por '\\n'\n",
    "text = '';\n",
    "for tc in text_containers:\n",
    "    p_containers = tc.find_all(name='p')\n",
    "    for p in p_containers:\n",
    "        text = text + p.text + '\\n'\n",
    "text = text[26:]\n",
    "text"
   ]
  },
  {
   "cell_type": "code",
   "execution_count": 215,
   "metadata": {},
   "outputs": [
    {
     "name": "stdout",
     "output_type": "stream",
     "text": [
      "El Convenio de la Organización de las Naciones Unidas (ONU) sobre Diversidad Biológica acaba de presentar el primer borrador de lo que será su hoja de ruta para los próximos diez años. El objetivo es tan ambicioso como necesario: proteger cerca de un tercio de la superficie total del planeta, incluyendo ecosistemas tanto terrestres como acuáticos.\n",
      "En 2019, la Plataforma Intergubernamental sobre la Biodiversidad y los Servicios Ecosistémicos (IPBES) presentaba un demoledor informe sobre el estado de la biodiversidad a nivel mundial que indicaba que en el mundo hay en torno a un millón de especies en peligro, y que las tasas de extinción se están acelerando a un ritmo sin precedentes como consecuencia de las actividades humanas. Algunos expertos ya consideran, de hecho, de que estamos viviendo la sexta extinción masiva.\n",
      "Esta enorme pérdida de biodiversidad tiene consecuencias graves para los ecosistemas, pero también para el bienestar humano. Por ejemplo, un artículo publicado en la revista Nature en el año 2010 alertaba de que la desaparición de especies eleva la aparición y transmisión de enfermedades infecciosas. Los autores mencionaban el caso de la enfermedad de Lyme, cuya incidencia es mayor en los ecosistemas en los que se ha reducido la biodiversidad.\n",
      "El denominado “borrador preliminar del marco mundial de la diversidad biológica posterior a 2020” que acaba de ser presentado por la ONU incluye veinte metas orientadas a la acción para 2030 orientadas a objetivos como reducir las amenazas a la biodiversidad y satisfacer las necesidades de las personas a través de la utilización sostenible y la participación en los beneficios.\n",
      "Además de proteger al menos el 30% de la superficie terrestre y marina, el documento indica que al menos un 10% de la misma debería estar sujeta a protección estricta. Otras de las metas enunciadas se refieren al control de las vías de introducción de especies exóticas invasoras, a la reducción de la contaminación por exceso de nutrientes, biocidas y deshechos plásticos, a la mitigación y adaptación al cambio climático y a la regulación de la recolección y comercio de especies.\n",
      " \n",
      "En octubre de 2020 tendrá lugar en Kunming (China) la COP15 del Convenio de las Naciones Unidas sobre Diversidad Biológica, en la que se revisará el resultado de las acciones encaminadas a cumplir los objetivos para el decenio 2010-2020 y se adoptarán decisiones en función de las recomendaciones del borrador marco, que se irá actualizando a lo largo de este año en sucesivas reuniones del grupo de trabajo.\n",
      "“Este acuerdo global ofrecerá una oportunidad incomparable para avanzar en el progreso en la conservación, restauración y uso sostenible de la biodiversidad, al tiempo que fortalecerá los vínculos existentes entre biodiversidad, cambio climático y desarrollo sostenible”, indicaba una nota de prensa publicada por el organismo en diciembre de 2019.\n",
      "A largo plazo, “la visión del Marco es la de un mundo en el que se vive en armonía con la naturaleza donde, para 2050, la diversidad biológica se valora, conserva, restaura y utiliza en forma racional, manteniendo los servicios de los ecosistemas, sosteniendo un planeta sano y brindando beneficios esenciales para todas las personas”, indica el documento.\n",
      "Queda por ver si, más allá de las intenciones y las palabras bonitas, los objetivos de este documento se plasman en hechos reales. Como sucede con todos los acuerdos internacionales, el Convenio sobre Diversidad Biológica (CDB) es una herramienta con un funcionamiento institucional muy complejo. “Se da el hecho que en los procesos de toma de decisiones a menudo los representantes de los Estados son personas de perfil político con un conocimiento técnico escaso de la situación de la biodiversidad y las consecuencias de no actuar, cuando no son representantes de Ministerios de asuntos exteriores, economía o comercio de sus respectivos países”, reflexionaba  Jaume Grau López, biólogo y Coordinador del Área de Conservación de la Naturaleza de Ecologistas en Acción, en una artículo publicado en 2013 en la revista Ecología Política. “Asimismo, la capacidad de influencia y negociación en el seno del CDB se ve condicionada por los recursos económicos y humanos que cada país puede disponer para la participación en las múltiples reuniones que se producen por los cinco continentes cada año”.\n",
      "El tiempo apremia, y la sociedad civil espera resultados concretos de estas grandes reuniones. Veremos qué sucede en los próximos años.\n",
      " \n",
      "\n"
     ]
    }
   ],
   "source": [
    "text = unicodedata.normalize(\"NFKD\",text) #replace \\xa0 with regular space\n",
    "print(text)"
   ]
  },
  {
   "cell_type": "code",
   "execution_count": 250,
   "metadata": {},
   "outputs": [],
   "source": [
    "def summarize(text, n):\n",
    "    sentences = sent_tokenize(text)\n",
    "    assert n <= len(sentences)\n",
    "    words = word_tokenize(text.lower())\n",
    "    \n",
    "    our_stopwords = set(stopwords.words('spanish') + list(punctuation) + ['“', '”'])\n",
    "    \n",
    "    words_without_stops=[word for word in words if word not in our_stopwords]\n",
    "    \n",
    "    #obtener un diccionario con la frecuencia de las palabras en words_without_stops\n",
    "    word_frequencies = collections.Counter(words_without_stops)\n",
    "    \n",
    "    #Obtener los scores para cada oración de acuerdo a la reglas anteriormente descritas\n",
    "    #sentence_scores es un diccionario con la posición/indice de cada párrafo y su score\n",
    "    \n",
    "    sentence_scores = defaultdict(int)\n",
    "    for i, sentence in enumerate(sentences):\n",
    "        peso = 0\n",
    "        for word in word_tokenize(sentence.lower()):\n",
    "            peso = peso + word_frequencies[word]\n",
    "        sentence_scores[i] = peso\n",
    "\n",
    "    sorted_sentence_scores = sorted(sentence_scores.items(), key=lambda item: item[1], reverse=True)\n",
    "    sentences_with_score = [{'index': k, 'score': v} for k, v in sorted_sentence_scores]\n",
    "    \n",
    "    best_sentences = sentences_with_score[:n]\n",
    "    indexes_of_the_highest_scores = [s['index'] for s in best_sentences]\n",
    "    \n",
    "    summary_sentences = []\n",
    "    for index in indexes_of_the_highest_scores:\n",
    "        summary_sentences.append(sentences[index])\n",
    "    return summary_sentences"
   ]
  },
  {
   "cell_type": "code",
   "execution_count": 251,
   "metadata": {},
   "outputs": [
    {
     "data": {
      "text/plain": [
       "['El denominado “borrador preliminar del marco mundial de la diversidad biológica posterior a 2020” que acaba de ser presentado por la ONU incluye veinte metas orientadas a la acción para 2030 orientadas a objetivos como reducir las amenazas a la biodiversidad y satisfacer las necesidades de las personas a través de la utilización sostenible y la participación en los beneficios.',\n",
       " '“Se da el hecho que en los procesos de toma de decisiones a menudo los representantes de los Estados son personas de perfil político con un conocimiento técnico escaso de la situación de la biodiversidad y las consecuencias de no actuar, cuando no son representantes de Ministerios de asuntos exteriores, economía o comercio de sus respectivos países”, reflexionaba  Jaume Grau López, biólogo y Coordinador del Área de Conservación de la Naturaleza de Ecologistas en Acción, en una artículo publicado en 2013 en la revista Ecología Política.',\n",
       " 'En octubre de 2020 tendrá lugar en Kunming (China) la COP15 del Convenio de las Naciones Unidas sobre Diversidad Biológica, en la que se revisará el resultado de las acciones encaminadas a cumplir los objetivos para el decenio 2010-2020 y se adoptarán decisiones en función de las recomendaciones del borrador marco, que se irá actualizando a lo largo de este año en sucesivas reuniones del grupo de trabajo.']"
      ]
     },
     "execution_count": 251,
     "metadata": {},
     "output_type": "execute_result"
    }
   ],
   "source": [
    "summarize(text,3)"
   ]
  },
  {
   "cell_type": "code",
   "execution_count": null,
   "metadata": {},
   "outputs": [],
   "source": []
  }
 ],
 "metadata": {
  "kernelspec": {
   "display_name": "Python 3",
   "language": "python",
   "name": "python3"
  },
  "language_info": {
   "codemirror_mode": {
    "name": "ipython",
    "version": 3
   },
   "file_extension": ".py",
   "mimetype": "text/x-python",
   "name": "python",
   "nbconvert_exporter": "python",
   "pygments_lexer": "ipython3",
   "version": "3.7.6"
  }
 },
 "nbformat": 4,
 "nbformat_minor": 1
}
